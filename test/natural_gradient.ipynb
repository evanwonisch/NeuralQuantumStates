{
 "cells": [
  {
   "cell_type": "code",
   "execution_count": 363,
   "metadata": {},
   "outputs": [],
   "source": [
    "import sys\n",
    "sys.path.insert(0, \"../\")\n",
    "\n",
    "import jax\n",
    "import jax.numpy as jnp\n",
    "\n",
    "import jax.scipy\n",
    "import jax.scipy.special\n",
    "\n",
    "from tqdm import tqdm\n",
    "from functools import partial\n",
    "\n",
    "import module.samplers\n",
    "import module.hamiltonians\n",
    "import module.wavefunctions\n",
    "\n",
    "import flax.linen as nn\n",
    "\n",
    "import optax\n",
    "import numpy as np\n",
    "from matplotlib import pyplot as plt"
   ]
  },
  {
   "cell_type": "code",
   "execution_count": 364,
   "metadata": {},
   "outputs": [],
   "source": [
    "key = jax.random.PRNGKey(0)"
   ]
  },
  {
   "cell_type": "code",
   "execution_count": 365,
   "metadata": {},
   "outputs": [],
   "source": [
    "def getLine(phi, theta, r_max = 10):\n",
    "    r = jnp.linspace(-r_max, r_max, num = 2000)\n",
    "    x = jnp.cos(phi)*jnp.sin(theta) * r\n",
    "    y = jnp.sin(phi)*jnp.sin(theta) * r\n",
    "    z = jnp.cos(theta) * r\n",
    "\n",
    "    return r, jnp.stack((x,y,z), axis = 1)"
   ]
  },
  {
   "cell_type": "code",
   "execution_count": 392,
   "metadata": {},
   "outputs": [],
   "source": [
    "class Ansatz(module.wavefunctions.Wavefunction):\n",
    "    def __init__(self):\n",
    "        super().__init__(input_shape = (1,))\n",
    "\n",
    "    def init_param(self, key):\n",
    "        return jnp.array([0.,1.])\n",
    "    \n",
    "    def calc_logpsi(self, parameters, x):\n",
    "        a = -0.5*jnp.log(2*jnp.pi)  -(x-parameters[0])**2*parameters[1]**2/2\n",
    "        return jnp.squeeze(a/2)"
   ]
  },
  {
   "cell_type": "code",
   "execution_count": 393,
   "metadata": {},
   "outputs": [],
   "source": [
    "ansatz = Ansatz()\n",
    "key, _ = jax.random.split(key)\n",
    "param = ansatz.init_param(key)"
   ]
  },
  {
   "cell_type": "code",
   "execution_count": 396,
   "metadata": {},
   "outputs": [],
   "source": [
    "param = jnp.array([0,2])"
   ]
  },
  {
   "cell_type": "code",
   "execution_count": 397,
   "metadata": {},
   "outputs": [
    {
     "name": "stdout",
     "output_type": "stream",
     "text": [
      "0.49950007\n"
     ]
    },
    {
     "data": {
      "image/png": "[encoded data removed]",
      "text/plain": [
       "<Figure size 640x480 with 1 Axes>"
      ]
     },
     "metadata": {},
     "output_type": "display_data"
    }
   ],
   "source": [
    "r = jnp.linspace(-10,10, num = 1000)\n",
    "line = jnp.expand_dims(r, axis= 1)\n",
    "psi = ansatz.calc_logpsi(param, line)\n",
    "\n",
    "plt.plot(r, jnp.exp(psi)**2, label = \"Ansatz\")\n",
    "\n",
    "print(jnp.sum(jnp.exp(psi)**2)*20/1000)"
   ]
  },
  {
   "cell_type": "code",
   "execution_count": 398,
   "metadata": {},
   "outputs": [],
   "source": [
    "sampler = module.samplers.MCMCsimple(ansatz, 0.5)"
   ]
  },
  {
   "cell_type": "code",
   "execution_count": 399,
   "metadata": {},
   "outputs": [],
   "source": [
    "subsampling = 20"
   ]
  },
  {
   "cell_type": "code",
   "execution_count": 400,
   "metadata": {},
   "outputs": [],
   "source": [
    "def get_samples(N):\n",
    "    \"\"\"\n",
    "    Returns decorrelated samples.\n",
    "    \"\"\"\n",
    "    samples, ratio = sampler.sample(key, param, jax.random.normal(key, shape = (1,)) + param[0], N*subsampling)\n",
    "    return samples[0:-1:subsampling], ratio"
   ]
  },
  {
   "cell_type": "code",
   "execution_count": 401,
   "metadata": {},
   "outputs": [],
   "source": [
    "def eval_S1(orbital, parameters, samples, v):\n",
    "    f = lambda param: orbital.calc_logpsi(param, samples)\n",
    "    N = samples.shape[0]\n",
    "    a = jax.jvp(f, (parameters,), (v,))[1]\n",
    "    b = jax.vjp(f, parameters)[1](a)[0]\n",
    "    return 1/N * b\n",
    "\n",
    "def eval_S2(orbital, parameters, samples, v):\n",
    "    f = lambda param: orbital.calc_logpsi(param, samples)\n",
    "    N = samples.shape[0]\n",
    "    e = jnp.ones(N)\n",
    "    a = jnp.sum(jax.jvp(f, (parameters,), (v,))[1])\n",
    "    b = jax.vjp(f, parameters)[1](e)[0]\n",
    "    return  1/N**2 * a * b\n",
    "\n",
    "@partial(jax.jit, static_argnames=['orbital'])\n",
    "def eval_S(orbital, parameters, samples, v):\n",
    "    s1 = eval_S1(orbital, parameters, samples, v)\n",
    "    s2 = eval_S2(orbital, parameters, samples, v)\n",
    "    return s1 - s2"
   ]
  },
  {
   "cell_type": "code",
   "execution_count": 412,
   "metadata": {},
   "outputs": [],
   "source": [
    "param = jnp.array([5., 0.5])\n",
    "key, _ = jax.random.split(key)\n",
    "samples, r = get_samples(300000)"
   ]
  },
  {
   "cell_type": "code",
   "execution_count": 413,
   "metadata": {},
   "outputs": [
    {
     "data": {
      "text/plain": [
       "Array([[ 0.06253696, -0.00304098],\n",
       "       [-0.00304098,  2.010976  ]], dtype=float32)"
      ]
     },
     "execution_count": 413,
     "metadata": {},
     "output_type": "execute_result"
    }
   ],
   "source": [
    "jnp.stack((eval_S(ansatz, param, samples, jnp.array([1., 0.])), eval_S(ansatz, param, samples, jnp.array([0., 1.]))))"
   ]
  },
  {
   "cell_type": "code",
   "execution_count": 419,
   "metadata": {},
   "outputs": [
    {
     "data": {
      "text/plain": [
       "Array([[ 6.9540431e-07, -8.3441153e-04],\n",
       "       [-8.3441148e-04,  1.0012053e+00]], dtype=float32)"
      ]
     },
     "execution_count": 419,
     "metadata": {},
     "output_type": "execute_result"
    }
   ],
   "source": [
    "jnp.stack((eval_S2(ansatz, param, samples, jnp.array([1., 0.])), eval_S2(ansatz, param, samples, jnp.array([0., 1.]))))"
   ]
  },
  {
   "cell_type": "code",
   "execution_count": 416,
   "metadata": {},
   "outputs": [
    {
     "data": {
      "text/plain": [
       "3.0"
      ]
     },
     "execution_count": 416,
     "metadata": {},
     "output_type": "execute_result"
    }
   ],
   "source": [
    "3/4*(1/0.5)**2"
   ]
  },
  {
   "cell_type": "code",
   "execution_count": 418,
   "metadata": {},
   "outputs": [
    {
     "data": {
      "text/plain": [
       "Array([[ 0.06253766, -0.00387539],\n",
       "       [-0.00387539,  3.0121815 ]], dtype=float32)"
      ]
     },
     "execution_count": 418,
     "metadata": {},
     "output_type": "execute_result"
    }
   ],
   "source": [
    "jnp.stack((eval_S1(ansatz, param, samples, jnp.array([1., 0.])), eval_S1(ansatz, param, samples, jnp.array([0., 1.]))))"
   ]
  },
  {
   "cell_type": "code",
   "execution_count": null,
   "metadata": {},
   "outputs": [],
   "source": []
  }
 ],
 "metadata": {
  "kernelspec": {
   "display_name": "base",
   "language": "python",
   "name": "python3"
  },
  "language_info": {
   "codemirror_mode": {
    "name": "ipython",
    "version": 3
   },
   "file_extension": ".py",
   "mimetype": "text/x-python",
   "name": "python",
   "nbconvert_exporter": "python",
   "pygments_lexer": "ipython3",
   "version": "3.10.12"
  }
 },
 "nbformat": 4,
 "nbformat_minor": 2
}
