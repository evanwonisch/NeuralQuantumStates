{
 "cells": [
  {
   "cell_type": "code",
   "execution_count": 1,
   "metadata": {},
   "outputs": [
    {
     "name": "stderr",
     "output_type": "stream",
     "text": [
      "No GPU/TPU found, falling back to CPU. (Set TF_CPP_MIN_LOG_LEVEL=0 and rerun for more info.)\n"
     ]
    }
   ],
   "source": [
    "import optax\n",
    "import jax\n",
    "import jax.numpy as jnp\n",
    "\n",
    "def map_nested_fn(fn):\n",
    "  '''Recursively apply `fn` to the key-value pairs of a nested dict'''\n",
    "  def map_fn(nested_dict):\n",
    "    return {k: (map_fn(v) if isinstance(v, dict) else fn(k, v))\n",
    "            for k, v in nested_dict.items()}\n",
    "  return map_fn\n",
    "\n",
    "params = {'linear_1': {'w': jnp.zeros((5, 6)), 'b': jnp.zeros(5)},\n",
    "          'linear_2': {'w': jnp.zeros((6, 1)), 'b': jnp.zeros(1)}}\n",
    "gradients = jax.tree_util.tree_map(jnp.ones_like, params)  # dummy gradients\n",
    "\n",
    "label_fn = map_nested_fn(lambda k, _: k)\n",
    "tx = optax.multi_transform({'w': optax.adam(1.0), 'b': optax.sgd(1.0)},\n",
    "                           label_fn)\n",
    "state = tx.init(params)\n",
    "updates, new_state = tx.update(gradients, state, params)\n",
    "new_params = optax.apply_updates(params, updates)"
   ]
  },
  {
   "cell_type": "code",
   "execution_count": null,
   "metadata": {},
   "outputs": [],
   "source": []
  }
 ],
 "metadata": {
  "kernelspec": {
   "display_name": ".venv",
   "language": "python",
   "name": "python3"
  },
  "language_info": {
   "codemirror_mode": {
    "name": "ipython",
    "version": 3
   },
   "file_extension": ".py",
   "mimetype": "text/x-python",
   "name": "python",
   "nbconvert_exporter": "python",
   "pygments_lexer": "ipython3",
   "version": "3.8.10"
  }
 },
 "nbformat": 4,
 "nbformat_minor": 2
}
