{
 "cells": [
  {
   "cell_type": "code",
   "execution_count": 3,
   "metadata": {},
   "outputs": [
    {
     "name": "stderr",
     "output_type": "stream",
     "text": [
      "An NVIDIA GPU may be present on this machine, but a CUDA-enabled jaxlib is not installed. Falling back to cpu.\n"
     ]
    }
   ],
   "source": [
    "import sys\n",
    "sys.path.insert(0, \"../..\")\n",
    "\n",
    "import optax\n",
    "import jax\n",
    "import jax.numpy as jnp\n",
    "from functools import reduce\n",
    "import jax.numpy as np\n",
    "import jax.numpy as jnp\n",
    "from matplotlib import pyplot as plt\n",
    "import netket\n",
    "import jax.numpy as jnp\n",
    "import netket.jax\n",
    "from jax import jit\n",
    "import math\n",
    "from functools import partial\n",
    "import module.misc.atomic_orbitals as atom\n",
    "import module.wavefunctions"
   ]
  },
  {
   "cell_type": "markdown",
   "metadata": {},
   "source": [
    "## Make jvp and vjp for complex valued vectorial functions\n",
    "\n",
    "consider $f:\\mathbb{R}^n \\to \\mathbb{C}^m$\n",
    "\n",
    "### 1. jvp (jacobian vector product) (works already)\n",
    "takes a vector in $\\mathbb{R}^n$ and maps it to a complex vector in $\\mathbb{C}^m$."
   ]
  },
  {
   "cell_type": "code",
   "execution_count": 60,
   "metadata": {},
   "outputs": [
    {
     "name": "stdout",
     "output_type": "stream",
     "text": [
      "[[ 1.+0.j  0.+1.j]\n",
      " [-1.+0.j  0.+2.j]]\n"
     ]
    }
   ],
   "source": [
    "A = jnp.array([[1,1j],[-1,2j]])\n",
    "print(A)\n",
    "def f(x):\n",
    "    return A @ x"
   ]
  },
  {
   "cell_type": "code",
   "execution_count": 61,
   "metadata": {},
   "outputs": [
    {
     "name": "stdout",
     "output_type": "stream",
     "text": [
      "[ 1.+1.j -1.+2.j] [ 1.+1.j -1.+2.j]\n"
     ]
    }
   ],
   "source": [
    "out, D = jax.jvp(f, (jnp.array([1.,1.]),), (jnp.array([1.,1.], dtype = \"float64\"),))\n",
    "print(out, D)"
   ]
  },
  {
   "cell_type": "markdown",
   "metadata": {},
   "source": [
    "### 2. vjp (covector jacobian product)"
   ]
  },
  {
   "cell_type": "code",
   "execution_count": 69,
   "metadata": {},
   "outputs": [
    {
     "name": "stdout",
     "output_type": "stream",
     "text": [
      "[0.+0.j 0.+0.j]\n"
     ]
    }
   ],
   "source": [
    "out, D = netket.jax.vjp(f, jnp.array([0.,0.]))\n",
    "print(out)"
   ]
  },
  {
   "cell_type": "code",
   "execution_count": 71,
   "metadata": {},
   "outputs": [
    {
     "data": {
      "text/plain": [
       "(Array([ 1.-1.j, -2.+1.j], dtype=complex128),)"
      ]
     },
     "execution_count": 71,
     "metadata": {},
     "output_type": "execute_result"
    }
   ],
   "source": [
    "D(jnp.array([1.,1.j]))"
   ]
  },
  {
   "cell_type": "markdown",
   "metadata": {},
   "source": [
    "## Calculate the Hessian in a nice way"
   ]
  },
  {
   "cell_type": "code",
   "execution_count": 4,
   "metadata": {},
   "outputs": [],
   "source": [
    "def f(x):\n",
    "    return x[0]**2 + x[1]**2 + 1.j*x[2]**2"
   ]
  },
  {
   "cell_type": "code",
   "execution_count": 33,
   "metadata": {},
   "outputs": [],
   "source": [
    "x = jnp.array([5.,0.,0.])\n",
    "v = jnp.array([0.,0.,1.])"
   ]
  },
  {
   "cell_type": "code",
   "execution_count": 34,
   "metadata": {},
   "outputs": [
    {
     "name": "stdout",
     "output_type": "stream",
     "text": [
      "(25+0j)\n",
      "0j\n"
     ]
    }
   ],
   "source": [
    "primals, tangents = jax.jvp(f, (x,), (v,))\n",
    "print(primals)\n",
    "print(tangents)"
   ]
  },
  {
   "cell_type": "code",
   "execution_count": 35,
   "metadata": {},
   "outputs": [],
   "source": [
    "g = lambda x: jax.jvp(f, (x,), (v,))[1]\n",
    "primals, tangents = jax.jvp(g, (x,), (v,))"
   ]
  },
  {
   "cell_type": "code",
   "execution_count": 36,
   "metadata": {},
   "outputs": [
    {
     "data": {
      "text/plain": [
       "Array(0.+2.j, dtype=complex128)"
      ]
     },
     "execution_count": 36,
     "metadata": {},
     "output_type": "execute_result"
    }
   ],
   "source": [
    "tangents"
   ]
  },
  {
   "cell_type": "code",
   "execution_count": null,
   "metadata": {},
   "outputs": [],
   "source": [
    "# put together"
   ]
  },
  {
   "cell_type": "code",
   "execution_count": 68,
   "metadata": {},
   "outputs": [],
   "source": [
    "@partial(jax.jit, static_argnames=['f'])\n",
    "def _d2(f, x, v):\n",
    "    g = lambda x: jax.jvp(f, (x,), (v,))[1]\n",
    "    primals, tangents = jax.jvp(g, (x,), (v,))\n",
    "\n",
    "    return tangents\n",
    "\n",
    "_d2_ = jax.vmap(_d2, in_axes = [None, None, 0])\n",
    "\n",
    "\n",
    "@partial(jax.jit, static_argnames=['f'])\n",
    "def hessian(f, x):\n",
    "    return _d2(f, x, jnp.array([1.,0.,0.])) + _d2(f, x, jnp.array([0.,1.,0.])) + _d2(f, x, jnp.array([0.,0.,1.]))\n",
    "\n",
    "@partial(jax.jit, static_argnames=['f'])\n",
    "def hess_diag(f, x):\n",
    "    return _d2_(f, x, jax.nn.one_hot(jnp.arange(x.shape[0]), 3))"
   ]
  },
  {
   "cell_type": "code",
   "execution_count": 69,
   "metadata": {},
   "outputs": [
    {
     "data": {
      "text/plain": [
       "Array([2.+0.j, 2.+0.j, 0.+2.j], dtype=complex128)"
      ]
     },
     "execution_count": 69,
     "metadata": {},
     "output_type": "execute_result"
    }
   ],
   "source": [
    "hess_diag(f, x)"
   ]
  },
  {
   "cell_type": "code",
   "execution_count": 65,
   "metadata": {},
   "outputs": [
    {
     "data": {
      "text/plain": [
       "Array([[1., 0., 0.],\n",
       "       [0., 1., 0.],\n",
       "       [0., 0., 1.]], dtype=float64)"
      ]
     },
     "execution_count": 65,
     "metadata": {},
     "output_type": "execute_result"
    }
   ],
   "source": [
    "jax.nn.one_hot(jnp.arange(3), 3)"
   ]
  },
  {
   "cell_type": "code",
   "execution_count": null,
   "metadata": {},
   "outputs": [],
   "source": []
  },
  {
   "cell_type": "code",
   "execution_count": 45,
   "metadata": {},
   "outputs": [
    {
     "data": {
      "text/plain": [
       "Array(2.+0.j, dtype=complex128)"
      ]
     },
     "execution_count": 45,
     "metadata": {},
     "output_type": "execute_result"
    }
   ],
   "source": [
    "_d2(f, x, jnp.array([1.,0.,0.]))"
   ]
  },
  {
   "cell_type": "code",
   "execution_count": 47,
   "metadata": {},
   "outputs": [
    {
     "data": {
      "text/plain": [
       "Array(4.+2.j, dtype=complex128)"
      ]
     },
     "execution_count": 47,
     "metadata": {},
     "output_type": "execute_result"
    }
   ],
   "source": [
    "hessian(f, jnp.array([0.,0.,0.]))"
   ]
  },
  {
   "cell_type": "code",
   "execution_count": 48,
   "metadata": {},
   "outputs": [],
   "source": [
    "hessian_broad = jax.vmap(hessian, in_axes = [None, 0])"
   ]
  },
  {
   "cell_type": "code",
   "execution_count": 53,
   "metadata": {},
   "outputs": [
    {
     "data": {
      "text/plain": [
       "Array([4.+2.j, 4.+2.j, 4.+2.j, 4.+2.j], dtype=complex128)"
      ]
     },
     "execution_count": 53,
     "metadata": {},
     "output_type": "execute_result"
    }
   ],
   "source": [
    "hessian_broad(f, jnp.array([[0.,0.,0.],[0.,0.,0.],[0.,0.,0.],[0.,1.,0.]]))"
   ]
  },
  {
   "cell_type": "code",
   "execution_count": null,
   "metadata": {},
   "outputs": [],
   "source": []
  }
 ],
 "metadata": {
  "kernelspec": {
   "display_name": ".venv",
   "language": "python",
   "name": "python3"
  },
  "language_info": {
   "codemirror_mode": {
    "name": "ipython",
    "version": 3
   },
   "file_extension": ".py",
   "mimetype": "text/x-python",
   "name": "python",
   "nbconvert_exporter": "python",
   "pygments_lexer": "ipython3",
   "version": "3.10.12"
  }
 },
 "nbformat": 4,
 "nbformat_minor": 2
}
