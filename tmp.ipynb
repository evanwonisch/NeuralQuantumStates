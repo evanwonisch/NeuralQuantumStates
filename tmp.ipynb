{
 "cells": [
  {
   "cell_type": "code",
   "execution_count": 21,
   "metadata": {},
   "outputs": [],
   "source": [
    "import optax\n",
    "import jax\n",
    "import jax.numpy as jnp\n",
    "from functools import reduce\n",
    "import jax.numpy as np\n",
    "import jax.numpy as jnp\n",
    "from matplotlib import pyplot as plt"
   ]
  },
  {
   "cell_type": "code",
   "execution_count": 22,
   "metadata": {},
   "outputs": [],
   "source": [
    "def lagval(x, c, tensor=True):\n",
    "    \"\"\"\n",
    "    Evaluate a Laguerre series at points x.\n",
    "\n",
    "    If `c` is of length `n + 1`, this function returns the value:\n",
    "\n",
    "    .. math:: p(x) = c_0 * L_0(x) + c_1 * L_1(x) + ... + c_n * L_n(x)\n",
    "\n",
    "    The parameter `x` is converted to an array only if it is a tuple or a\n",
    "    list, otherwise it is treated as a scalar. In either case, either `x`\n",
    "    or its elements must support multiplication and addition both with\n",
    "    themselves and with the elements of `c`.\n",
    "\n",
    "    If `c` is a 1-D array, then `p(x)` will have the same shape as `x`.  If\n",
    "    `c` is multidimensional, then the shape of the result depends on the\n",
    "    value of `tensor`. If `tensor` is true the shape will be c.shape[1:] +\n",
    "    x.shape. If `tensor` is false the shape will be c.shape[1:]. Note that\n",
    "    scalars have shape (,).\n",
    "\n",
    "    Trailing zeros in the coefficients will be used in the evaluation, so\n",
    "    they should be avoided if efficiency is a concern.\n",
    "\n",
    "    Parameters\n",
    "    ----------\n",
    "    x : array_like, compatible object\n",
    "        If `x` is a list or tuple, it is converted to an ndarray, otherwise\n",
    "        it is left unchanged and treated as a scalar. In either case, `x`\n",
    "        or its elements must support addition and multiplication with\n",
    "        themselves and with the elements of `c`.\n",
    "    c : array_like\n",
    "        Array of coefficients ordered so that the coefficients for terms of\n",
    "        degree n are contained in c[n]. If `c` is multidimensional the\n",
    "        remaining indices enumerate multiple polynomials. In the two\n",
    "        dimensional case the coefficients may be thought of as stored in\n",
    "        the columns of `c`.\n",
    "    tensor : boolean, optional\n",
    "        If True, the shape of the coefficient array is extended with ones\n",
    "        on the right, one for each dimension of `x`. Scalars have dimension 0\n",
    "        for this action. The result is that every column of coefficients in\n",
    "        `c` is evaluated for every element of `x`. If False, `x` is broadcast\n",
    "        over the columns of `c` for the evaluation.  This keyword is useful\n",
    "        when `c` is multidimensional. The default value is True.\n",
    "\n",
    "        .. versionadded:: 1.7.0\n",
    "\n",
    "    Returns\n",
    "    -------\n",
    "    values : ndarray, algebra_like\n",
    "        The shape of the return value is described above.\n",
    "\n",
    "    See Also\n",
    "    --------\n",
    "    lagval2d, laggrid2d, lagval3d, laggrid3d\n",
    "\n",
    "    Notes\n",
    "    -----\n",
    "    The evaluation uses Clenshaw recursion, aka synthetic division.\n",
    "\n",
    "    Examples\n",
    "    --------\n",
    "    >>> from numpy.polynomial.laguerre import lagval\n",
    "    >>> coef = [1,2,3]\n",
    "    >>> lagval(1, coef)\n",
    "    -0.5\n",
    "    >>> lagval([[1,2],[3,4]], coef)\n",
    "    array([[-0.5, -4. ],\n",
    "           [-4.5, -2. ]])\n",
    "\n",
    "    \"\"\"\n",
    "    c = np.array(c, ndmin=1, copy=False)\n",
    "    if c.dtype.char in '?bBhHiIlLqQpP':\n",
    "        c = c.astype(np.double)\n",
    "    if isinstance(x, (tuple, list)):\n",
    "        x = np.asarray(x)\n",
    "    if isinstance(x, np.ndarray) and tensor:\n",
    "        c = c.reshape(c.shape + (1,)*x.ndim)\n",
    "\n",
    "    if len(c) == 1:\n",
    "        c0 = c[0]\n",
    "        c1 = 0\n",
    "    elif len(c) == 2:\n",
    "        c0 = c[0]\n",
    "        c1 = c[1]\n",
    "    else:\n",
    "        nd = len(c)\n",
    "        c0 = c[-2]\n",
    "        c1 = c[-1]\n",
    "        for i in range(3, len(c) + 1):\n",
    "            tmp = c0\n",
    "            nd = nd - 1\n",
    "            c0 = c[-i] - (c1*(nd - 1))/nd\n",
    "            c1 = tmp + (c1*((2*nd - 1) - x))/nd\n",
    "    return c0 + c1*(1 - x)"
   ]
  },
  {
   "cell_type": "code",
   "execution_count": 33,
   "metadata": {},
   "outputs": [
    {
     "name": "stderr",
     "output_type": "stream",
     "text": [
      "/home/ewonisch/NeuralQuantumStates/.venv/lib/python3.10/site-packages/jax/_src/numpy/array_methods.py:66: UserWarning: Explicitly requested dtype <class 'jax.numpy.float64'> requested in astype is not available, and will be truncated to dtype float32. To enable more dtypes, set the jax_enable_x64 configuration option or the JAX_ENABLE_X64 shell environment variable. See https://github.com/google/jax#current-gotchas for more.\n",
      "  return lax_numpy.astype(arr, dtype)\n"
     ]
    }
   ],
   "source": [
    "x = jnp.linspace(0,10)\n",
    "y = lagval(x,[0,0,1])\n",
    "y2 = 0.5*(x**2 - 4*x + 2)"
   ]
  },
  {
   "cell_type": "code",
   "execution_count": 53,
   "metadata": {},
   "outputs": [
    {
     "name": "stderr",
     "output_type": "stream",
     "text": [
      "/tmp/ipykernel_36587/2967939282.py:3: UserWarning: Explicitly requested dtype int requested in ones_like is not available, and will be truncated to dtype int32. To enable more dtypes, set the jax_enable_x64 configuration option or the JAX_ENABLE_X64 shell environment variable. See https://github.com/google/jax#current-gotchas for more.\n",
      "  y = jax.scipy.special.sph_harm(jnp.ones_like(phi, dtype=\"int\"), jnp.ones_like(phi, dtype=\"int\"), theta, phi)\n"
     ]
    }
   ],
   "source": [
    "phi = jnp.linspace(0,2*jnp.pi)\n",
    "theta = jnp.linspace(0,jnp.pi)\n",
    "y = jax.scipy.special.sph_harm(jnp.ones_like(phi, dtype=\"int\"), jnp.ones_like(phi, dtype=\"int\"), theta, phi)"
   ]
  },
  {
   "cell_type": "code",
   "execution_count": null,
   "metadata": {},
   "outputs": [],
   "source": []
  }
 ],
 "metadata": {
  "kernelspec": {
   "display_name": ".venv",
   "language": "python",
   "name": "python3"
  },
  "language_info": {
   "codemirror_mode": {
    "name": "ipython",
    "version": 3
   },
   "file_extension": ".py",
   "mimetype": "text/x-python",
   "name": "python",
   "nbconvert_exporter": "python",
   "pygments_lexer": "ipython3",
   "version": "3.10.12"
  }
 },
 "nbformat": 4,
 "nbformat_minor": 2
}
