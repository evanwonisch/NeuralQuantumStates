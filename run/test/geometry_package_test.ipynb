{
 "cells": [
  {
   "cell_type": "code",
   "execution_count": 14,
   "metadata": {},
   "outputs": [],
   "source": [
    "import sys\n",
    "sys.path.insert(0, \"../..\")\n",
    "\n",
    "import jax\n",
    "import jax.numpy as jnp\n",
    "\n",
    "import jax.scipy\n",
    "import jax.scipy.special\n",
    "\n",
    "from tqdm import tqdm\n",
    "from functools import partial\n",
    "\n",
    "import module.samplers\n",
    "import module.wavefunctions\n",
    "import module.misc.cutoffs as cutoffs\n",
    "\n",
    "import flax.linen as nn\n",
    "\n",
    "import optax\n",
    "import numpy as np\n",
    "from matplotlib import pyplot as plt\n",
    "\n",
    "import netket.nn.activation\n",
    "import pickle\n",
    "\n",
    "import netket as nk\n",
    "\n",
    "from scipy.sparse.linalg import eigsh\n",
    "\n",
    "import module.geometry.metric as metric\n",
    "import module.geometry.christoffel as christoffel\n",
    "import module.misc.tree_util as tree_util"
   ]
  },
  {
   "cell_type": "code",
   "execution_count": 15,
   "metadata": {},
   "outputs": [],
   "source": [
    "key = jax.random.PRNGKey(0)"
   ]
  },
  {
   "cell_type": "code",
   "execution_count": 16,
   "metadata": {},
   "outputs": [
    {
     "name": "stdout",
     "output_type": "stream",
     "text": [
      "g.n_nodes: 16\n",
      "g.nodes: [0, 1, 2, 3, 4, 5, 6, 7, 8, 9, 10, 11, 12, 13, 14, 15]\n",
      "g.n_edges: 32\n",
      "g.edges: [(3, 7), (12, 13), (8, 9), (8, 12), (2, 14), (13, 14), (4, 5), (5, 6), (4, 8), (12, 15), (5, 9), (14, 15), (3, 15), (8, 11), (0, 1), (9, 10), (1, 2), (0, 4), (9, 13), (10, 11), (1, 5), (10, 14), (6, 7), (6, 10), (4, 7), (0, 3), (0, 12), (2, 3), (1, 13), (2, 6), (11, 15), (7, 11)]\n"
     ]
    }
   ],
   "source": [
    "# Define a grid\n",
    "L = 4\n",
    "g = nk.graph.Hypercube(length=L, n_dim=2, pbc=True)\n",
    "\n",
    "# The number of sites (called nodes):\n",
    "print(\"g.n_nodes:\", g.n_nodes)\n",
    "# You can iterate through the nodes:\n",
    "print(\"g.nodes:\", [node for node in g.nodes()])\n",
    "# You can check the number of edges:\n",
    "print(\"g.n_edges:\", g.n_edges)\n",
    "# You can iterate through the edges, which are stored as a 2-tuple with the start and end node:\n",
    "print(\"g.edges:\", g.edges())\n",
    "\n",
    "# Define the Hilbert space based on this graph\n",
    "# We impose to have a fixed total magnetization of zero \n",
    "hi = nk.hilbert.Spin(s=1/2, N=g.n_nodes)"
   ]
  },
  {
   "cell_type": "code",
   "execution_count": 17,
   "metadata": {},
   "outputs": [],
   "source": [
    "all_states = jnp.array([s for s in hi.states()])"
   ]
  },
  {
   "cell_type": "markdown",
   "metadata": {},
   "source": [
    "## Construct Neural Network"
   ]
  },
  {
   "cell_type": "code",
   "execution_count": 18,
   "metadata": {},
   "outputs": [],
   "source": [
    "def act(x):\n",
    "    return netket.nn.activation.log_cosh(x)"
   ]
  },
  {
   "cell_type": "code",
   "execution_count": 19,
   "metadata": {},
   "outputs": [],
   "source": [
    "class NN(nn.Module):\n",
    "    \"\"\"\n",
    "    Constructs a neural network.\n",
    "\n",
    "    possible activation functions:\n",
    "    netket.nn.activation.log_cosh(x)\n",
    "    nn.softplus()\n",
    "    \"\"\"\n",
    "    @nn.compact\n",
    "    def __call__(self, x):\n",
    "        x = nn.Dense(16, name=\"dense1\", param_dtype=\"float64\", kernel_init=jax.nn.initializers.normal(stddev=0.01))(x)\n",
    "        x = act(x)\n",
    "        x = jnp.sum(x, axis = -1)\n",
    "\n",
    "        return jnp.squeeze(x)"
   ]
  },
  {
   "cell_type": "markdown",
   "metadata": {},
   "source": [
    "## Construct Ansatz"
   ]
  },
  {
   "cell_type": "code",
   "execution_count": 20,
   "metadata": {},
   "outputs": [],
   "source": [
    "class Ansatz(module.wavefunctions.Wavefunction):\n",
    "    def __init__(self):\n",
    "        super().__init__(input_shape = (g.n_nodes,))\n",
    "\n",
    "        self.nn = NN()\n",
    "\n",
    "\n",
    "    def init_param(self, key):\n",
    "        nn_param = self.nn.init(key, jnp.empty((g.n_nodes,)))\n",
    "\n",
    "        return {\"nn\": nn_param}\n",
    "    \n",
    "    \n",
    "    def calc_logpsi(self, parameters, x):\n",
    "        logpsi = self.nn.apply(parameters[\"nn\"], x)\n",
    "\n",
    "        return logpsi"
   ]
  },
  {
   "cell_type": "code",
   "execution_count": 21,
   "metadata": {},
   "outputs": [],
   "source": [
    "ansatz = Ansatz()"
   ]
  },
  {
   "cell_type": "markdown",
   "metadata": {},
   "source": [
    "## Sampler"
   ]
  },
  {
   "cell_type": "code",
   "execution_count": 22,
   "metadata": {},
   "outputs": [],
   "source": [
    "class FlipSampler(module.samplers.MCMC):\n",
    "    def propose(self, key, element):\n",
    "        subkey, _ = jax.random.split(key)\n",
    "\n",
    "        mask = jnp.ones((g.n_nodes))\n",
    "        for i in range(self.variance):\n",
    "            index = jax.random.randint(key, (), 0, g.n_nodes)\n",
    "            key, _ = jax.random.split(key)\n",
    "            mask = mask.at[index].multiply(-1)\n",
    "\n",
    "        proposal = element * mask\n",
    "\n",
    "        return subkey, proposal\n",
    "sampler = FlipSampler(ansatz, 1)\n",
    "subsampling = g.n_nodes\n",
    "def get_samples(N, param):\n",
    "    \"\"\"\n",
    "    Returns decorrelated samples.\n",
    "    \"\"\"\n",
    "    samples, ratio = sampler.sample(key, param, 2*jax.random.randint(key, (g.n_nodes,), 0, 2)-1 + 0., N*subsampling)\n",
    "    return samples[0:-1:subsampling], ratio"
   ]
  },
  {
   "cell_type": "markdown",
   "metadata": {},
   "source": [
    "### Covariant Norm"
   ]
  },
  {
   "cell_type": "code",
   "execution_count": 23,
   "metadata": {},
   "outputs": [],
   "source": [
    "def calc_norm_square(ansatz, samples, primals, tangent):\n",
    "    g = lambda v: jax.tree_util.tree_reduce(lambda c,d : c + d, jax.tree_util.tree_map(lambda a: jnp.sum(a), v))\n",
    "    return  g(jax.tree_util.tree_map(lambda c, d : c * d, tangent, metric.apply_g(ansatz, samples, primals, tangent)))\n",
    "\n",
    "def full_calc_norm_square(ansatz, primals, tangent):\n",
    "    g = lambda v: jax.tree_util.tree_reduce(lambda c,d : c + d, jax.tree_util.tree_map(lambda a: jnp.sum(a), v))\n",
    "    return  g(jax.tree_util.tree_map(lambda c, d : c * d, tangent, metric.full_apply_g(ansatz, primals, tangent, all_states)))"
   ]
  },
  {
   "cell_type": "markdown",
   "metadata": {},
   "source": [
    "## Geodesics\n",
    "We try to first accurately simulate geodesic motion on the variational manifold. Therefore, we discretise the geodesic equation and obtain:\n",
    "$$\n",
    "\\gamma^i(t + \\epsilon) = 2\\gamma(t)^i  - \\gamma^i(t-\\epsilon) - \\Gamma^i_{jk}(\\gamma^j(t)-\\gamma^j(t-\\epsilon))(\\gamma^k(t)-\\gamma^k(t-\\epsilon))\n",
    "$$"
   ]
  },
  {
   "cell_type": "code",
   "execution_count": 24,
   "metadata": {},
   "outputs": [],
   "source": [
    "def full_geodesic(param, param_dot, N = 10, epsilon = 0.01):\n",
    "    stats = {\"momentum\":[], \"test\": []}\n",
    "\n",
    "    old_param = jax.tree_util.tree_map(lambda a, b: a - epsilon*b, param, param_dot)\n",
    "\n",
    "    for i in tqdm(range(N)):\n",
    "        delta_param = tree_util.t_sub(param, old_param)\n",
    "        param_dot = tree_util.s_mul(1/epsilon, delta_param)\n",
    "        ## 2-norm of a pytree\n",
    "        stats[\"momentum\"].append(full_calc_norm_square(ansatz, param, param_dot))\n",
    "\n",
    "        cor = metric.full_inverse_g(ansatz, param, christoffel.full_geodesic_correction(ansatz, param, delta_param, all_states), all_states)\n",
    "\n",
    "        # update\n",
    "        new_param = jax.tree_util.tree_map(lambda par, oldpar, cor: 2*par - oldpar - cor, param, old_param, cor)\n",
    "        old_param = param\n",
    "        param = new_param\n",
    "\n",
    "    numpy_stats = {}\n",
    "    for key_ in stats.keys():\n",
    "        numpy_stats[key_] = np.array(stats[key_])\n",
    "\n",
    "    return numpy_stats\n",
    "\n",
    "\n",
    "def geodesic(param, param_dot, N = 10, epsilon = 0.01, N_samples = 5000):\n",
    "    stats = {\"momentum\":[]}\n",
    "\n",
    "    old_param = jax.tree_util.tree_map(lambda a, b: a - epsilon*b, param, param_dot)\n",
    "\n",
    "    for i in tqdm(range(N)):\n",
    "\n",
    "        samples, _ = get_samples(N_samples, param)\n",
    "        delta_param = tree_util.t_sub(param, old_param)\n",
    "        param_dot = tree_util.s_mul(1/epsilon, delta_param)\n",
    "        ## 2-norm of a pytree\n",
    "        stats[\"momentum\"].append(full_calc_norm_square(ansatz, param, param_dot))\n",
    "\n",
    "        cor = metric.inverse_g(ansatz, samples, param, christoffel.geodesic_correction(ansatz, samples, param, delta_param))\n",
    "\n",
    "        # update\n",
    "        new_param = jax.tree_util.tree_map(lambda par, oldpar, cor: 2*par - oldpar - cor, param, old_param, cor)\n",
    "        old_param = param\n",
    "        param = new_param\n",
    "\n",
    "\n",
    "\n",
    "    numpy_stats = {}\n",
    "    for key_ in stats.keys():\n",
    "        numpy_stats[key_] = np.array(stats[key_])\n",
    "\n",
    "    return numpy_stats\n",
    "\n",
    "\n",
    "def geodesic_approx(param, param_dot, N = 10, epsilon = 0.01, N_samples = 5000):\n",
    "    stats = {\"momentum\":[]}\n",
    "\n",
    "    old_param = jax.tree_util.tree_map(lambda a, b: a - epsilon*b, param, param_dot)\n",
    "    old_samples, _ = get_samples(N_samples, old_param)\n",
    "\n",
    "    for i in tqdm(range(N)):\n",
    "\n",
    "        samples, _ = get_samples(N_samples, param)\n",
    "        delta_param = tree_util.t_sub(param, old_param)\n",
    "        param_dot = tree_util.s_mul(1/epsilon, delta_param)\n",
    "        ## 2-norm of a pytree\n",
    "        stats[\"momentum\"].append(full_calc_norm_square(ansatz, param, param_dot))\n",
    "\n",
    "        cor = metric.inverse_g(ansatz, samples, param, christoffel.geodesic_correction_approx(ansatz, samples, old_samples, param, old_param, param_dot, epsilon))\n",
    "\n",
    "        # update\n",
    "        new_param = jax.tree_util.tree_map(lambda par, oldpar, cor: 2*par - oldpar - epsilon**2*cor, param, old_param, cor)\n",
    "        old_param = param\n",
    "        param = new_param\n",
    "\n",
    "        old_samples = samples\n",
    "\n",
    "    numpy_stats = {}\n",
    "    for key_ in stats.keys():\n",
    "        numpy_stats[key_] = np.array(stats[key_])\n",
    "\n",
    "    return numpy_stats\n"
   ]
  },
  {
   "cell_type": "code",
   "execution_count": 12,
   "metadata": {},
   "outputs": [
    {
     "name": "stderr",
     "output_type": "stream",
     "text": [
      "100%|██████████| 50/50 [00:17<00:00,  2.86it/s]\n",
      "100%|██████████| 50/50 [00:05<00:00,  9.87it/s]\n",
      "100%|██████████| 50/50 [00:03<00:00, 13.23it/s]\n"
     ]
    }
   ],
   "source": [
    "key, _ = jax.random.split(key)\n",
    "param = ansatz.init_param(key)\n",
    "N = 50\n",
    "epsilon = 0.01\n",
    "\n",
    "param_dot = tree_util.s_mul(0.01, tree_util.t_ones_like(param))\n",
    "init_norm = full_calc_norm_square(ansatz, param, param_dot)\n",
    "\n",
    "full_stats = full_geodesic(param, param_dot , N, epsilon)\n",
    "stats = geodesic(param, param_dot, N, epsilon, N_samples=5000)\n",
    "stats_approx = geodesic_approx(param, param_dot, N, epsilon, N_samples=5000)"
   ]
  },
  {
   "cell_type": "code",
   "execution_count": 13,
   "metadata": {},
   "outputs": [],
   "source": [
    "# np.savetxt(\"full_stats_eps=1e-2\", full_stats[\"momentum\"])\n",
    "# np.savetxt(\"stats_eps=1e-2\", stats[\"momentum\"])\n",
    "# np.savetxt(\"stats_approx_eps=1e-2\", stats_approx[\"momentum\"])"
   ]
  },
  {
   "cell_type": "markdown",
   "metadata": {},
   "source": [
    "## Evaluate accuracy"
   ]
  },
  {
   "cell_type": "code",
   "execution_count": 13,
   "metadata": {},
   "outputs": [
    {
     "data": {
      "text/plain": [
       "Text(0.5, 1.0, 'deviation from geodesic in full summation and sampling epsilon=0.01')"
      ]
     },
     "execution_count": 13,
     "metadata": {},
     "output_type": "execute_result"
    },
    {
     "data": {
      "image/png": "[encoded data removed]",
      "text/plain": [
       "<Figure size 640x480 with 1 Axes>"
      ]
     },
     "metadata": {},
     "output_type": "display_data"
    }
   ],
   "source": [
    "i = jnp.arange(N)\n",
    "\n",
    "plt.scatter(i, jnp.abs(full_stats[\"momentum\"] - init_norm), label = \"full\", marker = \".\")\n",
    "plt.scatter(i, jnp.abs(stats[\"momentum\"] - init_norm), label = \"sampling\", marker =\".\")\n",
    "plt.scatter(i, jnp.abs(stats_approx[\"momentum\"] - init_norm), label = \"gamma approx\", marker =\".\")\n",
    "\n",
    "plt.yscale(\"log\")\n",
    "plt.xlabel(\"iteration\")\n",
    "plt.ylabel(\"error in norm of gamma_dot\")\n",
    "plt.legend()\n",
    "plt.title(\"deviation from geodesic in full summation and sampling epsilon=\"+str(epsilon))\n",
    "# plt.ylim(0, 0.01)\n"
   ]
  },
  {
   "cell_type": "code",
   "execution_count": 25,
   "metadata": {},
   "outputs": [],
   "source": [
    "key, _ = jax.random.split(key)\n",
    "N_samples = 5000\n",
    "param = ansatz.init_param(key)\n",
    "param_dot = tree_util.s_mul(0.01, tree_util.t_ones_like(param))\n",
    "samples, _ = get_samples(N_samples, param)\n",
    "x2 = christoffel.geodesic_correction(ansatz, samples, param, param_dot)\n",
    "\n",
    "errs = []\n",
    "eps = 10**(-jnp.arange(20,50)*0.1 + 0.)\n",
    "for epsilon in eps:\n",
    "    old_param = tree_util.t_sub(param, tree_util.s_mul(epsilon, param_dot))\n",
    "    old_samples, _ = get_samples(N_samples, old_param)\n",
    "    x1 = christoffel.geodesic_correction_approx(ansatz, samples, old_samples, param, old_param, param_dot, epsilon)\n",
    "    err = tree_util.euclid_norm_sq(tree_util.t_sub(x1, x2))\n",
    "    # err = full_calc_norm_square(ansatz, param, t_sub(x1,x2))\n",
    "    errs.append(jnp.sqrt(err))"
   ]
  },
  {
   "cell_type": "code",
   "execution_count": 26,
   "metadata": {},
   "outputs": [
    {
     "data": {
      "text/plain": [
       "Text(0.5, 1.0, 'geodesic correction error between Gamma and approximated Gamma (both sampled)')"
      ]
     },
     "execution_count": 26,
     "metadata": {},
     "output_type": "execute_result"
    },
    {
     "data": {
      "image/png": "[encoded data removed]",
      "text/plain": [
       "<Figure size 640x480 with 1 Axes>"
      ]
     },
     "metadata": {},
     "output_type": "display_data"
    }
   ],
   "source": [
    "plt.scatter(eps, errs)\n",
    "plt.yscale(\"log\")\n",
    "plt.xscale(\"log\")\n",
    "plt.xlabel(\"epsilon\")\n",
    "plt.ylabel(\"euclidian distance\")\n",
    "plt.title(\"geodesic correction error between Gamma and approximated Gamma (both sampled)\")"
   ]
  },
  {
   "cell_type": "markdown",
   "metadata": {},
   "source": [
    "---"
   ]
  }
 ],
 "metadata": {
  "kernelspec": {
   "display_name": "base",
   "language": "python",
   "name": "python3"
  },
  "language_info": {
   "codemirror_mode": {
    "name": "ipython",
    "version": 3
   },
   "file_extension": ".py",
   "mimetype": "text/x-python",
   "name": "python",
   "nbconvert_exporter": "python",
   "pygments_lexer": "ipython3",
   "version": "3.10.12"
  }
 },
 "nbformat": 4,
 "nbformat_minor": 2
}
