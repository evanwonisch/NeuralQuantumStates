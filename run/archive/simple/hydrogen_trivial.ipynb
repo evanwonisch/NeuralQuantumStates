{
 "cells": [
  {
   "cell_type": "code",
   "execution_count": 1,
   "metadata": {},
   "outputs": [],
   "source": [
    "import sys\n",
    "sys.path.insert(0, \"../..\")\n",
    "\n",
    "import jax\n",
    "import jax.numpy as jnp\n",
    "\n",
    "from tqdm import tqdm\n",
    "from functools import partial\n",
    "\n",
    "import module.samplers\n",
    "import module.hamiltonians\n",
    "import module.wavefunctions\n",
    "\n",
    "import optax\n",
    "import numpy as np\n",
    "from matplotlib import pyplot as plt"
   ]
  },
  {
   "cell_type": "code",
   "execution_count": 2,
   "metadata": {},
   "outputs": [],
   "source": [
    "key = jax.random.PRNGKey(0)"
   ]
  },
  {
   "cell_type": "markdown",
   "metadata": {},
   "source": [
    "## Hydrogen Atom\n",
    "\n",
    "In this notebook we demonstrate a VMC method for finding the ground state of the hydrogen atom:\n",
    "\n",
    "$$\n",
    "H = -\\frac{\\hbar^2 }{2 m}\\Delta - \\frac{e^2}{4\\pi\\epsilon_0 r}\n",
    "$$\n",
    "\n",
    "The corresponding energies are known:\n",
    "$$\n",
    "E = -\\frac{1}{n^2}\\frac{m e^4}{32\\pi^2\\epsilon_{0}^2\\hbar^2}\n",
    "$$\n",
    "\n",
    "We set $\\hbar = m = 1$ and $e^4 = 32 \\pi^2 \\epsilon_{0}^2$. The ground state energy is thus:\n",
    "\n",
    "$$\n",
    "E = -1\n",
    "$$\n",
    "\n",
    "In the code, the hamiltonian is defined as follows:"
   ]
  },
  {
   "cell_type": "code",
   "execution_count": 3,
   "metadata": {},
   "outputs": [],
   "source": [
    "#\n",
    "# The potential energy function depending on the coordinates\n",
    "#\n",
    "def potential(x):\n",
    "    return -jnp.sqrt(2)/jnp.sqrt(jnp.sum(x**2, axis = -1))\n",
    "\n",
    "\n",
    "# the hamiltonian\n",
    "H = module.hamiltonians.Particles(masses = [1], potential = potential, d_space = 3)"
   ]
  },
  {
   "cell_type": "markdown",
   "metadata": {},
   "source": [
    "We use a very simple variational Ansatz:\n",
    "$$\n",
    "\\Psi = \\exp{-r\\lambda}\n",
    "$$\n",
    "using $\\lambda = e^a$, $a$ being the variational parameter. The ground state is found for $\\lambda = \\sqrt{2}$."
   ]
  },
  {
   "cell_type": "code",
   "execution_count": 4,
   "metadata": {},
   "outputs": [],
   "source": [
    "class Orbital(module.wavefunctions.Wavefunction):\n",
    "    def __init__(self):\n",
    "        super().__init__((3,))\n",
    "\n",
    "    def init_parameters(self, key):\n",
    "        return {\"a\": jax.random.normal(key)-3}\n",
    "\n",
    "    def calc_logpsi(self, parameters, x):\n",
    "        logpsi = -jnp.sqrt(jnp.sum(x**2, axis = -1)) * jnp.exp(parameters[\"a\"])\n",
    "        return logpsi"
   ]
  },
  {
   "cell_type": "code",
   "execution_count": 5,
   "metadata": {},
   "outputs": [],
   "source": [
    "wavefun = Orbital()\n",
    "parameters = wavefun.init_parameters(key)"
   ]
  },
  {
   "cell_type": "markdown",
   "metadata": {},
   "source": [
    "We also initialise a MCMC sampler for our wavefunction and can take samples of it:"
   ]
  },
  {
   "cell_type": "code",
   "execution_count": 6,
   "metadata": {},
   "outputs": [],
   "source": [
    "sampler = module.samplers.MCMC(wavefun, variance = 0.4)"
   ]
  },
  {
   "cell_type": "markdown",
   "metadata": {},
   "source": [
    "Using the Hamiltonian, we can already compute the expected energy for our non-optimised wavefunction:"
   ]
  },
  {
   "cell_type": "code",
   "execution_count": 7,
   "metadata": {},
   "outputs": [
    {
     "name": "stdout",
     "output_type": "stream",
     "text": [
      "Acceptance Ratio: 0.979\n",
      "Expected Energy: -0.05314303\n",
      "Std of Expected Energy: 0.0006239213\n"
     ]
    }
   ],
   "source": [
    "N = 10000\n",
    "samples, ratio = sampler.sample(key, parameters, jax.random.normal(key, (3,)), N)\n",
    "H_loc = H.calc_H_loc(wavefun, parameters, samples)\n",
    "\n",
    "print(\"Acceptance Ratio:\", ratio)\n",
    "print(\"Expected Energy:\", jnp.mean(H_loc))\n",
    "print(\"Std of Expected Energy:\", jnp.std(H_loc)/jnp.sqrt(N))"
   ]
  },
  {
   "cell_type": "markdown",
   "metadata": {},
   "source": [
    "To estimate the gradient of the expected energy via the formula:\n",
    "\n",
    "$$\n",
    "\\nabla \\left< E \\right>  = 2\\,\\Re\\, \\mathbb{E}\\{\\nabla \\log \\Psi [H_{\\mathrm{loc}}(r) - \\mathbb{E}(E)]\\}\n",
    "$$\n",
    "\n",
    "we implement a help function:"
   ]
  },
  {
   "cell_type": "code",
   "execution_count": 8,
   "metadata": {},
   "outputs": [],
   "source": [
    "@partial(jax.jit, static_argnames=['hamiltonian', 'orbital'])\n",
    "def calc_grad_E(hamiltonian, orbital, parameters, samples):\n",
    "    \"\"\"\n",
    "    Calculates the gradient of the energy and the energy itself on a batch of samples.\n",
    "    \"\"\"\n",
    "\n",
    "    E_loc = hamiltonian.calc_H_loc(orbital, parameters, samples)\n",
    "    E = jnp.mean(E_loc)\n",
    "    dE = jnp.std(E_loc)\n",
    "    grad_log = orbital.grad_logpsi(parameters, samples)\n",
    "\n",
    "    return jax.tree_util.tree_map(lambda tree: 2*jnp.real(jnp.mean(jnp.swapaxes(jnp.swapaxes(tree, 0, -1) * (E_loc - E), 0, -1), axis = 0)), grad_log), E, dE"
   ]
  },
  {
   "cell_type": "markdown",
   "metadata": {},
   "source": [
    "The energy can now be optimised:"
   ]
  },
  {
   "cell_type": "code",
   "execution_count": 9,
   "metadata": {},
   "outputs": [
    {
     "name": "stderr",
     "output_type": "stream",
     "text": [
      "  0%|          | 0/1000 [00:00<?, ?it/s]"
     ]
    },
    {
     "name": "stderr",
     "output_type": "stream",
     "text": [
      "100%|██████████| 1000/1000 [00:02<00:00, 354.02it/s]\n"
     ]
    }
   ],
   "source": [
    "Es = []\n",
    "dEs = []\n",
    "ratios = []\n",
    "\n",
    "# define\n",
    "optimizer = optax.adam(learning_rate=0.01)\n",
    "\n",
    "# initialise\n",
    "optimizer_state = optimizer.init(parameters)\n",
    "\n",
    "for i in tqdm(range(1000)):\n",
    "    key, _ = jax.random.split(key)\n",
    "    samples, ratio = sampler.sample(key, parameters, jax.random.normal(key, (3,)), 500)\n",
    "    grad, E, dE = calc_grad_E(H, wavefun, parameters, samples)\n",
    "\n",
    "    Es.append(E)\n",
    "    dEs.append(dE)\n",
    "    ratios.append(ratio)\n",
    "    \n",
    "    updates, optimizer_state = optimizer.update(grad, optimizer_state, parameters)\n",
    "    parameters = optax.apply_updates(parameters, updates)\n",
    "\n",
    "Es = np.array(Es)\n",
    "dEs = np.array(dEs) / np.sqrt(500)\n",
    "ratios = np.array(ratios)"
   ]
  },
  {
   "cell_type": "code",
   "execution_count": 10,
   "metadata": {},
   "outputs": [
    {
     "data": {
      "text/plain": [
       "Text(0.5, 1.0, 'Energy Optimisation')"
      ]
     },
     "execution_count": 10,
     "metadata": {},
     "output_type": "execute_result"
    },
    {
     "data": {
      "image/png": "[encoded data removed]",
      "text/plain": [
       "<Figure size 432x288 with 1 Axes>"
      ]
     },
     "metadata": {
      "needs_background": "light"
     },
     "output_type": "display_data"
    }
   ],
   "source": [
    "index = np.arange(Es.shape[0])\n",
    "\n",
    "plt.plot(index, Es, label = \"estimate\")\n",
    "plt.fill_between(index, Es - dEs, Es + dEs, alpha = 0.4, label = \"$\\\\pm \\\\sigma$\")\n",
    "plt.ylim(-2,2)\n",
    "plt.axhline(-1, color = \"C2\", label = \"analytical\")\n",
    "\n",
    "plt.legend()\n",
    "plt.xlabel(\"Iteration\")\n",
    "plt.ylabel(\"Energy\")\n",
    "plt.title(\"Energy Optimisation\")"
   ]
  },
  {
   "cell_type": "code",
   "execution_count": 11,
   "metadata": {},
   "outputs": [
    {
     "data": {
      "text/plain": [
       "Text(0.5, 1.0, 'Energy Optimisation')"
      ]
     },
     "execution_count": 11,
     "metadata": {},
     "output_type": "execute_result"
    },
    {
     "data": {
      "image/png": "[encoded data removed]",
      "text/plain": [
       "<Figure size 432x288 with 1 Axes>"
      ]
     },
     "metadata": {
      "needs_background": "light"
     },
     "output_type": "display_data"
    }
   ],
   "source": [
    "index = np.arange(Es.shape[0])\n",
    "\n",
    "# plt.errorbar(index, np.abs(Es + 1), yerr = dEs, label = \"estimate\", fmt = \".\")\n",
    "plt.scatter(index, np.abs(Es + 1), label = \"estimate\", marker = \".\")\n",
    "# plt.fill_between(index, Es - dEs, Es + dEs, alpha = 0.4, label = \"$\\\\pm \\\\sigma$\")\n",
    "# plt.ylim(-2,2)\n",
    "# plt.axhline(-1, color = \"C2\", label = \"analytical\")\n",
    "plt.yscale(\"log\")\n",
    "\n",
    "plt.legend()\n",
    "plt.xlabel(\"Iteration\")\n",
    "plt.ylabel(\"Error in Energy\")\n",
    "plt.title(\"Energy Optimisation\")"
   ]
  },
  {
   "cell_type": "code",
   "execution_count": 12,
   "metadata": {},
   "outputs": [
    {
     "data": {
      "text/plain": [
       "Array(1.9999999, dtype=float32)"
      ]
     },
     "execution_count": 12,
     "metadata": {},
     "output_type": "execute_result"
    }
   ],
   "source": [
    "jnp.exp(parameters[\"a\"])**2\n",
    "\n",
    "# should be 2"
   ]
  },
  {
   "cell_type": "markdown",
   "metadata": {},
   "source": [
    "Now, the variance of the expected energy has decreased, as expected for correct eigenstate:"
   ]
  },
  {
   "cell_type": "code",
   "execution_count": 15,
   "metadata": {},
   "outputs": [
    {
     "name": "stdout",
     "output_type": "stream",
     "text": [
      "Acceptance Ratio: 0.43838\n",
      "Expected Energy: -1.0\n",
      "Std of Expected Energy: 2.9417535e-09\n",
      "Energy Error in units of MC deviation: 0.0\n"
     ]
    }
   ],
   "source": [
    "N = 10000\n",
    "ss_factor = 15\n",
    "samples, ratio = sampler.sample(key, parameters, jax.random.normal(key, (3,)), N*ss_factor)\n",
    "samples = samples[0:-1:ss_factor]\n",
    "V_loc = H.calc_V_loc(wavefun, parameters, samples)\n",
    "T_loc = H.calc_T_loc(wavefun, parameters, samples)\n",
    "H_loc = H.calc_H_loc(wavefun, parameters, samples)\n",
    "\n",
    "print(\"Acceptance Ratio:\", ratio)\n",
    "print(\"Expected Energy:\", jnp.mean(H_loc))\n",
    "print(\"Std of Expected Energy:\", jnp.std(H_loc)/jnp.sqrt(N))\n",
    "print(\"Energy Error in units of MC deviation:\", jnp.abs(jnp.mean(H_loc) + 1)/jnp.std(H_loc)*jnp.sqrt(N))"
   ]
  },
  {
   "cell_type": "markdown",
   "metadata": {},
   "source": [
    "## Oberservation\n",
    "\n",
    "Applying the kinectic Energy operator to the correct wavefunction, one obtains:\n",
    "\n",
    "$$\n",
    "T \\Psi = \\left(\\frac{2\\lambda}{r} +\\lambda^2\\right)\\Psi\n",
    "$$\n",
    "\n",
    "Sampling the local kinetic energies $T(\\vec{r})$, one can observe the singularity arising at $r \\to 0$. This is important and necessary to counteract the same singularity which is brought about by the potential energy $V$."
   ]
  },
  {
   "cell_type": "code",
   "execution_count": 23,
   "metadata": {},
   "outputs": [
    {
     "data": {
      "text/plain": [
       "Text(0.5, 1.0, 'Local Potential Energy')"
      ]
     },
     "execution_count": 23,
     "metadata": {},
     "output_type": "execute_result"
    },
    {
     "data": {
      "image/png": "[encoded data removed]",
      "text/plain": [
       "<Figure size 432x288 with 2 Axes>"
      ]
     },
     "metadata": {
      "needs_background": "light"
     },
     "output_type": "display_data"
    }
   ],
   "source": [
    "f, axs = plt.subplots(1, 2)\n",
    "\n",
    "axs[0].scatter(samples[:,0], T_loc)\n",
    "axs[0].set_xlabel(\"x\")\n",
    "axs[0].set_ylabel(\"$T$\")\n",
    "axs[0].set_title(\"Local Kinetic Energy\")\n",
    "\n",
    "axs[1].scatter(samples[:,0], V_loc)\n",
    "axs[1].set_xlabel(\"x\")\n",
    "axs[1].set_ylabel(\"$V$\")\n",
    "axs[1].set_title(\"Local Potential Energy\")"
   ]
  },
  {
   "cell_type": "markdown",
   "metadata": {},
   "source": [
    "---"
   ]
  }
 ],
 "metadata": {
  "kernelspec": {
   "display_name": "Python 3 (ipykernel)",
   "language": "python",
   "name": "python3"
  },
  "language_info": {
   "codemirror_mode": {
    "name": "ipython",
    "version": 3
   },
   "file_extension": ".py",
   "mimetype": "text/x-python",
   "name": "python",
   "nbconvert_exporter": "python",
   "pygments_lexer": "ipython3",
   "version": "3.9.7"
  }
 },
 "nbformat": 4,
 "nbformat_minor": 2
}
