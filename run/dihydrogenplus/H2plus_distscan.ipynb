{
 "cells": [
  {
   "cell_type": "code",
   "execution_count": 16,
   "metadata": {},
   "outputs": [],
   "source": [
    "import sys\n",
    "sys.path.insert(0, \"../..\")\n",
    "import run.script.H2plus as h2plus\n",
    "import jax.numpy as jnp\n",
    "from matplotlib import pyplot as plt\n",
    "import numpy as np"
   ]
  },
  {
   "cell_type": "code",
   "execution_count": 10,
   "metadata": {},
   "outputs": [
    {
     "name": "stderr",
     "output_type": "stream",
     "text": [
      "100%|██████████| 350/350 [00:34<00:00, 10.29it/s]\n"
     ]
    },
    {
     "name": "stdout",
     "output_type": "stream",
     "text": [
      "Acceptance Ratio: 0.36026\n",
      "Expected Energy: -0.18266900567455865 +/- 4.115801738618627e-05\n",
      "Std of Expected Energy: 0.004115801738618627\n"
     ]
    },
    {
     "name": "stderr",
     "output_type": "stream",
     "text": [
      "100%|██████████| 350/350 [00:32<00:00, 10.63it/s]\n"
     ]
    },
    {
     "name": "stdout",
     "output_type": "stream",
     "text": [
      "Acceptance Ratio: 0.36881\n",
      "Expected Energy: -0.24087712726963173 +/- 3.886615598646825e-05\n",
      "Std of Expected Energy: 0.003886615598646825\n"
     ]
    },
    {
     "name": "stderr",
     "output_type": "stream",
     "text": [
      "100%|██████████| 350/350 [00:33<00:00, 10.48it/s]\n"
     ]
    },
    {
     "name": "stdout",
     "output_type": "stream",
     "text": [
      "Acceptance Ratio: 0.37502\n",
      "Expected Energy: -0.2909391152649505 +/- 5.8906413885311204e-05\n",
      "Std of Expected Energy: 0.005890641388531121\n"
     ]
    },
    {
     "name": "stderr",
     "output_type": "stream",
     "text": [
      "100%|██████████| 350/350 [00:34<00:00, 10.16it/s]\n"
     ]
    },
    {
     "name": "stdout",
     "output_type": "stream",
     "text": [
      "Acceptance Ratio: 0.38010000000000005\n",
      "Expected Energy: -0.33360837575325386 +/- 4.519195175412613e-05\n",
      "Std of Expected Energy: 0.0045191951754126125\n"
     ]
    },
    {
     "name": "stderr",
     "output_type": "stream",
     "text": [
      "100%|██████████| 350/350 [00:36<00:00,  9.64it/s]\n"
     ]
    },
    {
     "name": "stdout",
     "output_type": "stream",
     "text": [
      "Acceptance Ratio: 0.38786000000000004\n",
      "Expected Energy: -0.3704283464081908 +/- 5.9132781717088104e-05\n",
      "Std of Expected Energy: 0.0059132781717088105\n"
     ]
    },
    {
     "name": "stderr",
     "output_type": "stream",
     "text": [
      "100%|██████████| 350/350 [00:36<00:00,  9.54it/s]\n"
     ]
    },
    {
     "name": "stdout",
     "output_type": "stream",
     "text": [
      "Acceptance Ratio: 0.39095\n",
      "Expected Energy: -0.4022309477240928 +/- 5.239699590432129e-05\n",
      "Std of Expected Energy: 0.005239699590432129\n"
     ]
    },
    {
     "name": "stderr",
     "output_type": "stream",
     "text": [
      "100%|██████████| 350/350 [00:35<00:00,  9.86it/s]\n"
     ]
    },
    {
     "name": "stdout",
     "output_type": "stream",
     "text": [
      "Acceptance Ratio: 0.39688\n",
      "Expected Energy: -0.42985223654925814 +/- 5.5147557327581464e-05\n",
      "Std of Expected Energy: 0.005514755732758146\n"
     ]
    },
    {
     "name": "stderr",
     "output_type": "stream",
     "text": [
      "100%|██████████| 350/350 [00:35<00:00,  9.79it/s]\n"
     ]
    },
    {
     "name": "stdout",
     "output_type": "stream",
     "text": [
      "Acceptance Ratio: 0.40476\n",
      "Expected Energy: -0.4538732968345861 +/- 6.012666757006191e-05\n",
      "Std of Expected Energy: 0.006012666757006191\n"
     ]
    },
    {
     "name": "stderr",
     "output_type": "stream",
     "text": [
      "100%|██████████| 350/350 [00:36<00:00,  9.59it/s]\n"
     ]
    },
    {
     "name": "stdout",
     "output_type": "stream",
     "text": [
      "Acceptance Ratio: 0.40832\n",
      "Expected Energy: -0.4747841530620271 +/- 5.727242827736241e-05\n",
      "Std of Expected Energy: 0.005727242827736241\n"
     ]
    },
    {
     "name": "stderr",
     "output_type": "stream",
     "text": [
      "100%|██████████| 350/350 [00:37<00:00,  9.36it/s]\n"
     ]
    },
    {
     "name": "stdout",
     "output_type": "stream",
     "text": [
      "Acceptance Ratio: 0.41544000000000003\n",
      "Expected Energy: -0.49285780873588714 +/- 5.892026298701976e-05\n",
      "Std of Expected Energy: 0.005892026298701976\n"
     ]
    },
    {
     "name": "stderr",
     "output_type": "stream",
     "text": [
      "100%|██████████| 350/350 [00:36<00:00,  9.66it/s]\n"
     ]
    },
    {
     "name": "stdout",
     "output_type": "stream",
     "text": [
      "Acceptance Ratio: 0.42237\n",
      "Expected Energy: -0.5088310299378298 +/- 5.8458913144901966e-05\n",
      "Std of Expected Energy: 0.005845891314490197\n"
     ]
    },
    {
     "name": "stderr",
     "output_type": "stream",
     "text": [
      "100%|██████████| 350/350 [00:36<00:00,  9.66it/s]\n"
     ]
    },
    {
     "name": "stdout",
     "output_type": "stream",
     "text": [
      "Acceptance Ratio: 0.42452\n",
      "Expected Energy: -0.5225441313183453 +/- 5.096664027064107e-05\n",
      "Std of Expected Energy: 0.005096664027064107\n"
     ]
    },
    {
     "name": "stderr",
     "output_type": "stream",
     "text": [
      "100%|██████████| 350/350 [00:35<00:00,  9.73it/s]\n"
     ]
    },
    {
     "name": "stdout",
     "output_type": "stream",
     "text": [
      "Acceptance Ratio: 0.43002\n",
      "Expected Energy: -0.5346308892178379 +/- 4.298153554874464e-05\n",
      "Std of Expected Energy: 0.004298153554874464\n"
     ]
    },
    {
     "name": "stderr",
     "output_type": "stream",
     "text": [
      "100%|██████████| 350/350 [00:35<00:00,  9.88it/s]\n"
     ]
    },
    {
     "name": "stdout",
     "output_type": "stream",
     "text": [
      "Acceptance Ratio: 0.43471000000000004\n",
      "Expected Energy: -0.5451235549678207 +/- 4.1991137084316146e-05\n",
      "Std of Expected Energy: 0.0041991137084316146\n"
     ]
    },
    {
     "name": "stderr",
     "output_type": "stream",
     "text": [
      "100%|██████████| 350/350 [00:35<00:00,  9.81it/s]\n"
     ]
    },
    {
     "name": "stdout",
     "output_type": "stream",
     "text": [
      "Acceptance Ratio: 0.43841\n",
      "Expected Energy: -0.5543612461301863 +/- 3.519696015855365e-05\n",
      "Std of Expected Energy: 0.003519696015855365\n"
     ]
    },
    {
     "name": "stderr",
     "output_type": "stream",
     "text": [
      "100%|██████████| 350/350 [00:34<00:00, 10.21it/s]\n"
     ]
    },
    {
     "name": "stdout",
     "output_type": "stream",
     "text": [
      "Acceptance Ratio: 0.44475000000000003\n",
      "Expected Energy: -0.5623564051442901 +/- 3.286587412392028e-05\n",
      "Std of Expected Energy: 0.0032865874123920277\n"
     ]
    },
    {
     "name": "stderr",
     "output_type": "stream",
     "text": [
      "100%|██████████| 350/350 [00:34<00:00, 10.12it/s]\n"
     ]
    },
    {
     "name": "stdout",
     "output_type": "stream",
     "text": [
      "Acceptance Ratio: 0.44885\n",
      "Expected Energy: -0.5692898908040951 +/- 3.2910827812870364e-05\n",
      "Std of Expected Energy: 0.0032910827812870362\n"
     ]
    },
    {
     "name": "stderr",
     "output_type": "stream",
     "text": [
      "100%|██████████| 350/350 [00:34<00:00, 10.02it/s]\n"
     ]
    },
    {
     "name": "stdout",
     "output_type": "stream",
     "text": [
      "Acceptance Ratio: 0.45353000000000004\n",
      "Expected Energy: -0.575299904547256 +/- 3.802340836168276e-05\n",
      "Std of Expected Energy: 0.003802340836168276\n"
     ]
    },
    {
     "name": "stderr",
     "output_type": "stream",
     "text": [
      "100%|██████████| 350/350 [00:44<00:00,  7.94it/s]\n"
     ]
    },
    {
     "name": "stdout",
     "output_type": "stream",
     "text": [
      "Acceptance Ratio: 0.45795\n",
      "Expected Energy: -0.5804107204709387 +/- 3.7841360178354236e-05\n",
      "Std of Expected Energy: 0.0037841360178354237\n"
     ]
    },
    {
     "name": "stderr",
     "output_type": "stream",
     "text": [
      "100%|██████████| 350/350 [00:45<00:00,  7.67it/s]\n"
     ]
    },
    {
     "name": "stdout",
     "output_type": "stream",
     "text": [
      "Acceptance Ratio: 0.46113000000000004\n",
      "Expected Energy: -0.5848587518085492 +/- 3.716985433094918e-05\n",
      "Std of Expected Energy: 0.003716985433094918\n"
     ]
    },
    {
     "name": "stderr",
     "output_type": "stream",
     "text": [
      "100%|██████████| 350/350 [00:31<00:00, 11.00it/s]\n"
     ]
    },
    {
     "name": "stdout",
     "output_type": "stream",
     "text": [
      "Acceptance Ratio: 0.46534000000000003\n",
      "Expected Energy: -0.5886052109333396 +/- 3.839745769563591e-05\n",
      "Std of Expected Energy: 0.003839745769563591\n"
     ]
    },
    {
     "name": "stderr",
     "output_type": "stream",
     "text": [
      "100%|██████████| 350/350 [00:31<00:00, 11.10it/s]\n"
     ]
    },
    {
     "name": "stdout",
     "output_type": "stream",
     "text": [
      "Acceptance Ratio: 0.47223000000000004\n",
      "Expected Energy: -0.5917904651502525 +/- 3.734902702537257e-05\n",
      "Std of Expected Energy: 0.003734902702537257\n"
     ]
    },
    {
     "name": "stderr",
     "output_type": "stream",
     "text": [
      "100%|██████████| 350/350 [00:34<00:00, 10.21it/s]\n"
     ]
    },
    {
     "name": "stdout",
     "output_type": "stream",
     "text": [
      "Acceptance Ratio: 0.47539000000000003\n",
      "Expected Energy: -0.5944226361567517 +/- 3.799088360225049e-05\n",
      "Std of Expected Energy: 0.0037990883602250494\n"
     ]
    },
    {
     "name": "stderr",
     "output_type": "stream",
     "text": [
      "100%|██████████| 350/350 [00:33<00:00, 10.53it/s]\n"
     ]
    },
    {
     "name": "stdout",
     "output_type": "stream",
     "text": [
      "Acceptance Ratio: 0.4811\n",
      "Expected Energy: -0.596684291621672 +/- 3.884305002645411e-05\n",
      "Std of Expected Energy: 0.003884305002645411\n"
     ]
    },
    {
     "name": "stderr",
     "output_type": "stream",
     "text": [
      "100%|██████████| 350/350 [00:32<00:00, 10.76it/s]\n"
     ]
    },
    {
     "name": "stdout",
     "output_type": "stream",
     "text": [
      "Acceptance Ratio: 0.48319000000000006\n",
      "Expected Energy: -0.5984798268360846 +/- 3.5386849133037385e-05\n",
      "Std of Expected Energy: 0.0035386849133037385\n"
     ]
    },
    {
     "name": "stderr",
     "output_type": "stream",
     "text": [
      "100%|██████████| 350/350 [00:33<00:00, 10.52it/s]\n"
     ]
    },
    {
     "name": "stdout",
     "output_type": "stream",
     "text": [
      "Acceptance Ratio: 0.48641000000000006\n",
      "Expected Energy: -0.5998823544156537 +/- 3.6842044646226614e-05\n",
      "Std of Expected Energy: 0.003684204464622661\n"
     ]
    },
    {
     "name": "stderr",
     "output_type": "stream",
     "text": [
      "100%|██████████| 350/350 [00:32<00:00, 10.63it/s]\n"
     ]
    },
    {
     "name": "stdout",
     "output_type": "stream",
     "text": [
      "Acceptance Ratio: 0.49071000000000004\n",
      "Expected Energy: -0.6010169304871127 +/- 3.614673959510226e-05\n",
      "Std of Expected Energy: 0.003614673959510226\n"
     ]
    },
    {
     "name": "stderr",
     "output_type": "stream",
     "text": [
      "100%|██████████| 350/350 [00:33<00:00, 10.30it/s]\n"
     ]
    },
    {
     "name": "stdout",
     "output_type": "stream",
     "text": [
      "Acceptance Ratio: 0.49534000000000006\n",
      "Expected Energy: -0.601774743281666 +/- 3.768211438276829e-05\n",
      "Std of Expected Energy: 0.0037682114382768285\n"
     ]
    },
    {
     "name": "stderr",
     "output_type": "stream",
     "text": [
      "100%|██████████| 350/350 [00:32<00:00, 10.76it/s]\n"
     ]
    },
    {
     "name": "stdout",
     "output_type": "stream",
     "text": [
      "Acceptance Ratio: 0.49712000000000006\n",
      "Expected Energy: -0.6023355426455789 +/- 4.579070153021446e-05\n",
      "Std of Expected Energy: 0.004579070153021446\n"
     ]
    },
    {
     "name": "stderr",
     "output_type": "stream",
     "text": [
      "100%|██████████| 350/350 [00:33<00:00, 10.52it/s]\n"
     ]
    },
    {
     "name": "stdout",
     "output_type": "stream",
     "text": [
      "Acceptance Ratio: 0.5006\n",
      "Expected Energy: -0.6025059845449354 +/- 4.167057393912352e-05\n",
      "Std of Expected Energy: 0.0041670573939123524\n"
     ]
    },
    {
     "name": "stderr",
     "output_type": "stream",
     "text": [
      "100%|██████████| 350/350 [00:32<00:00, 10.76it/s]\n"
     ]
    },
    {
     "name": "stdout",
     "output_type": "stream",
     "text": [
      "Acceptance Ratio: 0.5037200000000001\n",
      "Expected Energy: -0.6026279519199853 +/- 4.288968466468136e-05\n",
      "Std of Expected Energy: 0.0042889684664681365\n"
     ]
    },
    {
     "name": "stderr",
     "output_type": "stream",
     "text": [
      "100%|██████████| 350/350 [00:32<00:00, 10.62it/s]\n"
     ]
    },
    {
     "name": "stdout",
     "output_type": "stream",
     "text": [
      "Acceptance Ratio: 0.50743\n",
      "Expected Energy: -0.6025437096848653 +/- 4.1652315880251305e-05\n",
      "Std of Expected Energy: 0.0041652315880251305\n"
     ]
    },
    {
     "name": "stderr",
     "output_type": "stream",
     "text": [
      "100%|██████████| 350/350 [00:33<00:00, 10.34it/s]\n"
     ]
    },
    {
     "name": "stdout",
     "output_type": "stream",
     "text": [
      "Acceptance Ratio: 0.5105200000000001\n",
      "Expected Energy: -0.6021552720935315 +/- 4.1589410648592304e-05\n",
      "Std of Expected Energy: 0.00415894106485923\n"
     ]
    },
    {
     "name": "stderr",
     "output_type": "stream",
     "text": [
      "100%|██████████| 350/350 [00:34<00:00, 10.26it/s]\n"
     ]
    },
    {
     "name": "stdout",
     "output_type": "stream",
     "text": [
      "Acceptance Ratio: 0.5137700000000001\n",
      "Expected Energy: -0.6018061309208121 +/- 4.4150739396084536e-05\n",
      "Std of Expected Energy: 0.004415073939608454\n"
     ]
    },
    {
     "name": "stderr",
     "output_type": "stream",
     "text": [
      "100%|██████████| 350/350 [00:32<00:00, 10.63it/s]\n"
     ]
    },
    {
     "name": "stdout",
     "output_type": "stream",
     "text": [
      "Acceptance Ratio: 0.5157\n",
      "Expected Energy: -0.6012127475058544 +/- 4.3444641608163916e-05\n",
      "Std of Expected Energy: 0.004344464160816392\n"
     ]
    },
    {
     "name": "stderr",
     "output_type": "stream",
     "text": [
      "100%|██████████| 350/350 [00:32<00:00, 10.73it/s]\n"
     ]
    },
    {
     "name": "stdout",
     "output_type": "stream",
     "text": [
      "Acceptance Ratio: 0.51734\n",
      "Expected Energy: -0.6006154995661964 +/- 4.513288063611065e-05\n",
      "Std of Expected Energy: 0.004513288063611065\n"
     ]
    },
    {
     "name": "stderr",
     "output_type": "stream",
     "text": [
      "100%|██████████| 350/350 [00:33<00:00, 10.54it/s]\n"
     ]
    },
    {
     "name": "stdout",
     "output_type": "stream",
     "text": [
      "Acceptance Ratio: 0.52097\n",
      "Expected Energy: -0.599657278508049 +/- 4.144047505028004e-05\n",
      "Std of Expected Energy: 0.004144047505028004\n"
     ]
    },
    {
     "name": "stderr",
     "output_type": "stream",
     "text": [
      "100%|██████████| 350/350 [00:33<00:00, 10.49it/s]\n"
     ]
    },
    {
     "name": "stdout",
     "output_type": "stream",
     "text": [
      "Acceptance Ratio: 0.52453\n",
      "Expected Energy: -0.5987923514439606 +/- 4.3265170493683136e-05\n",
      "Std of Expected Energy: 0.0043265170493683135\n"
     ]
    },
    {
     "name": "stderr",
     "output_type": "stream",
     "text": [
      "100%|██████████| 350/350 [00:33<00:00, 10.58it/s]\n"
     ]
    },
    {
     "name": "stdout",
     "output_type": "stream",
     "text": [
      "Acceptance Ratio: 0.5271300000000001\n",
      "Expected Energy: -0.5978044601571418 +/- 4.740762571279968e-05\n",
      "Std of Expected Energy: 0.004740762571279968\n"
     ]
    },
    {
     "name": "stderr",
     "output_type": "stream",
     "text": [
      "100%|██████████| 350/350 [00:32<00:00, 10.61it/s]\n"
     ]
    },
    {
     "name": "stdout",
     "output_type": "stream",
     "text": [
      "Acceptance Ratio: 0.5276500000000001\n",
      "Expected Energy: -0.5966832411626932 +/- 4.7605675337333835e-05\n",
      "Std of Expected Energy: 0.004760567533733383\n"
     ]
    },
    {
     "name": "stderr",
     "output_type": "stream",
     "text": [
      "100%|██████████| 350/350 [00:33<00:00, 10.34it/s]\n"
     ]
    },
    {
     "name": "stdout",
     "output_type": "stream",
     "text": [
      "Acceptance Ratio: 0.53249\n",
      "Expected Energy: -0.5955934301656908 +/- 4.514974192092912e-05\n",
      "Std of Expected Energy: 0.0045149741920929125\n"
     ]
    },
    {
     "name": "stderr",
     "output_type": "stream",
     "text": [
      "100%|██████████| 350/350 [00:32<00:00, 10.69it/s]\n"
     ]
    },
    {
     "name": "stdout",
     "output_type": "stream",
     "text": [
      "Acceptance Ratio: 0.53183\n",
      "Expected Energy: -0.5943987516868673 +/- 4.806757222652761e-05\n",
      "Std of Expected Energy: 0.004806757222652761\n"
     ]
    },
    {
     "name": "stderr",
     "output_type": "stream",
     "text": [
      "100%|██████████| 350/350 [00:33<00:00, 10.43it/s]\n"
     ]
    },
    {
     "name": "stdout",
     "output_type": "stream",
     "text": [
      "Acceptance Ratio: 0.5345300000000001\n",
      "Expected Energy: -0.5931275555023202 +/- 7.117305473252345e-05\n",
      "Std of Expected Energy: 0.007117305473252344\n"
     ]
    },
    {
     "name": "stderr",
     "output_type": "stream",
     "text": [
      "100%|██████████| 350/350 [00:33<00:00, 10.31it/s]\n"
     ]
    },
    {
     "name": "stdout",
     "output_type": "stream",
     "text": [
      "Acceptance Ratio: 0.53766\n",
      "Expected Energy: -0.5918152931641757 +/- 5.9957809451466516e-05\n",
      "Std of Expected Energy: 0.005995780945146652\n"
     ]
    },
    {
     "name": "stderr",
     "output_type": "stream",
     "text": [
      "100%|██████████| 350/350 [00:34<00:00, 10.28it/s]\n"
     ]
    },
    {
     "name": "stdout",
     "output_type": "stream",
     "text": [
      "Acceptance Ratio: 0.53808\n",
      "Expected Energy: -0.5905093937827427 +/- 5.375393402376675e-05\n",
      "Std of Expected Energy: 0.0053753934023766745\n"
     ]
    },
    {
     "name": "stderr",
     "output_type": "stream",
     "text": [
      "100%|██████████| 350/350 [00:33<00:00, 10.44it/s]\n"
     ]
    },
    {
     "name": "stdout",
     "output_type": "stream",
     "text": [
      "Acceptance Ratio: 0.5442\n",
      "Expected Energy: -0.5891716691822835 +/- 5.1740595519037663e-05\n",
      "Std of Expected Energy: 0.0051740595519037666\n"
     ]
    },
    {
     "name": "stderr",
     "output_type": "stream",
     "text": [
      "100%|██████████| 350/350 [00:33<00:00, 10.43it/s]\n"
     ]
    },
    {
     "name": "stdout",
     "output_type": "stream",
     "text": [
      "Acceptance Ratio: 0.54217\n",
      "Expected Energy: -0.5879076825225256 +/- 6.781891017251785e-05\n",
      "Std of Expected Energy: 0.006781891017251784\n"
     ]
    },
    {
     "name": "stderr",
     "output_type": "stream",
     "text": [
      "100%|██████████| 350/350 [00:33<00:00, 10.41it/s]\n"
     ]
    },
    {
     "name": "stdout",
     "output_type": "stream",
     "text": [
      "Acceptance Ratio: 0.5436500000000001\n",
      "Expected Energy: -0.5863305657492758 +/- 5.2167182183537276e-05\n",
      "Std of Expected Energy: 0.005216718218353728\n"
     ]
    },
    {
     "name": "stderr",
     "output_type": "stream",
     "text": [
      "100%|██████████| 350/350 [00:33<00:00, 10.54it/s]\n"
     ]
    },
    {
     "name": "stdout",
     "output_type": "stream",
     "text": [
      "Acceptance Ratio: 0.5471600000000001\n",
      "Expected Energy: -0.5849048594725812 +/- 5.106684536798722e-05\n",
      "Std of Expected Energy: 0.005106684536798722\n"
     ]
    },
    {
     "name": "stderr",
     "output_type": "stream",
     "text": [
      "100%|██████████| 350/350 [00:33<00:00, 10.40it/s]\n"
     ]
    },
    {
     "name": "stdout",
     "output_type": "stream",
     "text": [
      "Acceptance Ratio: 0.54957\n",
      "Expected Energy: -0.5834379727638772 +/- 5.9431070396997335e-05\n",
      "Std of Expected Energy: 0.0059431070396997335\n"
     ]
    },
    {
     "name": "stderr",
     "output_type": "stream",
     "text": [
      "100%|██████████| 350/350 [00:33<00:00, 10.46it/s]\n"
     ]
    },
    {
     "name": "stdout",
     "output_type": "stream",
     "text": [
      "Acceptance Ratio: 0.5495800000000001\n",
      "Expected Energy: -0.5820881399562338 +/- 6.2063875038633e-05\n",
      "Std of Expected Energy: 0.0062063875038633\n"
     ]
    },
    {
     "name": "stderr",
     "output_type": "stream",
     "text": [
      "100%|██████████| 350/350 [00:33<00:00, 10.45it/s]\n"
     ]
    },
    {
     "name": "stdout",
     "output_type": "stream",
     "text": [
      "Acceptance Ratio: 0.55201\n",
      "Expected Energy: -0.5805450363379391 +/- 5.626815992839673e-05\n",
      "Std of Expected Energy: 0.005626815992839673\n"
     ]
    },
    {
     "name": "stderr",
     "output_type": "stream",
     "text": [
      "100%|██████████| 350/350 [00:34<00:00, 10.29it/s]\n"
     ]
    },
    {
     "name": "stdout",
     "output_type": "stream",
     "text": [
      "Acceptance Ratio: 0.55237\n",
      "Expected Energy: -0.5790271890074812 +/- 5.323206263059338e-05\n",
      "Std of Expected Energy: 0.005323206263059338\n"
     ]
    },
    {
     "name": "stderr",
     "output_type": "stream",
     "text": [
      "100%|██████████| 350/350 [00:34<00:00, 10.02it/s]\n"
     ]
    },
    {
     "name": "stdout",
     "output_type": "stream",
     "text": [
      "Acceptance Ratio: 0.55361\n",
      "Expected Energy: -0.5774776703365769 +/- 5.6691844909655034e-05\n",
      "Std of Expected Energy: 0.005669184490965503\n"
     ]
    },
    {
     "name": "stderr",
     "output_type": "stream",
     "text": [
      "100%|██████████| 350/350 [00:33<00:00, 10.52it/s]\n"
     ]
    },
    {
     "name": "stdout",
     "output_type": "stream",
     "text": [
      "Acceptance Ratio: 0.5581\n",
      "Expected Energy: -0.5760654845320393 +/- 5.618231819555238e-05\n",
      "Std of Expected Energy: 0.0056182318195552375\n"
     ]
    },
    {
     "name": "stderr",
     "output_type": "stream",
     "text": [
      "100%|██████████| 350/350 [00:32<00:00, 10.64it/s]\n"
     ]
    },
    {
     "name": "stdout",
     "output_type": "stream",
     "text": [
      "Acceptance Ratio: 0.5584100000000001\n",
      "Expected Energy: -0.574570521679871 +/- 5.142901060539736e-05\n",
      "Std of Expected Energy: 0.005142901060539736\n"
     ]
    },
    {
     "name": "stderr",
     "output_type": "stream",
     "text": [
      "100%|██████████| 350/350 [00:33<00:00, 10.30it/s]\n"
     ]
    },
    {
     "name": "stdout",
     "output_type": "stream",
     "text": [
      "Acceptance Ratio: 0.5596300000000001\n",
      "Expected Energy: -0.5731132840455814 +/- 5.9210105181379195e-05\n",
      "Std of Expected Energy: 0.00592101051813792\n"
     ]
    },
    {
     "name": "stderr",
     "output_type": "stream",
     "text": [
      "100%|██████████| 350/350 [00:34<00:00, 10.04it/s]\n"
     ]
    },
    {
     "name": "stdout",
     "output_type": "stream",
     "text": [
      "Acceptance Ratio: 0.5599900000000001\n",
      "Expected Energy: -0.5716492733524884 +/- 5.7416390391487983e-05\n",
      "Std of Expected Energy: 0.0057416390391487986\n"
     ]
    },
    {
     "name": "stderr",
     "output_type": "stream",
     "text": [
      "100%|██████████| 350/350 [00:33<00:00, 10.30it/s]\n"
     ]
    },
    {
     "name": "stdout",
     "output_type": "stream",
     "text": [
      "Acceptance Ratio: 0.56122\n",
      "Expected Energy: -0.5700145864182709 +/- 5.812932055712934e-05\n",
      "Std of Expected Energy: 0.005812932055712934\n"
     ]
    },
    {
     "name": "stderr",
     "output_type": "stream",
     "text": [
      "100%|██████████| 350/350 [00:34<00:00, 10.20it/s]\n"
     ]
    },
    {
     "name": "stdout",
     "output_type": "stream",
     "text": [
      "Acceptance Ratio: 0.5607000000000001\n",
      "Expected Energy: -0.5686989443207726 +/- 6.157438612505338e-05\n",
      "Std of Expected Energy: 0.006157438612505338\n"
     ]
    },
    {
     "name": "stderr",
     "output_type": "stream",
     "text": [
      "100%|██████████| 350/350 [00:34<00:00, 10.24it/s]\n"
     ]
    },
    {
     "name": "stdout",
     "output_type": "stream",
     "text": [
      "Acceptance Ratio: 0.56274\n",
      "Expected Energy: -0.5672294865535793 +/- 5.698333273190346e-05\n",
      "Std of Expected Energy: 0.005698333273190346\n"
     ]
    },
    {
     "name": "stderr",
     "output_type": "stream",
     "text": [
      "100%|██████████| 350/350 [00:34<00:00, 10.29it/s]\n"
     ]
    },
    {
     "name": "stdout",
     "output_type": "stream",
     "text": [
      "Acceptance Ratio: 0.5618500000000001\n",
      "Expected Energy: -0.5658849111682878 +/- 6.204344383388193e-05\n",
      "Std of Expected Energy: 0.006204344383388193\n"
     ]
    },
    {
     "name": "stderr",
     "output_type": "stream",
     "text": [
      "100%|██████████| 350/350 [00:33<00:00, 10.35it/s]\n"
     ]
    },
    {
     "name": "stdout",
     "output_type": "stream",
     "text": [
      "Acceptance Ratio: 0.5643400000000001\n",
      "Expected Energy: -0.5643724176684217 +/- 4.561848824046647e-05\n",
      "Std of Expected Energy: 0.004561848824046647\n"
     ]
    },
    {
     "name": "stderr",
     "output_type": "stream",
     "text": [
      "100%|██████████| 350/350 [00:36<00:00,  9.70it/s]\n"
     ]
    },
    {
     "name": "stdout",
     "output_type": "stream",
     "text": [
      "Acceptance Ratio: 0.56716\n",
      "Expected Energy: -0.5628146942446467 +/- 0.00014102717726825425\n",
      "Std of Expected Energy: 0.014102717726825425\n"
     ]
    },
    {
     "name": "stderr",
     "output_type": "stream",
     "text": [
      "100%|██████████| 350/350 [00:35<00:00,  9.97it/s]\n"
     ]
    },
    {
     "name": "stdout",
     "output_type": "stream",
     "text": [
      "Acceptance Ratio: 0.5657800000000001\n",
      "Expected Energy: -0.5615419789437006 +/- 6.61700628158493e-05\n",
      "Std of Expected Energy: 0.00661700628158493\n"
     ]
    },
    {
     "name": "stderr",
     "output_type": "stream",
     "text": [
      "100%|██████████| 350/350 [00:34<00:00, 10.18it/s]\n"
     ]
    },
    {
     "name": "stdout",
     "output_type": "stream",
     "text": [
      "Acceptance Ratio: 0.56681\n",
      "Expected Energy: -0.5601233725216003 +/- 6.012601956425874e-05\n",
      "Std of Expected Energy: 0.0060126019564258745\n"
     ]
    },
    {
     "name": "stderr",
     "output_type": "stream",
     "text": [
      "100%|██████████| 350/350 [00:34<00:00, 10.27it/s]\n"
     ]
    },
    {
     "name": "stdout",
     "output_type": "stream",
     "text": [
      "Acceptance Ratio: 0.5656800000000001\n",
      "Expected Energy: -0.5587368031550383 +/- 6.016693927851897e-05\n",
      "Std of Expected Energy: 0.006016693927851897\n"
     ]
    },
    {
     "name": "stderr",
     "output_type": "stream",
     "text": [
      "100%|██████████| 350/350 [00:34<00:00, 10.20it/s]\n"
     ]
    },
    {
     "name": "stdout",
     "output_type": "stream",
     "text": [
      "Acceptance Ratio: 0.56786\n",
      "Expected Energy: -0.5574936825714631 +/- 6.300960388143789e-05\n",
      "Std of Expected Energy: 0.006300960388143788\n"
     ]
    },
    {
     "name": "stderr",
     "output_type": "stream",
     "text": [
      "100%|██████████| 350/350 [00:34<00:00, 10.28it/s]\n"
     ]
    },
    {
     "name": "stdout",
     "output_type": "stream",
     "text": [
      "Acceptance Ratio: 0.5684600000000001\n",
      "Expected Energy: -0.5560237147389522 +/- 6.824052764240715e-05\n",
      "Std of Expected Energy: 0.006824052764240716\n"
     ]
    },
    {
     "name": "stderr",
     "output_type": "stream",
     "text": [
      "100%|██████████| 350/350 [00:34<00:00, 10.27it/s]\n"
     ]
    },
    {
     "name": "stdout",
     "output_type": "stream",
     "text": [
      "Acceptance Ratio: 0.5688000000000001\n",
      "Expected Energy: -0.5547778516846692 +/- 7.564836488230223e-05\n",
      "Std of Expected Energy: 0.007564836488230224\n"
     ]
    },
    {
     "name": "stderr",
     "output_type": "stream",
     "text": [
      "100%|██████████| 350/350 [00:35<00:00,  9.97it/s]\n"
     ]
    },
    {
     "name": "stdout",
     "output_type": "stream",
     "text": [
      "Acceptance Ratio: 0.56716\n",
      "Expected Energy: -0.5534614266100151 +/- 5.949924510208409e-05\n",
      "Std of Expected Energy: 0.005949924510208409\n"
     ]
    },
    {
     "name": "stderr",
     "output_type": "stream",
     "text": [
      "100%|██████████| 350/350 [00:34<00:00, 10.12it/s]\n"
     ]
    },
    {
     "name": "stdout",
     "output_type": "stream",
     "text": [
      "Acceptance Ratio: 0.56977\n",
      "Expected Energy: -0.5520809413514017 +/- 6.404979001835698e-05\n",
      "Std of Expected Energy: 0.006404979001835698\n"
     ]
    },
    {
     "name": "stderr",
     "output_type": "stream",
     "text": [
      "100%|██████████| 350/350 [00:34<00:00, 10.03it/s]\n"
     ]
    },
    {
     "name": "stdout",
     "output_type": "stream",
     "text": [
      "Acceptance Ratio: 0.56821\n",
      "Expected Energy: -0.5509783663308585 +/- 7.051211669982638e-05\n",
      "Std of Expected Energy: 0.007051211669982638\n"
     ]
    },
    {
     "name": "stderr",
     "output_type": "stream",
     "text": [
      "100%|██████████| 350/350 [00:34<00:00, 10.08it/s]\n"
     ]
    },
    {
     "name": "stdout",
     "output_type": "stream",
     "text": [
      "Acceptance Ratio: 0.56898\n",
      "Expected Energy: -0.5496650310014899 +/- 6.685790312497776e-05\n",
      "Std of Expected Energy: 0.0066857903124977755\n"
     ]
    },
    {
     "name": "stderr",
     "output_type": "stream",
     "text": [
      "100%|██████████| 350/350 [00:35<00:00,  9.99it/s]\n"
     ]
    },
    {
     "name": "stdout",
     "output_type": "stream",
     "text": [
      "Acceptance Ratio: 0.57008\n",
      "Expected Energy: -0.5484504427850951 +/- 6.55448471903173e-05\n",
      "Std of Expected Energy: 0.006554484719031729\n"
     ]
    },
    {
     "name": "stderr",
     "output_type": "stream",
     "text": [
      "100%|██████████| 350/350 [00:34<00:00, 10.21it/s]\n"
     ]
    },
    {
     "name": "stdout",
     "output_type": "stream",
     "text": [
      "Acceptance Ratio: 0.5688500000000001\n",
      "Expected Energy: -0.5473339613264955 +/- 6.652849321997469e-05\n",
      "Std of Expected Energy: 0.006652849321997469\n"
     ]
    },
    {
     "name": "stderr",
     "output_type": "stream",
     "text": [
      "100%|██████████| 350/350 [00:35<00:00,  9.83it/s]\n"
     ]
    },
    {
     "name": "stdout",
     "output_type": "stream",
     "text": [
      "Acceptance Ratio: 0.56921\n",
      "Expected Energy: -0.546087178251384 +/- 6.298452708776592e-05\n",
      "Std of Expected Energy: 0.0062984527087765925\n"
     ]
    },
    {
     "name": "stderr",
     "output_type": "stream",
     "text": [
      "100%|██████████| 350/350 [00:34<00:00, 10.08it/s]\n"
     ]
    },
    {
     "name": "stdout",
     "output_type": "stream",
     "text": [
      "Acceptance Ratio: 0.5698500000000001\n",
      "Expected Energy: -0.5449129342068681 +/- 6.652507889431417e-05\n",
      "Std of Expected Energy: 0.006652507889431417\n"
     ]
    },
    {
     "name": "stderr",
     "output_type": "stream",
     "text": [
      "100%|██████████| 350/350 [00:35<00:00,  9.93it/s]\n"
     ]
    },
    {
     "name": "stdout",
     "output_type": "stream",
     "text": [
      "Acceptance Ratio: 0.5701700000000001\n",
      "Expected Energy: -0.5437848021444552 +/- 6.322456096963563e-05\n",
      "Std of Expected Energy: 0.006322456096963563\n"
     ]
    },
    {
     "name": "stderr",
     "output_type": "stream",
     "text": [
      "100%|██████████| 350/350 [00:35<00:00,  9.98it/s]\n"
     ]
    },
    {
     "name": "stdout",
     "output_type": "stream",
     "text": [
      "Acceptance Ratio: 0.57047\n",
      "Expected Energy: -0.5426049277197493 +/- 6.385838423942104e-05\n",
      "Std of Expected Energy: 0.006385838423942104\n"
     ]
    },
    {
     "name": "stderr",
     "output_type": "stream",
     "text": [
      "100%|██████████| 350/350 [00:34<00:00, 10.07it/s]\n"
     ]
    },
    {
     "name": "stdout",
     "output_type": "stream",
     "text": [
      "Acceptance Ratio: 0.5681400000000001\n",
      "Expected Energy: -0.5415691288183972 +/- 5.432265870791703e-05\n",
      "Std of Expected Energy: 0.005432265870791703\n"
     ]
    },
    {
     "name": "stderr",
     "output_type": "stream",
     "text": [
      "100%|██████████| 350/350 [00:34<00:00, 10.04it/s]\n"
     ]
    },
    {
     "name": "stdout",
     "output_type": "stream",
     "text": [
      "Acceptance Ratio: 0.56847\n",
      "Expected Energy: -0.5404391463044202 +/- 6.495029097617655e-05\n",
      "Std of Expected Energy: 0.0064950290976176555\n"
     ]
    },
    {
     "name": "stderr",
     "output_type": "stream",
     "text": [
      "100%|██████████| 350/350 [00:34<00:00, 10.06it/s]\n"
     ]
    },
    {
     "name": "stdout",
     "output_type": "stream",
     "text": [
      "Acceptance Ratio: 0.5695800000000001\n",
      "Expected Energy: -0.5393993493955634 +/- 6.38050303650705e-05\n",
      "Std of Expected Energy: 0.00638050303650705\n"
     ]
    },
    {
     "name": "stderr",
     "output_type": "stream",
     "text": [
      "100%|██████████| 350/350 [00:36<00:00,  9.63it/s]\n"
     ]
    },
    {
     "name": "stdout",
     "output_type": "stream",
     "text": [
      "Acceptance Ratio: 0.57082\n",
      "Expected Energy: -0.5382583263963718 +/- 6.645591715090321e-05\n",
      "Std of Expected Energy: 0.0066455917150903205\n"
     ]
    },
    {
     "name": "stderr",
     "output_type": "stream",
     "text": [
      "100%|██████████| 350/350 [00:36<00:00,  9.64it/s]\n"
     ]
    },
    {
     "name": "stdout",
     "output_type": "stream",
     "text": [
      "Acceptance Ratio: 0.57108\n",
      "Expected Energy: -0.5373875859820388 +/- 6.706701842522966e-05\n",
      "Std of Expected Energy: 0.006706701842522966\n"
     ]
    },
    {
     "name": "stderr",
     "output_type": "stream",
     "text": [
      "100%|██████████| 350/350 [00:36<00:00,  9.70it/s]\n"
     ]
    },
    {
     "name": "stdout",
     "output_type": "stream",
     "text": [
      "Acceptance Ratio: 0.5695\n",
      "Expected Energy: -0.5363369088504649 +/- 6.485567949223727e-05\n",
      "Std of Expected Energy: 0.006485567949223727\n"
     ]
    },
    {
     "name": "stderr",
     "output_type": "stream",
     "text": [
      "100%|██████████| 350/350 [00:37<00:00,  9.44it/s]\n"
     ]
    },
    {
     "name": "stdout",
     "output_type": "stream",
     "text": [
      "Acceptance Ratio: 0.57037\n",
      "Expected Energy: -0.5353840246402776 +/- 6.2700825518587e-05\n",
      "Std of Expected Energy: 0.0062700825518587\n"
     ]
    },
    {
     "name": "stderr",
     "output_type": "stream",
     "text": [
      "100%|██████████| 350/350 [00:38<00:00,  9.00it/s]\n"
     ]
    },
    {
     "name": "stdout",
     "output_type": "stream",
     "text": [
      "Acceptance Ratio: 0.56888\n",
      "Expected Energy: -0.5344597301385843 +/- 6.252338220667409e-05\n",
      "Std of Expected Energy: 0.006252338220667409\n"
     ]
    },
    {
     "name": "stderr",
     "output_type": "stream",
     "text": [
      "100%|██████████| 350/350 [00:37<00:00,  9.28it/s]\n"
     ]
    },
    {
     "name": "stdout",
     "output_type": "stream",
     "text": [
      "Acceptance Ratio: 0.56791\n",
      "Expected Energy: -0.5334740285291629 +/- 6.310814175903857e-05\n",
      "Std of Expected Energy: 0.006310814175903856\n"
     ]
    },
    {
     "name": "stderr",
     "output_type": "stream",
     "text": [
      "100%|██████████| 350/350 [00:35<00:00,  9.83it/s]\n"
     ]
    },
    {
     "name": "stdout",
     "output_type": "stream",
     "text": [
      "Acceptance Ratio: 0.56828\n",
      "Expected Energy: -0.5326250749997428 +/- 6.113332091873906e-05\n",
      "Std of Expected Energy: 0.006113332091873907\n"
     ]
    },
    {
     "name": "stderr",
     "output_type": "stream",
     "text": [
      "100%|██████████| 350/350 [00:36<00:00,  9.55it/s]\n"
     ]
    },
    {
     "name": "stdout",
     "output_type": "stream",
     "text": [
      "Acceptance Ratio: 0.56444\n",
      "Expected Energy: -0.5316611199523311 +/- 6.643040268689687e-05\n",
      "Std of Expected Energy: 0.006643040268689688\n"
     ]
    },
    {
     "name": "stderr",
     "output_type": "stream",
     "text": [
      "100%|██████████| 350/350 [00:36<00:00,  9.59it/s]\n"
     ]
    },
    {
     "name": "stdout",
     "output_type": "stream",
     "text": [
      "Acceptance Ratio: 0.5681700000000001\n",
      "Expected Energy: -0.5307636513945181 +/- 6.222320463579712e-05\n",
      "Std of Expected Energy: 0.006222320463579713\n"
     ]
    },
    {
     "name": "stderr",
     "output_type": "stream",
     "text": [
      "100%|██████████| 350/350 [00:36<00:00,  9.56it/s]\n"
     ]
    },
    {
     "name": "stdout",
     "output_type": "stream",
     "text": [
      "Acceptance Ratio: 0.5685300000000001\n",
      "Expected Energy: -0.5298550284608091 +/- 6.381335211006313e-05\n",
      "Std of Expected Energy: 0.006381335211006313\n"
     ]
    },
    {
     "name": "stderr",
     "output_type": "stream",
     "text": [
      "100%|██████████| 350/350 [00:36<00:00,  9.56it/s]\n"
     ]
    },
    {
     "name": "stdout",
     "output_type": "stream",
     "text": [
      "Acceptance Ratio: 0.56764\n",
      "Expected Energy: -0.529117971985774 +/- 6.255647315340304e-05\n",
      "Std of Expected Energy: 0.006255647315340305\n"
     ]
    },
    {
     "name": "stderr",
     "output_type": "stream",
     "text": [
      "100%|██████████| 350/350 [00:37<00:00,  9.40it/s]\n"
     ]
    },
    {
     "name": "stdout",
     "output_type": "stream",
     "text": [
      "Acceptance Ratio: 0.5680200000000001\n",
      "Expected Energy: -0.5283282210140002 +/- 6.182903035224858e-05\n",
      "Std of Expected Energy: 0.006182903035224859\n"
     ]
    },
    {
     "name": "stderr",
     "output_type": "stream",
     "text": [
      "100%|██████████| 350/350 [00:37<00:00,  9.35it/s]\n"
     ]
    },
    {
     "name": "stdout",
     "output_type": "stream",
     "text": [
      "Acceptance Ratio: 0.56769\n",
      "Expected Energy: -0.5273846240204587 +/- 6.51437932113409e-05\n",
      "Std of Expected Energy: 0.0065143793211340905\n"
     ]
    },
    {
     "name": "stderr",
     "output_type": "stream",
     "text": [
      "100%|██████████| 350/350 [00:36<00:00,  9.56it/s]\n"
     ]
    },
    {
     "name": "stdout",
     "output_type": "stream",
     "text": [
      "Acceptance Ratio: 0.56718\n",
      "Expected Energy: -0.5267091180537559 +/- 6.405447761541718e-05\n",
      "Std of Expected Energy: 0.006405447761541718\n"
     ]
    },
    {
     "name": "stderr",
     "output_type": "stream",
     "text": [
      "100%|██████████| 350/350 [00:36<00:00,  9.54it/s]\n"
     ]
    },
    {
     "name": "stdout",
     "output_type": "stream",
     "text": [
      "Acceptance Ratio: 0.57059\n",
      "Expected Energy: -0.5258321854158859 +/- 6.084105532328662e-05\n",
      "Std of Expected Energy: 0.006084105532328661\n"
     ]
    },
    {
     "name": "stderr",
     "output_type": "stream",
     "text": [
      "100%|██████████| 350/350 [00:37<00:00,  9.36it/s]\n"
     ]
    },
    {
     "name": "stdout",
     "output_type": "stream",
     "text": [
      "Acceptance Ratio: 0.56691\n",
      "Expected Energy: -0.5252486927662895 +/- 5.876280742306603e-05\n",
      "Std of Expected Energy: 0.005876280742306603\n"
     ]
    },
    {
     "name": "stderr",
     "output_type": "stream",
     "text": [
      "100%|██████████| 350/350 [00:36<00:00,  9.52it/s]\n"
     ]
    },
    {
     "name": "stdout",
     "output_type": "stream",
     "text": [
      "Acceptance Ratio: 0.5656\n",
      "Expected Energy: -0.5244832257850552 +/- 7.413512522662858e-05\n",
      "Std of Expected Energy: 0.007413512522662858\n"
     ]
    }
   ],
   "source": [
    "ds = jnp.linspace(0.7, 5., num = 100)\n",
    "Es = []\n",
    "dEs = []\n",
    "\n",
    "# for dist in ds:\n",
    "#     E, dE =  h2plus.run(dist)\n",
    "#     Es.append(E)\n",
    "#     dEs.append(dE)"
   ]
  },
  {
   "cell_type": "code",
   "execution_count": 17,
   "metadata": {},
   "outputs": [],
   "source": [
    "# np.savetxt(\"../../data/H2plus.csv\",jnp.stack((ds, jnp.array(Es), jnp.array(dEs)), axis = 1))"
   ]
  },
  {
   "cell_type": "markdown",
   "metadata": {},
   "source": [
    "## Plot"
   ]
  },
  {
   "cell_type": "code",
   "execution_count": 21,
   "metadata": {},
   "outputs": [],
   "source": [
    "d, Efci = np.loadtxt(\"../../data/H2plus_fci_augccpvtz.csv\", skiprows=1, unpack=True)\n",
    "d2, E, dE = np.loadtxt(\"../../data/H2plus.csv\", skiprows=1, unpack=True)"
   ]
  },
  {
   "cell_type": "code",
   "execution_count": 67,
   "metadata": {},
   "outputs": [
    {
     "data": {
      "image/png": "[encoded data removed]",
      "text/plain": [
       "<Figure size 640x480 with 1 Axes>"
      ]
     },
     "metadata": {},
     "output_type": "display_data"
    }
   ],
   "source": [
    "plt.plot(d, Efci, label = \"FCI\")\n",
    "plt.errorbar(d2, E, yerr = dE, marker = \".\", label = \"our method\")\n",
    "\n",
    "plt.legend()\n",
    "plt.xlabel(\"Interatomic Distance [Bohr]\")\n",
    "plt.ylabel(\"Energy [Hartree]\")\n",
    "plt.title(\"H2+ ion\")\n",
    "plt.savefig(\"../../plots/dihydrogenplus.pdf\")"
   ]
  },
  {
   "cell_type": "code",
   "execution_count": 68,
   "metadata": {},
   "outputs": [
    {
     "data": {
      "image/png": "[encoded data removed]",
      "text/plain": [
       "<Figure size 640x480 with 1 Axes>"
      ]
     },
     "metadata": {},
     "output_type": "display_data"
    }
   ],
   "source": [
    "plt.errorbar(d, E-Efci, yerr = dE, linestyle = \"\", marker = \".\")\n",
    "plt.axhline(0)\n",
    "plt.ylabel(\"$E - E_{FCI}$ [Hartree]\")\n",
    "plt.xlabel(\"Interatomic Distance [Bohr]\")\n",
    "plt.title(\"Energy Compared to FCI\")\n",
    "plt.savefig(\"../../plots/dihydrogenplus_error.pdf\")"
   ]
  }
 ],
 "metadata": {
  "kernelspec": {
   "display_name": ".venv",
   "language": "python",
   "name": "python3"
  },
  "language_info": {
   "codemirror_mode": {
    "name": "ipython",
    "version": 3
   },
   "file_extension": ".py",
   "mimetype": "text/x-python",
   "name": "python",
   "nbconvert_exporter": "python",
   "pygments_lexer": "ipython3",
   "version": "3.10.12"
  }
 },
 "nbformat": 4,
 "nbformat_minor": 2
}
