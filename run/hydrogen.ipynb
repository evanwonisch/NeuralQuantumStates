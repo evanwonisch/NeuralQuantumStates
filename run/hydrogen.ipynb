{
 "cells": [
  {
   "cell_type": "code",
   "execution_count": 1,
   "metadata": {},
   "outputs": [],
   "source": [
    "import sys\n",
    "sys.path.insert(0, \"..\")\n",
    "\n",
    "import jax\n",
    "import jax.numpy as jnp\n",
    "\n",
    "import flax.linen as nn\n",
    "\n",
    "from tqdm import tqdm\n",
    "from functools import partial\n",
    "\n",
    "import module.samplers\n",
    "import module.hamiltonians\n",
    "import module.wavefunctions\n",
    "\n",
    "import optax\n",
    "import numpy as np\n",
    "from matplotlib import pyplot as plt"
   ]
  },
  {
   "cell_type": "code",
   "execution_count": 2,
   "metadata": {},
   "outputs": [
    {
     "name": "stderr",
     "output_type": "stream",
     "text": [
      "No GPU/TPU found, falling back to CPU. (Set TF_CPP_MIN_LOG_LEVEL=0 and rerun for more info.)\n"
     ]
    }
   ],
   "source": [
    "key = jax.random.PRNGKey(0)"
   ]
  },
  {
   "cell_type": "markdown",
   "metadata": {},
   "source": [
    "## Hydrogen Atom\n",
    "\n",
    "In this notebook we demonstrate a VMC method for finding the ground state of the hydrogen atom:\n",
    "\n",
    "$$\n",
    "H = -\\frac{\\hbar^2 }{2 m}\\Delta - \\frac{e^2}{4\\pi\\epsilon_0 r}\n",
    "$$\n",
    "\n",
    "The corresponding energies are known:\n",
    "$$\n",
    "E = -\\frac{1}{n^2}\\frac{m e^4}{32\\pi^2\\epsilon_{0}^2\\hbar^2}\n",
    "$$\n",
    "\n",
    "We set $\\hbar = m = 1$ and $e^4 = 32 \\pi^2 \\epsilon_{0}^2$. The ground state energy is thus:\n",
    "\n",
    "$$\n",
    "E = -1\n",
    "$$\n",
    "\n",
    "In the code, the hamiltonian is defined as follows:"
   ]
  },
  {
   "cell_type": "code",
   "execution_count": 3,
   "metadata": {},
   "outputs": [],
   "source": [
    "#\n",
    "# The potential energy function depending on the coordinates\n",
    "#\n",
    "def potential(x):\n",
    "    return -jnp.sqrt(2)/jnp.sqrt(jnp.sum(x**2, axis = -1))\n",
    "\n",
    "\n",
    "# the hamiltonian\n",
    "H = module.hamiltonians.Particles(masses = [1], potential = potential, d_space = 3)"
   ]
  },
  {
   "cell_type": "markdown",
   "metadata": {},
   "source": [
    "We use a Neural Network variational Ansatz."
   ]
  },
  {
   "cell_type": "code",
   "execution_count": 4,
   "metadata": {},
   "outputs": [],
   "source": [
    "class NN(nn.Module):\n",
    "    @nn.compact\n",
    "    def __call__(self, x):\n",
    "        x = nn.Dense(1024)(x)\n",
    "        x = nn.relu(x)\n",
    "        x = nn.Dense(1)(x)\n",
    "        return jnp.squeeze(x)"
   ]
  },
  {
   "cell_type": "code",
   "execution_count": 5,
   "metadata": {},
   "outputs": [],
   "source": [
    "class Orbital(module.wavefunctions.Wavefunction):\n",
    "    def __init__(self):\n",
    "        super().__init__((3,))\n",
    "        self.net = NN()\n",
    "\n",
    "    def init_parameters(self, key):\n",
    "        return self.net.init(key, jnp.empty(3))\n",
    "\n",
    "    def calc_logpsi(self, parameters, x):\n",
    "        r = jnp.sqrt(jnp.sum(x**2, axis = -1))\n",
    "        return self.net.apply(parameters, x) - r**2/15"
   ]
  },
  {
   "cell_type": "code",
   "execution_count": 6,
   "metadata": {},
   "outputs": [],
   "source": [
    "wavefun = Orbital()\n",
    "parameters = wavefun.init_parameters(key)"
   ]
  },
  {
   "cell_type": "code",
   "execution_count": 7,
   "metadata": {},
   "outputs": [
    {
     "data": {
      "text/plain": [
       "{'params': {'Dense_0': {'kernel': Array([[ 0.9060987 ,  0.36816266, -0.05715242, ...,  0.22409451,\n",
       "           -0.9129916 ,  0.22736004],\n",
       "          [-0.20423858,  0.1275947 , -0.9142261 , ...,  0.9099588 ,\n",
       "            0.3681885 , -0.48986638],\n",
       "          [-0.7881503 ,  0.6500748 ,  0.7441963 , ..., -0.15285815,\n",
       "           -0.17452267, -0.35595506]], dtype=float32),\n",
       "   'bias': Array([0., 0., 0., ..., 0., 0., 0.], dtype=float32)},\n",
       "  'Dense_1': {'kernel': Array([[-0.02437281],\n",
       "          [-0.01634442],\n",
       "          [-0.01255055],\n",
       "          ...,\n",
       "          [ 0.03554362],\n",
       "          [ 0.00570323],\n",
       "          [ 0.0200494 ]], dtype=float32),\n",
       "   'bias': Array([0.], dtype=float32)}}}"
      ]
     },
     "execution_count": 7,
     "metadata": {},
     "output_type": "execute_result"
    }
   ],
   "source": [
    "parameters"
   ]
  },
  {
   "cell_type": "markdown",
   "metadata": {},
   "source": [
    "We also initialise a MCMC sampler for our wavefunction and can take samples of it:"
   ]
  },
  {
   "cell_type": "code",
   "execution_count": 8,
   "metadata": {},
   "outputs": [],
   "source": [
    "sampler = module.samplers.MCMC(wavefun, variance = 0.1)"
   ]
  },
  {
   "cell_type": "markdown",
   "metadata": {},
   "source": [
    "Using the Hamiltonian, we can already compute the expected energy for our non-optimised wavefunction:"
   ]
  },
  {
   "cell_type": "code",
   "execution_count": 9,
   "metadata": {},
   "outputs": [
    {
     "name": "stdout",
     "output_type": "stream",
     "text": [
      "Acceptance Ratio: 0.88439995\n",
      "Expected Energy: -0.2181052\n",
      "Std of Expected Energy: 0.14725646\n"
     ]
    }
   ],
   "source": [
    "samples, ratio = sampler.sample(key, parameters, jax.random.normal(key, (3,)), 10000)\n",
    "key, _ = jax.random.split(key)\n",
    "H_loc = H.calc_H_loc(wavefun, parameters, samples)\n",
    "\n",
    "print(\"Acceptance Ratio:\", ratio)\n",
    "print(\"Expected Energy:\", jnp.mean(H_loc))\n",
    "print(\"Std of Expected Energy:\", jnp.std(H_loc))"
   ]
  },
  {
   "cell_type": "code",
   "execution_count": 197,
   "metadata": {},
   "outputs": [
    {
     "data": {
      "text/plain": [
       "<matplotlib.collections.PathCollection at 0x7efd788e82e0>"
      ]
     },
     "execution_count": 197,
     "metadata": {},
     "output_type": "execute_result"
    },
    {
     "data": {
      "image/png": "[encoded data removed]",
      "text/plain": [
       "<Figure size 640x480 with 1 Axes>"
      ]
     },
     "metadata": {},
     "output_type": "display_data"
    }
   ],
   "source": [
    "plt.scatter(samples[:,0], samples[:, 1])"
   ]
  },
  {
   "cell_type": "markdown",
   "metadata": {},
   "source": [
    "To estimate the gradient of the expected energy via the formula:\n",
    "\n",
    "$$\n",
    "\\nabla \\left< E \\right>  = 2\\,\\Re\\, \\mathbb{E}\\{\\nabla \\log \\Psi [H_{\\mathrm{loc}}(r) - \\mathbb{E}(E)]\\}\n",
    "$$\n",
    "\n",
    "we implement a help function:"
   ]
  },
  {
   "cell_type": "code",
   "execution_count": 185,
   "metadata": {},
   "outputs": [],
   "source": [
    "@partial(jax.jit, static_argnames=['hamiltonian', 'orbital'])\n",
    "def calc_grad_E(hamiltonian, orbital, parameters, samples):\n",
    "    \"\"\"\n",
    "    Calculates the gradient of the energy and the energy itself on a batch of samples.\n",
    "    \"\"\"\n",
    "\n",
    "    E_loc = hamiltonian.calc_H_loc(orbital, parameters, samples)\n",
    "    E = jnp.mean(E_loc)\n",
    "    dE = jnp.std(E_loc)\n",
    "    grad_log = orbital.grad_logpsi(parameters, samples)\n",
    "\n",
    "    return jax.tree_util.tree_map(lambda tree: 2*jnp.real(jnp.mean(jnp.swapaxes(jnp.swapaxes(tree, 0, -1) * (E_loc - E), 0, -1), axis = 0)), grad_log), E, dE"
   ]
  },
  {
   "cell_type": "markdown",
   "metadata": {},
   "source": [
    "The energy can now be optimised:"
   ]
  },
  {
   "cell_type": "code",
   "execution_count": 186,
   "metadata": {},
   "outputs": [],
   "source": [
    "Es = []\n",
    "dEs = []\n",
    "ratios = []"
   ]
  },
  {
   "cell_type": "code",
   "execution_count": 187,
   "metadata": {},
   "outputs": [
    {
     "name": "stderr",
     "output_type": "stream",
     "text": [
      "100%|██████████| 20/20 [00:02<00:00,  9.68it/s]\n"
     ]
    }
   ],
   "source": [
    "# define\n",
    "optimizer = optax.adam(learning_rate = 0.001)\n",
    "\n",
    "# initialise\n",
    "optimizer_state = optimizer.init(parameters)\n",
    "\n",
    "for i in tqdm(range(20)):\n",
    "    key, _ = jax.random.split(key)\n",
    "    samples, ratio = sampler.sample(key, parameters, jax.random.normal(key, (3,)), 6000)\n",
    "    grad, E, dE = calc_grad_E(H, wavefun, parameters, samples)\n",
    "\n",
    "    Es.append(E)\n",
    "    dEs.append(dE)\n",
    "    ratios.append(ratio)\n",
    "    \n",
    "    updates, optimizer_state = optimizer.update(grad, optimizer_state, parameters)\n",
    "    parameters = optax.apply_updates(parameters, updates)"
   ]
  },
  {
   "cell_type": "code",
   "execution_count": 188,
   "metadata": {},
   "outputs": [],
   "source": [
    "Es = np.array(Es)\n",
    "dEs = np.array(dEs)\n",
    "ratios = np.array(ratios)"
   ]
  },
  {
   "cell_type": "code",
   "execution_count": 189,
   "metadata": {},
   "outputs": [
    {
     "name": "stderr",
     "output_type": "stream",
     "text": [
      "No artists with labels found to put in legend.  Note that artists whose label start with an underscore are ignored when legend() is called with no argument.\n"
     ]
    },
    {
     "data": {
      "text/plain": [
       "Text(0.5, 1.0, 'Energy Optimisation')"
      ]
     },
     "execution_count": 189,
     "metadata": {},
     "output_type": "execute_result"
    },
    {
     "data": {
      "image/png": "[encoded data removed]",
      "text/plain": [
       "<Figure size 640x480 with 1 Axes>"
      ]
     },
     "metadata": {},
     "output_type": "display_data"
    }
   ],
   "source": [
    "plt.scatter(np.arange(Es.shape[0]), Es, marker = \".\")\n",
    "# plt.scatter(np.arange(Es.shape[0]), ratios)\n",
    "\n",
    "plt.axhline(-1)\n",
    "\n",
    "plt.legend()\n",
    "plt.xlabel(\"Iteration\")\n",
    "plt.ylabel(\"Energy\")\n",
    "plt.title(\"Energy Optimisation\")"
   ]
  },
  {
   "cell_type": "markdown",
   "metadata": {},
   "source": [
    "Now, the variance of the expected energy has decreased, as expected for correct eigenstate:"
   ]
  },
  {
   "cell_type": "code",
   "execution_count": 190,
   "metadata": {},
   "outputs": [
    {
     "name": "stdout",
     "output_type": "stream",
     "text": [
      "Acceptance Ratio: 0.0515\n",
      "Expected Energy: -12.29017\n",
      "Std of Expected Energy: 4.0518165\n"
     ]
    }
   ],
   "source": [
    "samples, ratio = sampler.sample(key, parameters, jax.random.normal(key, (3,)), 10000)\n",
    "H_loc = H.calc_H_loc(wavefun, parameters, samples)\n",
    "\n",
    "print(\"Acceptance Ratio:\", ratio)\n",
    "print(\"Expected Energy:\", jnp.mean(H_loc))\n",
    "print(\"Std of Expected Energy:\", jnp.std(H_loc))"
   ]
  },
  {
   "cell_type": "markdown",
   "metadata": {},
   "source": [
    "---"
   ]
  }
 ],
 "metadata": {
  "kernelspec": {
   "display_name": ".venv",
   "language": "python",
   "name": "python3"
  },
  "language_info": {
   "codemirror_mode": {
    "name": "ipython",
    "version": 3
   },
   "file_extension": ".py",
   "mimetype": "text/x-python",
   "name": "python",
   "nbconvert_exporter": "python",
   "pygments_lexer": "ipython3",
   "version": "3.8.10"
  }
 },
 "nbformat": 4,
 "nbformat_minor": 2
}
