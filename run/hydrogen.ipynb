{
 "cells": [
  {
   "cell_type": "code",
   "execution_count": 1,
   "metadata": {},
   "outputs": [],
   "source": [
    "import sys\n",
    "sys.path.insert(0, \"..\")\n",
    "\n",
    "import jax\n",
    "import jax.numpy as jnp\n",
    "import jax.random\n",
    "import flax.linen as nn\n",
    "import flax\n",
    "from jax import grad, jit, vmap\n",
    "from matplotlib import pyplot as plt\n",
    "\n",
    "\n",
    "import module.samplers\n",
    "import module.hamiltonians\n",
    "import module.wavefunctions"
   ]
  },
  {
   "cell_type": "code",
   "execution_count": 2,
   "metadata": {},
   "outputs": [
    {
     "name": "stderr",
     "output_type": "stream",
     "text": [
      "No GPU/TPU found, falling back to CPU. (Set TF_CPP_MIN_LOG_LEVEL=0 and rerun for more info.)\n"
     ]
    }
   ],
   "source": [
    "key = jax.random.PRNGKey(0)"
   ]
  },
  {
   "cell_type": "code",
   "execution_count": 3,
   "metadata": {},
   "outputs": [],
   "source": [
    "def potential(x):\n",
    "    return 0.5 * jnp.sum(x**2, axis = -1)*0"
   ]
  },
  {
   "cell_type": "code",
   "execution_count": 5,
   "metadata": {},
   "outputs": [],
   "source": [
    "class NN(nn.Module):\n",
    "\n",
    "    @nn.compact\n",
    "    def __call__(self, x):\n",
    "        \n",
    "        # A tensor of variational parameters is defined by calling\n",
    "        # the method `self.param` where the arguments will be:\n",
    "        # - arbitrary name used to refer to this set of parameters\n",
    "        # - an initializer used to provide the initial values. \n",
    "        # - The shape of the tensor\n",
    "        # - The dtype of the tensor.\n",
    "        a = self.param(\n",
    "            \"a\", nn.initializers.normal(), (), float   # scalar\n",
    "        )\n",
    "        \n",
    "        # compute the log amplitude\n",
    "        # here we use exp[-r/a]\n",
    "        logpsi = -jnp.sqrt(jnp.sum(x**2, axis = -1)) / jnp.abs(a)\n",
    "\n",
    "        # sum the output\n",
    "        return -jnp.sum(x**2, axis = -1)"
   ]
  },
  {
   "cell_type": "code",
   "execution_count": 6,
   "metadata": {},
   "outputs": [],
   "source": [
    "class SimpleOrbital(module.wavefunctions.Wavefunction):\n",
    "    def __init__(self):\n",
    "        self.model = NN()\n",
    "        self.parameters = self.model.init(key, jnp.empty(3,))\n",
    "\n",
    "    def calc_logpsi(self, x):\n",
    "        return self.model.apply(self.parameters, x)"
   ]
  },
  {
   "cell_type": "code",
   "execution_count": 10,
   "metadata": {},
   "outputs": [],
   "source": [
    "orbital = SimpleOrbital()\n",
    "sampler = module.samplers.MCMC(orbital.calc_logprob, shape = (3,), variance = 1)\n",
    "H = module.hamiltonians.Particles(masses = [1], potential = potential)"
   ]
  },
  {
   "cell_type": "code",
   "execution_count": 35,
   "metadata": {},
   "outputs": [],
   "source": [
    "samples = sampler.sample(key, jnp.array([0.,0.,0.,]), 1500)"
   ]
  },
  {
   "cell_type": "code",
   "execution_count": 36,
   "metadata": {},
   "outputs": [],
   "source": [
    "E_loc = H.calc_H_loc(orbital, samples)"
   ]
  },
  {
   "cell_type": "code",
   "execution_count": 37,
   "metadata": {},
   "outputs": [
    {
     "data": {
      "text/plain": [
       "Array(1.0611291, dtype=float32)"
      ]
     },
     "execution_count": 37,
     "metadata": {},
     "output_type": "execute_result"
    }
   ],
   "source": [
    "jnp.mean(E_loc)"
   ]
  },
  {
   "cell_type": "code",
   "execution_count": null,
   "metadata": {},
   "outputs": [],
   "source": []
  }
 ],
 "metadata": {
  "kernelspec": {
   "display_name": ".venv",
   "language": "python",
   "name": "python3"
  },
  "language_info": {
   "codemirror_mode": {
    "name": "ipython",
    "version": 3
   },
   "file_extension": ".py",
   "mimetype": "text/x-python",
   "name": "python",
   "nbconvert_exporter": "python",
   "pygments_lexer": "ipython3",
   "version": "3.8.10"
  }
 },
 "nbformat": 4,
 "nbformat_minor": 2
}
