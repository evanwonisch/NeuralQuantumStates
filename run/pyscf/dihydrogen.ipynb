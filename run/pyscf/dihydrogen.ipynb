{
 "cells": [
  {
   "cell_type": "code",
   "execution_count": 1,
   "metadata": {},
   "outputs": [
    {
     "name": "stderr",
     "output_type": "stream",
     "text": [
      "/home/ewonisch/NeuralQuantumStates/.venv/lib/python3.10/site-packages/pyscf/dft/libxc.py:771: UserWarning: Since PySCF-2.3, B3LYP (and B3P86) are changed to the VWN-RPA variant, corresponding to the original definition by Stephens et al. (issue 1480) and the same as the B3LYP functional in Gaussian. To restore the VWN5 definition, you can put the setting \"B3LYP_WITH_VWN5 = True\" in pyscf_conf.py\n",
      "  warnings.warn('Since PySCF-2.3, B3LYP (and B3P86) are changed to the VWN-RPA variant, '\n"
     ]
    }
   ],
   "source": [
    "import pyscf\n",
    "from pyscf import gto, dft, scf, fci\n",
    "\n",
    "import numpy as np\n",
    "\n",
    "from matplotlib import pyplot as plt"
   ]
  },
  {
   "cell_type": "markdown",
   "metadata": {},
   "source": [
    "# DFT"
   ]
  },
  {
   "cell_type": "code",
   "execution_count": 14,
   "metadata": {},
   "outputs": [
    {
     "name": "stdout",
     "output_type": "stream",
     "text": [
      "converged SCF energy = -0.583861164977917\n"
     ]
    }
   ],
   "source": [
    "d = [2.1095]\n",
    "E = []\n",
    "\n",
    "for d_ in d:\n",
    "    mol = gto.M()\n",
    "    mol.nelectron = 1\n",
    "    # mol.build(atom = \"H \"+ str(-d_/2) +\" 0 0; H \" + str(d_/2) + \" 0 0\", basis = 'sto-3g', unit = \"B\", spin = 1, symmetry=True)\n",
    "    mol.build(atom = \"H \"+ str(-d_/2) +\" 0 0; H \" + str(d_/2) + \" 0 0\", basis = '6311++g**', unit = \"B\", spin = 1, symmetry=True)\n",
    "\n",
    "    mf = dft.RKS(mol)\n",
    "    mf.xc = \"lda,vwn\"\n",
    "    mf = mf.newton()\n",
    "    E.append(mf.kernel())"
   ]
  },
  {
   "cell_type": "markdown",
   "metadata": {},
   "source": [
    "# HF"
   ]
  },
  {
   "cell_type": "code",
   "execution_count": 3,
   "metadata": {},
   "outputs": [
    {
     "name": "stdout",
     "output_type": "stream",
     "text": [
      "converged SCF energy = -0.581666968963727\n",
      "Ground state energy of H2+ ion: -0.581667 Hartree\n"
     ]
    }
   ],
   "source": [
    "# Define the molecular geometry\n",
    "mol = gto.Mole()\n",
    "mol.atom = '''\n",
    "H 0 0 0\n",
    "H 0 0 1\n",
    "'''\n",
    "mol.charge = 1  # For the H2+ ion.\n",
    "mol.spin = 1    # One unpaired electron.\n",
    "mol.basis = 'sto-3g'  # Example basis set; others can be used.\n",
    "mol.build()\n",
    "\n",
    " # Perform a restricted Hartree-Fock calculation for open-shell systems (ROHF)\n",
    "mf = scf.ROHF(mol)\n",
    "energy = mf.kernel()\n",
    "\n",
    "print(f\"Ground state energy of H2+ ion: {energy:.6f} Hartree\")"
   ]
  },
  {
   "cell_type": "markdown",
   "metadata": {},
   "source": [
    "# FCI"
   ]
  },
  {
   "cell_type": "code",
   "execution_count": 62,
   "metadata": {},
   "outputs": [
    {
     "name": "stdout",
     "output_type": "stream",
     "text": [
      "converged SCF energy = -1.09089673620383\n",
      "E(FCI) = -1.136472793542\n"
     ]
    }
   ],
   "source": [
    "# Define the molecular geometry\n",
    "dist = 2.003030303030303\n",
    "mol = gto.Mole()\n",
    "mol.atom = \"H 0 0 0\\n H 0 0 \" + str(dist)\n",
    "mol.charge = 0  # For the H2 molecule.\n",
    "mol.spin = 0   # no unpaired electron.\n",
    "mol.basis = \"augccpvtz\"\n",
    "mol.unit = \"B\"\n",
    "mol.build()\n",
    "\n",
    "myhf = mol.RHF().run()\n",
    "cisolver = pyscf.fci.FCI(myhf)\n",
    "print('E(FCI) = %.12f' % cisolver.kernel()[0])"
   ]
  },
  {
   "cell_type": "code",
   "execution_count": 60,
   "metadata": {},
   "outputs": [
    {
     "data": {
      "text/plain": [
       "2"
      ]
     },
     "execution_count": 60,
     "metadata": {},
     "output_type": "execute_result"
    }
   ],
   "source": [
    "mol.nelectron"
   ]
  },
  {
   "cell_type": "code",
   "execution_count": 61,
   "metadata": {},
   "outputs": [
    {
     "data": {
      "text/plain": [
       "-1.1367403452046039"
      ]
     },
     "execution_count": 61,
     "metadata": {},
     "output_type": "execute_result"
    }
   ],
   "source": [
    "cisolver.kernel()[0]"
   ]
  },
  {
   "cell_type": "markdown",
   "metadata": {},
   "source": [
    "## Scan Atomic Distances"
   ]
  },
  {
   "cell_type": "code",
   "execution_count": 59,
   "metadata": {},
   "outputs": [
    {
     "name": "stdout",
     "output_type": "stream",
     "text": [
      "converged SCF energy = -0.180390457474204\n",
      "converged SCF energy = -0.23907097372976\n",
      "converged SCF energy = -0.289172603875313\n",
      "converged SCF energy = -0.332150608177299\n",
      "converged SCF energy = -0.369164809107919\n",
      "converged SCF energy = -0.401149650500645\n",
      "converged SCF energy = -0.42886545829735\n",
      "converged SCF energy = -0.452936455372622\n",
      "converged SCF energy = -0.473879297941849\n",
      "converged SCF energy = -0.492124748310579\n",
      "converged SCF energy = -0.50803432605343\n",
      "converged SCF energy = -0.521913247893279\n",
      "converged SCF energy = -0.53402059465853\n",
      "converged SCF energy = -0.544577381650253\n",
      "converged SCF energy = -0.553773023671881\n",
      "converged SCF energy = -0.561770555239998\n",
      "converged SCF energy = -0.568710874072882\n",
      "converged SCF energy = -0.574716210344026\n",
      "converged SCF energy = -0.579892977172727\n",
      "converged SCF energy = -0.584334123612407\n",
      "converged SCF energy = -0.588121085969895\n",
      "converged SCF energy = -0.591325413922258\n",
      "converged SCF energy = -0.59401013277106\n",
      "converged SCF energy = -0.596230891100829\n",
      "converged SCF energy = -0.598036933326508\n",
      "converged SCF energy = -0.599471928637389\n",
      "converged SCF energy = -0.600574681354005\n",
      "converged SCF energy = -0.601379742487844\n",
      "converged SCF energy = -0.601917938153055\n",
      "converged SCF energy = -0.60221682726626\n",
      "converged SCF energy = -0.602301098532634\n",
      "converged SCF energy = -0.602192914903942\n",
      "converged SCF energy = -0.601912212366277\n",
      "converged SCF energy = -0.601476958942809\n",
      "converged SCF energy = -0.600903379069121\n",
      "converged SCF energy = -0.600206147929426\n",
      "converged SCF energy = -0.599398559861334\n",
      "converged SCF energy = -0.59849267450675\n",
      "converged SCF energy = -0.597499443976967\n",
      "converged SCF energy = -0.59642882390423\n",
      "converged SCF energy = -0.595289870868664\n",
      "converged SCF energy = -0.594090828323735\n",
      "converged SCF energy = -0.59283920280366\n",
      "converged SCF energy = -0.591541831888643\n",
      "converged SCF energy = -0.590204945134687\n",
      "converged SCF energy = -0.588834218944447\n",
      "converged SCF energy = -0.58743482616595\n",
      "converged SCF energy = -0.586011481052563\n",
      "converged SCF energy = -0.584568480097454\n",
      "converged SCF energy = -0.583109739163625\n",
      "converged SCF energy = -0.581638827261464\n",
      "converged SCF energy = -0.580158997274564\n",
      "converged SCF energy = -0.578673213897324\n",
      "converged SCF energy = -0.577184179020321\n",
      "converged SCF energy = -0.575694354779128\n",
      "converged SCF energy = -0.574205984466228\n",
      "converged SCF energy = -0.57272111149247\n",
      "converged SCF energy = -0.571241596572706\n",
      "converged SCF energy = -0.569769133298901\n",
      "converged SCF energy = -0.568305262252703\n",
      "converged SCF energy = -0.566851383797933\n",
      "converged SCF energy = -0.565408769681708\n",
      "converged SCF energy = -0.563978573561156\n",
      "converged SCF energy = -0.562561840560972\n",
      "converged SCF energy = -0.561159515956182\n",
      "converged SCF energy = -0.559772453064099\n",
      "converged SCF energy = -0.558401420420209\n",
      "converged SCF energy = -0.557047108304694\n",
      "converged SCF energy = -0.55571013467929\n",
      "converged SCF energy = -0.554391050588467\n",
      "converged SCF energy = -0.553090345074179\n",
      "converged SCF energy = -0.55180844964943\n",
      "converged SCF energy = -0.550545742372723\n",
      "converged SCF energy = -0.549302551562602\n",
      "converged SCF energy = -0.548079159188921\n",
      "converged SCF energy = -0.54687580397509\n",
      "converged SCF energy = -0.545692684243101\n",
      "converged SCF energy = -0.544529960530817\n",
      "converged SCF energy = -0.543387758008287\n",
      "converged SCF energy = -0.542266168717521\n",
      "converged SCF energy = -0.541165253657383\n",
      "converged SCF energy = -0.540085044732788\n",
      "converged SCF energy = -0.539025546584779\n",
      "converged SCF energy = -0.537986738315669\n",
      "converged SCF energy = -0.53696857512121\n",
      "converged SCF energy = -0.535970989839565\n",
      "converged SCF energy = -0.534993894425132\n",
      "converged SCF energy = -0.534037181353564\n",
      "converged SCF energy = -0.533100724962946\n",
      "converged SCF energy = -0.532184382735087\n",
      "converged SCF energy = -0.531287996519745\n",
      "converged SCF energy = -0.530411393704167\n",
      "converged SCF energy = -0.529554388329612\n",
      "converged SCF energy = -0.528716782156303\n",
      "converged SCF energy = -0.527898365678027\n",
      "converged SCF energy = -0.527098919087448\n",
      "converged SCF energy = -0.526318213193282\n",
      "converged SCF energy = -0.525556010290443\n",
      "converged SCF energy = -0.524812064984435\n",
      "converged SCF energy = -0.524086124971314\n"
     ]
    }
   ],
   "source": [
    "ds = np.linspace(0.7, 5, num = 100)\n",
    "Es = []\n",
    "\n",
    "for dist in ds:\n",
    "    # Define the molecular geometry\n",
    "    mol = gto.Mole()\n",
    "    mol.atom = \"H 0 0 0\\n H 0 0 \" + str(dist)\n",
    "    mol.charge = 1  # For the H2+ ion.\n",
    "    mol.spin = 1    # One unpaired electron.\n",
    "    mol.basis = \"augccpvtz\"\n",
    "    mol.unit = \"B\"\n",
    "    mol.build()\n",
    "\n",
    "    myhf = mol.RHF().run()\n",
    "    cisolver = pyscf.fci.FCI(mol, myhf.mo_coeff)\n",
    "    Es.append(cisolver.kernel()[0])"
   ]
  },
  {
   "cell_type": "code",
   "execution_count": 60,
   "metadata": {},
   "outputs": [
    {
     "data": {
      "text/plain": [
       "[<matplotlib.lines.Line2D at 0x7fe70014b280>]"
      ]
     },
     "execution_count": 60,
     "metadata": {},
     "output_type": "execute_result"
    },
    {
     "data": {
      "image/png": "[encoded data removed]",
      "text/plain": [
       "<Figure size 640x480 with 1 Axes>"
      ]
     },
     "metadata": {},
     "output_type": "display_data"
    }
   ],
   "source": [
    "plt.plot(ds, Es)"
   ]
  },
  {
   "cell_type": "code",
   "execution_count": 1,
   "metadata": {},
   "outputs": [
    {
     "ename": "NameError",
     "evalue": "name 'np' is not defined",
     "output_type": "error",
     "traceback": [
      "\u001b[0;31m---------------------------------------------------------------------------\u001b[0m",
      "\u001b[0;31mNameError\u001b[0m                                 Traceback (most recent call last)",
      "Cell \u001b[0;32mIn[1], line 1\u001b[0m\n\u001b[0;32m----> 1\u001b[0m \u001b[43mnp\u001b[49m\u001b[38;5;241m.\u001b[39mmin(Es)\n",
      "\u001b[0;31mNameError\u001b[0m: name 'np' is not defined"
     ]
    }
   ],
   "source": [
    "np.min(Es)"
   ]
  }
 ],
 "metadata": {
  "kernelspec": {
   "display_name": ".venv",
   "language": "python",
   "name": "python3"
  },
  "language_info": {
   "codemirror_mode": {
    "name": "ipython",
    "version": 3
   },
   "file_extension": ".py",
   "mimetype": "text/x-python",
   "name": "python",
   "nbconvert_exporter": "python",
   "pygments_lexer": "ipython3",
   "version": "3.10.12"
  }
 },
 "nbformat": 4,
 "nbformat_minor": 2
}
