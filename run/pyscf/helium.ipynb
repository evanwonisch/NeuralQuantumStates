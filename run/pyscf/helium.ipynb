{
 "cells": [
  {
   "cell_type": "code",
   "execution_count": 1,
   "metadata": {},
   "outputs": [
    {
     "name": "stderr",
     "output_type": "stream",
     "text": [
      "/home/ewonisch/NeuralQuantumStates/.venv/lib/python3.10/site-packages/pyscf/dft/libxc.py:771: UserWarning: Since PySCF-2.3, B3LYP (and B3P86) are changed to the VWN-RPA variant, corresponding to the original definition by Stephens et al. (issue 1480) and the same as the B3LYP functional in Gaussian. To restore the VWN5 definition, you can put the setting \"B3LYP_WITH_VWN5 = True\" in pyscf_conf.py\n",
      "  warnings.warn('Since PySCF-2.3, B3LYP (and B3P86) are changed to the VWN-RPA variant, '\n"
     ]
    }
   ],
   "source": [
    "import pyscf\n",
    "from pyscf import gto, dft, scf, fci\n",
    "\n",
    "import numpy as np\n",
    "\n",
    "from matplotlib import pyplot as plt"
   ]
  },
  {
   "cell_type": "markdown",
   "metadata": {},
   "source": [
    "# DFT"
   ]
  },
  {
   "cell_type": "code",
   "execution_count": 12,
   "metadata": {},
   "outputs": [],
   "source": [
    "# Define the molecular geometry\n",
    "mol = gto.Mole()\n",
    "mol.atom = \"He 0 0 0\"\n",
    "mol.charge = 0\n",
    "mol.spin = 2   # no unpaired electron.\n",
    "mol.basis = \"augccpvtz\"\n",
    "mol.unit = \"B\"\n",
    "mol.build()\n",
    "\n",
    "\n",
    "mf = dft.RKS(mol)\n",
    "mf.xc = \"lda,vwn\"\n",
    "mf = mf.newton()"
   ]
  },
  {
   "cell_type": "code",
   "execution_count": 13,
   "metadata": {},
   "outputs": [
    {
     "name": "stdout",
     "output_type": "stream",
     "text": [
      "converged SCF energy = -2.11582811592174\n"
     ]
    },
    {
     "data": {
      "text/plain": [
       "-2.1158281159217376"
      ]
     },
     "execution_count": 13,
     "metadata": {},
     "output_type": "execute_result"
    }
   ],
   "source": [
    "mf.kernel()"
   ]
  },
  {
   "cell_type": "markdown",
   "metadata": {},
   "source": [
    "# FCI"
   ]
  },
  {
   "cell_type": "code",
   "execution_count": 7,
   "metadata": {},
   "outputs": [
    {
     "name": "stdout",
     "output_type": "stream",
     "text": [
      "converged SCF energy = -2.16888956527579\n",
      "E(FCI) = -2.169894389125\n"
     ]
    }
   ],
   "source": [
    "# Define the molecular geometry\n",
    "mol = gto.Mole()\n",
    "mol.atom = \"He 0 0 0\"\n",
    "mol.charge = 0\n",
    "mol.spin = 2   # no unpaired electron.\n",
    "mol.basis = \"augccpvtz\"\n",
    "mol.unit = \"B\"\n",
    "mol.build()\n",
    "\n",
    "myhf = mol.RHF().run()\n",
    "cisolver = pyscf.fci.FCI(myhf)\n",
    "print('E(FCI) = %.12f' % cisolver.kernel()[0])"
   ]
  },
  {
   "cell_type": "code",
   "execution_count": null,
   "metadata": {},
   "outputs": [],
   "source": []
  }
 ],
 "metadata": {
  "kernelspec": {
   "display_name": ".venv",
   "language": "python",
   "name": "python3"
  },
  "language_info": {
   "codemirror_mode": {
    "name": "ipython",
    "version": 3
   },
   "file_extension": ".py",
   "mimetype": "text/x-python",
   "name": "python",
   "nbconvert_exporter": "python",
   "pygments_lexer": "ipython3",
   "version": "3.10.12"
  }
 },
 "nbformat": 4,
 "nbformat_minor": 2
}
