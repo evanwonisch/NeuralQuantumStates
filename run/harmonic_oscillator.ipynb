{
 "cells": [
  {
   "cell_type": "code",
   "execution_count": 45,
   "metadata": {},
   "outputs": [],
   "source": [
    "import sys\n",
    "sys.path.insert(0, \"..\")\n",
    "\n",
    "import jax\n",
    "import jax.numpy as jnp\n",
    "\n",
    "from tqdm import tqdm\n",
    "from functools import partial\n",
    "\n",
    "import module.samplers\n",
    "import module.hamiltonians\n",
    "import module.wavefunctions\n",
    "\n",
    "import optax\n",
    "import numpy as np\n",
    "from matplotlib import pyplot as plt"
   ]
  },
  {
   "cell_type": "code",
   "execution_count": 71,
   "metadata": {},
   "outputs": [],
   "source": [
    "key = jax.random.PRNGKey(0)"
   ]
  },
  {
   "cell_type": "markdown",
   "metadata": {},
   "source": [
    "## Harmonic Oscillator\n",
    "\n",
    "In this notebook we demonstrate a VMC method for finding the ground state of the 3D harmonic oscilator. The hamiltonian thus is:\n",
    "\n",
    "$$\n",
    "H = -\\frac{\\hbar^2 }{2 m}\\Delta + \\frac{1}{2}m\\omega^2(x^2+y^2+z^2)\n",
    "$$\n",
    "\n",
    "The corresponding energies are known:\n",
    "$$\n",
    "E = \\hbar \\omega \\left(n_x + n_y + n_z + \\frac{3}{2}\\right)\n",
    "$$\n",
    "\n",
    "We set $\\hbar = m = \\omega = 1$. The ground state energy is thus:\n",
    "\n",
    "$$\n",
    "E = \\frac{3}{2} = 1.5\n",
    "$$\n",
    "\n",
    "In the code, the hamiltonian is defined as follows:"
   ]
  },
  {
   "cell_type": "code",
   "execution_count": 87,
   "metadata": {},
   "outputs": [],
   "source": [
    "w = 1   # omega\n",
    "\n",
    "#\n",
    "# The potential energy function depending on the coordinates\n",
    "#\n",
    "def potential(x):\n",
    "    return 0.5*w**2*jnp.sum(x**2, axis = -1)\n",
    "\n",
    "\n",
    "# the hamiltonian\n",
    "H = module.hamiltonians.Particles(masses = [1], potential = potential, d_space=3)"
   ]
  },
  {
   "cell_type": "markdown",
   "metadata": {},
   "source": [
    "We use a very simple variational Ansatz:\n",
    "$$\n",
    "\\Psi = \\exp{-\\frac{1}{2}r^2\\lambda}\n",
    "$$\n",
    "using $\\lambda = e^a$, $a$ being the variational parameter. The ground state is found for $a = 0$."
   ]
  },
  {
   "cell_type": "code",
   "execution_count": 89,
   "metadata": {},
   "outputs": [],
   "source": [
    "class Gaussian(module.wavefunctions.Wavefunction):\n",
    "    def __init__(self):\n",
    "        super().__init__((3,))\n",
    "\n",
    "    def init_parameters(self, key):\n",
    "        return {\"a\": jax.random.normal(key) + 2}\n",
    "\n",
    "    def calc_logpsi(self, parameters, x):\n",
    "        logpsi = -0.5*jnp.sum(x**2, axis = -1) * jnp.exp(parameters[\"a\"])\n",
    "        return logpsi"
   ]
  },
  {
   "cell_type": "code",
   "execution_count": 91,
   "metadata": {},
   "outputs": [],
   "source": [
    "wavefun = Gaussian()\n",
    "parameters = wavefun.init_parameters(key)"
   ]
  },
  {
   "cell_type": "markdown",
   "metadata": {},
   "source": [
    "We also initialise a MCMC sampler for our wavefunction and can take samples of it:"
   ]
  },
  {
   "cell_type": "code",
   "execution_count": 95,
   "metadata": {},
   "outputs": [],
   "source": [
    "sampler = module.samplers.MCMC(wavefun, variance = 0.3)"
   ]
  },
  {
   "cell_type": "markdown",
   "metadata": {},
   "source": [
    "Using the Hamiltonian, we can already compute the expected energy for our non-optimised wavefunction:"
   ]
  },
  {
   "cell_type": "code",
   "execution_count": 99,
   "metadata": {},
   "outputs": [
    {
     "name": "stdout",
     "output_type": "stream",
     "text": [
      "Acceptance Ratio: 0.3049\n",
      "Expected Energy: 2.703737\n",
      "Std of Expected Energy: 1.8766611\n"
     ]
    }
   ],
   "source": [
    "samples, ratio = sampler.sample(key, parameters, jax.random.normal(key, (3,)), 10000)\n",
    "H_loc = H.calc_H_loc(wavefun, parameters, samples)\n",
    "\n",
    "print(\"Acceptance Ratio:\", ratio)\n",
    "print(\"Expected Energy:\", jnp.mean(H_loc))\n",
    "print(\"Std of Expected Energy:\", jnp.std(H_loc))"
   ]
  },
  {
   "cell_type": "markdown",
   "metadata": {},
   "source": [
    "To estimate the gradient of the expected energy via the formula:\n",
    "\n",
    "$$\n",
    "\\nabla \\left< E \\right>  = 2\\,\\Re\\, \\mathbb{E}\\{\\nabla \\log \\Psi [H_{\\mathrm{loc}}(r) - \\mathbb{E}(E)]\\}\n",
    "$$\n",
    "\n",
    "we implement a help function:"
   ]
  },
  {
   "cell_type": "code",
   "execution_count": 75,
   "metadata": {},
   "outputs": [],
   "source": [
    "@partial(jax.jit, static_argnames=['hamiltonian', 'orbital'])\n",
    "def calc_grad_E(hamiltonian, orbital, parameters, samples):\n",
    "    \"\"\"\n",
    "    Calculates the gradient of the energy and the energy itself on a batch of samples.\n",
    "    \"\"\"\n",
    "\n",
    "    E_loc = hamiltonian.calc_H_loc(orbital, parameters, samples)\n",
    "    E = jnp.mean(E_loc)\n",
    "    grad_log = orbital.grad_logpsi(parameters, samples)\n",
    "\n",
    "    return jax.tree_util.tree_map(lambda tree: 2*jnp.real(jnp.mean(tree * (E_loc - E))), grad_log), E"
   ]
  },
  {
   "cell_type": "markdown",
   "metadata": {},
   "source": [
    "The energy can now be optimised:"
   ]
  },
  {
   "cell_type": "code",
   "execution_count": 100,
   "metadata": {},
   "outputs": [],
   "source": [
    "Es = []\n",
    "ratios = []"
   ]
  },
  {
   "cell_type": "code",
   "execution_count": 101,
   "metadata": {},
   "outputs": [
    {
     "name": "stderr",
     "output_type": "stream",
     "text": [
      "100%|██████████| 1000/1000 [00:02<00:00, 384.85it/s]\n"
     ]
    }
   ],
   "source": [
    "# define\n",
    "optimizer = optax.adam(learning_rate=0.01)\n",
    "\n",
    "# initialise\n",
    "optimizer_state = optimizer.init(parameters)\n",
    "\n",
    "for i in tqdm(range(1000)):\n",
    "    key, _ = jax.random.split(key)\n",
    "    samples, ratio = sampler.sample(key, parameters, jax.random.normal(key, (3,)), 500)\n",
    "    grad, E = calc_grad_E(H, orbital, parameters, samples)\n",
    "\n",
    "    Es.append(E)\n",
    "    ratios.append(ratio)\n",
    "    \n",
    "    updates, optimizer_state = optimizer.update(grad, optimizer_state, parameters)\n",
    "    parameters = optax.apply_updates(parameters, updates)"
   ]
  },
  {
   "cell_type": "code",
   "execution_count": 110,
   "metadata": {},
   "outputs": [
    {
     "data": {
      "text/plain": [
       "Text(0.5, 1.0, 'Energy Optimisation')"
      ]
     },
     "execution_count": 110,
     "metadata": {},
     "output_type": "execute_result"
    },
    {
     "data": {
      "image/png": "[encoded data removed]",
      "text/plain": [
       "<Figure size 640x480 with 1 Axes>"
      ]
     },
     "metadata": {},
     "output_type": "display_data"
    }
   ],
   "source": [
    "plt.plot(Es, label = \"estimate\")\n",
    "plt.ylim(0,4)\n",
    "plt.axhline(0.5 * w * 3, color = \"C2\", label = \"analytical\")\n",
    "\n",
    "plt.legend()\n",
    "plt.xlabel(\"Iteration\")\n",
    "plt.ylabel(\"Energy\")\n",
    "plt.title(\"Energy Optimisation\")"
   ]
  },
  {
   "cell_type": "markdown",
   "metadata": {},
   "source": [
    "Now, the variance of the expected energy has decreased, as expected for correct eigenstate:"
   ]
  },
  {
   "cell_type": "code",
   "execution_count": 111,
   "metadata": {},
   "outputs": [
    {
     "name": "stdout",
     "output_type": "stream",
     "text": [
      "Acceptance Ratio: 0.551\n",
      "Expected Energy: 1.5\n",
      "Std of Expected Energy: 1.6814427e-07\n"
     ]
    }
   ],
   "source": [
    "samples, ratio = sampler.sample(key, parameters, jax.random.normal(key, (3,)), 10000)\n",
    "H_loc = H.calc_H_loc(wavefun, parameters, samples)\n",
    "\n",
    "print(\"Acceptance Ratio:\", ratio)\n",
    "print(\"Expected Energy:\", jnp.mean(H_loc))\n",
    "print(\"Std of Expected Energy:\", jnp.std(H_loc))"
   ]
  },
  {
   "cell_type": "markdown",
   "metadata": {},
   "source": [
    "---"
   ]
  }
 ],
 "metadata": {
  "kernelspec": {
   "display_name": ".venv",
   "language": "python",
   "name": "python3"
  },
  "language_info": {
   "codemirror_mode": {
    "name": "ipython",
    "version": 3
   },
   "file_extension": ".py",
   "mimetype": "text/x-python",
   "name": "python",
   "nbconvert_exporter": "python",
   "pygments_lexer": "ipython3",
   "version": "3.8.10"
  }
 },
 "nbformat": 4,
 "nbformat_minor": 2
}
