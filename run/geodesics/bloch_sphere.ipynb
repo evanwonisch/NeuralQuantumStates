{
 "cells": [
  {
   "cell_type": "code",
   "execution_count": 10,
   "metadata": {},
   "outputs": [],
   "source": [
    "import jax\n",
    "import jax.numpy as jnp\n",
    "from matplotlib import pyplot as plt\n",
    "from tqdm import tqdm"
   ]
  },
  {
   "cell_type": "markdown",
   "metadata": {},
   "source": [
    "### 0. The Geodesics of the Bloch Sphere\n",
    "\n",
    "Given one $\\frac{1}{2}$-spin, its Hilbert space is $\\mathbb{C}^2$ and we chose the basis $B = \\{\\uparrow, \\downarrow\\}$. Any wavefunction $\\Psi$ can be parametrised by two angles $\\theta, \\phi$:\n",
    "\n",
    "$$\n",
    "\\Psi = \\cos \\frac{\\theta}{2} \\uparrow + e^{i\\phi} \\sin \\frac{\\theta}{2} \\downarrow\n",
    "$$\n",
    "\n",
    "The resulting wavefunctions form the manifold $M$. We inheret the metric structure of the ambient Hilbert space via the quantum information tensor. This results in a real Riemannian metric:\n",
    "\n",
    "$$\n",
    "g_{ij} = 2 \\Re\\, \\langle \\partial_i \\Psi | \\partial_j \\Psi \\rangle\n",
    "$$\n",
    "\n",
    "Here this leads to:\n",
    "\n",
    "$$\n",
    "ds^2 =  \\frac{1}{2}d\\theta^2 + 2 \\sin \\frac{\\theta}{2} d\\phi^2\n",
    "$$\n",
    "\n",
    "In a variational monte carlo simulation, we can raise and lower indices. The lowering part is more immediate, as the raising involves inverting the above metric. The lowering is written as:\n",
    "\n",
    "$$\n",
    "w_i = g_{ij} v^i\n",
    "$$\n",
    "\n",
    "We implement it in the folowing snippet:"
   ]
  },
  {
   "cell_type": "code",
   "execution_count": 11,
   "metadata": {},
   "outputs": [],
   "source": [
    "def apply_g(primals, tangent):\n",
    "\n",
    "    theta = primals[0]\n",
    "    orig_shape = tangent.shape\n",
    "    tangent = tangent.reshape(-1, 2, 1)\n",
    "\n",
    "    g = jnp.array([[0.5, 0],[0, 2*jnp.sin(theta/2)**2]])\n",
    "    res = jnp.matmul(g, tangent)\n",
    "    return res.reshape(orig_shape)"
   ]
  },
  {
   "cell_type": "code",
   "execution_count": 12,
   "metadata": {},
   "outputs": [
    {
     "data": {
      "text/plain": [
       "(20, 2)"
      ]
     },
     "execution_count": 12,
     "metadata": {},
     "output_type": "execute_result"
    }
   ],
   "source": [
    "param = jnp.array([0., 1.])\n",
    "tangents = jnp.ones(shape = (20, 2))\n",
    "\n",
    "cotangents = apply_g(param, tangents)\n",
    "cotangents.shape"
   ]
  },
  {
   "cell_type": "markdown",
   "metadata": {},
   "source": [
    "Using a numerical linear eqation solver (conjugate gradient), we can also raise indices:"
   ]
  },
  {
   "cell_type": "code",
   "execution_count": 13,
   "metadata": {},
   "outputs": [],
   "source": [
    "def inverse_g(primals, cotangent):\n",
    "    A = lambda tangents : apply_g(primals, tangents)\n",
    "    return jax.scipy.sparse.linalg.cg(A, cotangent)[0]"
   ]
  },
  {
   "cell_type": "code",
   "execution_count": 14,
   "metadata": {},
   "outputs": [
    {
     "data": {
      "text/plain": [
       "(20, 2)"
      ]
     },
     "execution_count": 14,
     "metadata": {},
     "output_type": "execute_result"
    }
   ],
   "source": [
    "tangents = inverse_g(param, cotangents)\n",
    "tangents.shape"
   ]
  },
  {
   "cell_type": "markdown",
   "metadata": {},
   "source": [
    "We now aim to solve the geodesic equation on this Riemannian manifold. It describes the trajectory of a curve $\\gamma : \\mathbb{R} \\to M$, given by:\n",
    "\n",
    "$$\n",
    "\\\"{\\gamma}^i + \\Gamma^i_{jk} \\dot{\\gamma}^j \\dot{\\gamma}^k = 0\n",
    "$$\n",
    "\n",
    "This involves the Christoffel-symbols $\\Gamma$ of the Levi-Civita connection, given by:\n",
    "$$\n",
    "\\Gamma^i_{jk} = \\frac{1}{2}g^{il} b_{ljk}\n",
    "$$\n",
    "\n",
    "with $b_{ljk} = \\partial_j g_{lk} + \\partial_k g_{lj} - \\partial_l g_{jk}$. We first calculate the expression $b_{ljk}\\dot{\\gamma}^j\\dot{\\gamma}^k$ and then raise its index via the conjugate gradient method described above. The first two terms of $b_{ljk}$ give the same result when contracted with $\\dot{\\gamma}^j\\dot{\\gamma}^k$. The result of the first, we will calculate with function $a$ and the second one with function $b$."
   ]
  },
  {
   "cell_type": "code",
   "execution_count": 15,
   "metadata": {},
   "outputs": [],
   "source": [
    "def a(primals, gamma_dot):\n",
    "    f = lambda primals : apply_g(primals, gamma_dot)\n",
    "    res = jax.jvp(f, (primals,), (gamma_dot,))\n",
    "    return res[1]\n",
    "\n",
    "def b(primals, gamma_dot):\n",
    "    f = lambda primals : jnp.sum(gamma_dot * apply_g(primals, gamma_dot))\n",
    "    res = jax.vjp(f, primals)[1](jnp.array(1.))[0]\n",
    "    return res\n",
    "\n",
    "@jax.jit\n",
    "def geodesic_correction(primals, gamma_dot):\n",
    "    lower = 2 * a(primals, gamma_dot) - b(primals, gamma_dot)\n",
    "    raised = inverse_g(primals, lower)\n",
    "    return 0.5*raised"
   ]
  },
  {
   "cell_type": "markdown",
   "metadata": {},
   "source": [
    "The implemented geodesic correction function calculates directly all components of $\\Gamma^i_{jk}\\dot{\\gamma}^j\\dot{\\gamma}^k$. We will also call the collection of these components $\\Gamma(\\dot{\\gamma},\\dot{\\gamma})$."
   ]
  },
  {
   "cell_type": "markdown",
   "metadata": {},
   "source": [
    "### 1. Iterative Integration Scheme\n",
    "One can discretise the second order geodesic equation. Here we employ\n",
    "\n",
    "$$\n",
    "\\ddot{\\gamma}(t) \\approx \\frac{1}{\\epsilon^2}\\left[\\gamma(t + \\epsilon) - 2 \\gamma(t) + \\gamma(t - \\epsilon)\\right]\n",
    "$$\n",
    "\n",
    "for the second derivative and\n",
    "$$\n",
    "\\dot{\\gamma}(t) \\approx \\frac{1}{\\epsilon}\\left[\\gamma(t) - \\gamma(t - \\epsilon)\\right]\n",
    "$$\n",
    "with $\\epsilon$ being a small time step. The geodesic equation then becomes:\n",
    "\n",
    "$$\n",
    "\\gamma(t + \\epsilon) = 2\\gamma(t) - \\gamma(t - \\epsilon) - \\Gamma(\\gamma(t)-\\gamma(t-\\epsilon), \\gamma(t)-\\gamma(t-\\epsilon))\n",
    "$$"
   ]
  },
  {
   "cell_type": "code",
   "execution_count": 19,
   "metadata": {},
   "outputs": [
    {
     "name": "stderr",
     "output_type": "stream",
     "text": [
      "100%|██████████| 296/296 [00:00<00:00, 41358.98it/s]\n"
     ]
    }
   ],
   "source": [
    "dt = 0.05\n",
    "T = 15\n",
    "N_iter = int(T/dt) - 2\n",
    "\n",
    "t = 0\n",
    "gamma = jnp.array([jnp.pi/2 - 0.5, 0])\n",
    "gamma_dot = jnp.array([0.8,1])\n",
    "\n",
    "\n",
    "ts = [t, t + dt]\n",
    "gammas = [gamma - dt * gamma_dot, gamma]\n",
    "for i in tqdm(range(2, N_iter)):\n",
    "\n",
    "    delta_gam = gammas[i - 1] - gammas[i - 2]\n",
    "    cor = geodesic_correction(gammas[i - 1], delta_gam)\n",
    "    gamma = 2*gammas[i-1] - gammas[i - 2] - cor\n",
    "    t = ts[i - 1] + dt\n",
    "\n",
    "    ts.append(t)\n",
    "    gammas.append(gamma)\n",
    "\n",
    "gammas = jnp.array(gammas)\n",
    "ts = jnp.array(ts)"
   ]
  },
  {
   "cell_type": "code",
   "execution_count": 20,
   "metadata": {},
   "outputs": [
    {
     "data": {
      "text/plain": [
       "Text(0.5, 1.0, 'Geodesics of the Bloch sphere')"
      ]
     },
     "execution_count": 20,
     "metadata": {},
     "output_type": "execute_result"
    },
    {
     "data": {
      "image/png": "[encoded data removed]",
      "text/plain": [
       "<Figure size 640x480 with 1 Axes>"
      ]
     },
     "metadata": {},
     "output_type": "display_data"
    }
   ],
   "source": [
    "phis = jnp.linspace(jnp.pi/2, jnp.pi*3/2-1e-3)\n",
    "phis2 = jnp.linspace(0, jnp.pi/2-1e-3)\n",
    "phis3 = jnp.linspace(jnp.pi*3/2, jnp.pi*2)\n",
    "coef = 1 / jnp.tan(gammas[0][0])\n",
    "\n",
    "plt.plot(gammas[:,1], gammas[:, 0], color = \"C1\", marker = \".\", label = \"finite difference\")\n",
    "plt.xlim(0, jnp.pi*2)\n",
    "plt.ylim(0, jnp.pi)\n",
    "plt.ylabel(\"$\\\\theta$\")\n",
    "plt.xlabel(\"$\\\\phi$\")\n",
    "plt.legend()\n",
    "plt.title(\"Geodesics of the Bloch sphere\")"
   ]
  },
  {
   "cell_type": "markdown",
   "metadata": {},
   "source": [
    "### 2. Approximate the Christoffel Symbols (bad)\n",
    "As in high dimensional settings we would like to avoid taking derivatives of the metric, we employ approximations for the calculation of $b_{ljk}\\dot{\\gamma}^j\\dot{\\gamma}^k$:\n",
    "\n",
    "$$\n",
    "b_{ljk}\\dot{\\gamma}^j\\dot{\\gamma}^k = 2 \\partial_j g_{lk}\\dot{\\gamma}^j\\dot{\\gamma}^k - \\partial_l g_{jk}\\dot{\\gamma}^j\\dot{\\gamma}^k\n",
    "$$\n",
    "\n",
    "Defining $g_{ij}(t) = g_{ij}(\\gamma(t))$, the first term is a total derivative:\n",
    "\n",
    "$$\n",
    "2 \\partial_j g_{lk}\\dot{\\gamma}^j\\dot{\\gamma}^k = 2 (\\dot{\\gamma}^j \\partial_j ) g_{lk}\\dot{\\gamma}^k =  2 \\frac{d}{dt} g(t)_{lk} \\dot{\\gamma}^k\n",
    "$$\n",
    "\n",
    "This can be approximated as a first difference:\n",
    "\n",
    "$$\n",
    "2 \\frac{d}{dt} g(t)_{lk} \\dot{\\gamma}^k \\approx 2 \\frac{1}{\\epsilon} \\left[g(t)_{lk} \\dot{\\gamma}^k - g(t - \\epsilon)_{lk} \\dot{\\gamma}^k\\right]\n",
    "$$\n",
    "\n",
    "This can be evaluated nicely as we store the past positions $\\gamma$ and can evaluate $g$ along the way. Indeed, the second term is harder to approximate. Giving it a close look, we identify it as being the gradient of a scalar function. Without incorporating further information of the spatial dependece of $g$, we only now the above total derivative of g, or in other words the projection of the gradient of $g$ along $\\dot{\\gamma}$. As a result, we can at least incorporate the correct components of the gradient of $g$ along $\\dot{\\gamma}$. Thus we employ:\n",
    "$$\n",
    "\\partial_l g_{jk}\\dot{\\gamma}^j\\dot{\\gamma}^k \\approx \\frac{d}{dt}g(t)_{jk}\\dot{\\gamma}^j\\dot{\\gamma}^k \\frac{\\dot{\\gamma}^l}{\\delta_{mn}\\dot{\\gamma}^m\\dot{\\gamma}^n} \n",
    "$$\n",
    "Those two terms will be computed by the below functions $a$ and $b$ respectively.\n",
    "\n",
    "\n",
    "#### Note:\n",
    "the approximation of b is very bad, also when applying g once more to lower the index."
   ]
  },
  {
   "cell_type": "code",
   "execution_count": 21,
   "metadata": {},
   "outputs": [],
   "source": [
    "def a_approx(gamma, old_gamma, gamma_dot, epsilon):\n",
    "    x = apply_g(gamma, gamma_dot) -  apply_g(old_gamma, gamma_dot)\n",
    "    return x/epsilon\n",
    "\n",
    "\n",
    "def b_approx(gamma, old_gamma, gamma_dot, epsilon):\n",
    "    x1 = jnp.sum(gamma_dot * apply_g(gamma, gamma_dot))\n",
    "    x2 = jnp.sum(gamma_dot * apply_g(old_gamma, gamma_dot))\n",
    "\n",
    "    tot = (x1 - x2) / epsilon\n",
    "\n",
    "    norm_gamma_dot = gamma_dot / jnp.sum(gamma_dot**2)\n",
    "\n",
    "    return tot * apply_g(gamma, norm_gamma_dot)\n",
    "\n",
    "@jax.jit\n",
    "def geodesic_correction_approx(gamma, old_gamma, gamma_dot, epsilon):\n",
    "    lower = 2 * a_approx(gamma, old_gamma, gamma_dot, epsilon) - b_approx(gamma, old_gamma, gamma_dot, epsilon)\n",
    "    # lower = 2 * a_approx(gamma, old_gamma, gamma_dot, epsilon) - b(gamma, gamma_dot)\n",
    "    raised = inverse_g(gamma, lower)\n",
    "    return 0.5*raised"
   ]
  },
  {
   "cell_type": "code",
   "execution_count": 22,
   "metadata": {},
   "outputs": [],
   "source": [
    "eps = 0.05\n",
    "gamma = jnp.array([jnp.pi/2+1.,0.])\n",
    "gamma_dot = jnp.array([0.,1.])\n",
    "old_gamma = gamma - eps * gamma_dot"
   ]
  },
  {
   "cell_type": "code",
   "execution_count": 23,
   "metadata": {},
   "outputs": [
    {
     "data": {
      "text/plain": [
       "Array([-0.54030234,  0.        ], dtype=float32)"
      ]
     },
     "execution_count": 23,
     "metadata": {},
     "output_type": "execute_result"
    }
   ],
   "source": [
    "geodesic_correction(gamma, gamma_dot)"
   ]
  },
  {
   "cell_type": "code",
   "execution_count": 24,
   "metadata": {},
   "outputs": [
    {
     "data": {
      "text/plain": [
       "Array([0., 0.], dtype=float32)"
      ]
     },
     "execution_count": 24,
     "metadata": {},
     "output_type": "execute_result"
    }
   ],
   "source": [
    "geodesic_correction_approx(gamma, old_gamma, gamma_dot, eps)"
   ]
  },
  {
   "cell_type": "code",
   "execution_count": 25,
   "metadata": {},
   "outputs": [
    {
     "name": "stderr",
     "output_type": "stream",
     "text": [
      "100%|██████████| 296/296 [00:00<00:00, 12101.00it/s]\n"
     ]
    }
   ],
   "source": [
    "dt = 0.05\n",
    "T = 15\n",
    "N_iter = int(T/dt) - 2\n",
    "\n",
    "t = 0\n",
    "gamma = jnp.array([jnp.pi/2-0.5, 0.])\n",
    "gamma_dot = jnp.array([0.,1.])\n",
    "\n",
    "\n",
    "ts = [t, t + dt]\n",
    "gammas = [gamma - dt * gamma_dot, gamma]\n",
    "for i in tqdm(range(2, N_iter)):\n",
    "\n",
    "    gamma_dot = (gammas[i - 1] - gammas[i - 2])/dt\n",
    "    cor = geodesic_correction_approx(gammas[i - 1], gammas[i - 2], gamma_dot, dt)\n",
    "    gamma = 2*gammas[i-1] - gammas[i - 2] - dt**2 * cor\n",
    "    t = ts[i - 1] + dt\n",
    "\n",
    "    ts.append(t)\n",
    "    gammas.append(gamma)\n",
    "\n",
    "gammas = jnp.array(gammas)\n",
    "ts = jnp.array(ts)"
   ]
  },
  {
   "cell_type": "code",
   "execution_count": 26,
   "metadata": {},
   "outputs": [
    {
     "data": {
      "text/plain": [
       "Text(0.5, 1.0, 'Geodesics of the Bloch sphere')"
      ]
     },
     "execution_count": 26,
     "metadata": {},
     "output_type": "execute_result"
    },
    {
     "data": {
      "image/png": "[encoded data removed]",
      "text/plain": [
       "<Figure size 640x480 with 1 Axes>"
      ]
     },
     "metadata": {},
     "output_type": "display_data"
    }
   ],
   "source": [
    "phis = jnp.linspace(jnp.pi/2, jnp.pi*3/2-1e-3)\n",
    "phis2 = jnp.linspace(0, jnp.pi/2-1e-3)\n",
    "phis3 = jnp.linspace(jnp.pi*3/2, jnp.pi*2)\n",
    "coeff = 1 / jnp.tan(gammas[0][0])\n",
    "\n",
    "plt.plot(gammas[:,1], gammas[:, 0], color = \"C1\", marker = \".\", label = \"finite difference\")\n",
    "plt.xlim(0, jnp.pi*2)\n",
    "plt.ylim(0, jnp.pi)\n",
    "plt.ylabel(\"$\\\\theta$\")\n",
    "plt.xlabel(\"$\\\\phi$\")\n",
    "plt.legend()\n",
    "plt.title(\"Geodesics of the Bloch sphere\")"
   ]
  },
  {
   "cell_type": "markdown",
   "metadata": {},
   "source": [
    "---"
   ]
  }
 ],
 "metadata": {
  "kernelspec": {
   "display_name": ".venv",
   "language": "python",
   "name": "python3"
  },
  "language_info": {
   "codemirror_mode": {
    "name": "ipython",
    "version": 3
   },
   "file_extension": ".py",
   "mimetype": "text/x-python",
   "name": "python",
   "nbconvert_exporter": "python",
   "pygments_lexer": "ipython3",
   "version": "3.10.12"
  }
 },
 "nbformat": 4,
 "nbformat_minor": 2
}
