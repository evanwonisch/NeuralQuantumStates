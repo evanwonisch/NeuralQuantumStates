{
 "cells": [
  {
   "cell_type": "code",
   "execution_count": 1,
   "metadata": {},
   "outputs": [
    {
     "name": "stderr",
     "output_type": "stream",
     "text": [
      "An NVIDIA GPU may be present on this machine, but a CUDA-enabled jaxlib is not installed. Falling back to cpu.\n",
      "/home/ewonisch/NeuralQuantumStates/.venv/lib/python3.10/site-packages/tqdm/auto.py:21: TqdmWarning: IProgress not found. Please update jupyter and ipywidgets. See https://ipywidgets.readthedocs.io/en/stable/user_install.html\n",
      "  from .autonotebook import tqdm as notebook_tqdm\n"
     ]
    }
   ],
   "source": [
    "import sys\n",
    "sys.path.insert(0, \"../..\")\n",
    "\n",
    "import jax\n",
    "import jax.numpy as jnp\n",
    "\n",
    "import jax.scipy\n",
    "import jax.scipy.special\n",
    "\n",
    "from tqdm import tqdm\n",
    "from functools import partial\n",
    "\n",
    "import module.samplers\n",
    "import module.wavefunctions\n",
    "import module.misc.cutoffs as cutoffs\n",
    "\n",
    "import flax.linen as nn\n",
    "\n",
    "import optax\n",
    "import numpy as np\n",
    "from matplotlib import pyplot as plt\n",
    "\n",
    "import netket.nn.activation\n",
    "import pickle\n",
    "\n",
    "import netket as nk\n",
    "\n",
    "from scipy.sparse.linalg import eigsh"
   ]
  },
  {
   "cell_type": "code",
   "execution_count": 2,
   "metadata": {},
   "outputs": [],
   "source": [
    "key = jax.random.PRNGKey(0)"
   ]
  },
  {
   "cell_type": "markdown",
   "metadata": {},
   "source": [
    "### Trees"
   ]
  },
  {
   "cell_type": "code",
   "execution_count": 3,
   "metadata": {},
   "outputs": [],
   "source": [
    "# this sums all square elements of a tree\n",
    "euclid_norm_sq = lambda v: jax.tree_util.tree_reduce(lambda c,d : c + d, jax.tree_util.tree_map(lambda a: jnp.sum(a**2), v))\n",
    "\n",
    "t_sum = lambda u,v: jax.tree_util.tree_map(lambda x,y:x+y, u,v)\n",
    "t_sub = lambda u,v: jax.tree_util.tree_map(lambda x,y:x-y, u,v)\n",
    "t_mul = lambda u,v: jax.tree_util.tree_map(lambda x,y:x*y, u,v)\n",
    "t_div = lambda u,v: jax.tree_util.tree_map(lambda x,y:x/y, u,v)\n",
    "s_mul = lambda s,v: jax.tree_util.tree_map(lambda x: s*x, v)\n",
    "\n",
    "t_zeros_like = lambda v: jax.tree_util.tree_map(lambda a: a*0, v)\n",
    "t_ones_like = lambda v: jax.tree_util.tree_map(lambda a: a*0 + 1, v)"
   ]
  },
  {
   "cell_type": "markdown",
   "metadata": {},
   "source": [
    "## Hamiltonian\n",
    "\n",
    "$$\n",
    "H = -h\\sum_{i}S_i^{(x)} + J \\sum_{<i,j>} S_i^{(z)} S_j^{(z)}\n",
    "$$"
   ]
  },
  {
   "cell_type": "code",
   "execution_count": 4,
   "metadata": {},
   "outputs": [
    {
     "name": "stdout",
     "output_type": "stream",
     "text": [
      "g.n_nodes: 16\n",
      "g.nodes: [0, 1, 2, 3, 4, 5, 6, 7, 8, 9, 10, 11, 12, 13, 14, 15]\n",
      "g.n_edges: 32\n",
      "g.edges: [(3, 7), (12, 13), (8, 9), (8, 12), (2, 14), (13, 14), (4, 5), (5, 6), (4, 8), (12, 15), (5, 9), (14, 15), (3, 15), (8, 11), (0, 1), (9, 10), (1, 2), (0, 4), (9, 13), (10, 11), (1, 5), (10, 14), (6, 7), (6, 10), (4, 7), (0, 3), (0, 12), (2, 3), (1, 13), (2, 6), (11, 15), (7, 11)]\n"
     ]
    }
   ],
   "source": [
    "# Define a grid\n",
    "L = 4\n",
    "g = nk.graph.Hypercube(length=L, n_dim=2, pbc=True)\n",
    "\n",
    "# The number of sites (called nodes):\n",
    "print(\"g.n_nodes:\", g.n_nodes)\n",
    "# You can iterate through the nodes:\n",
    "print(\"g.nodes:\", [node for node in g.nodes()])\n",
    "# You can check the number of edges:\n",
    "print(\"g.n_edges:\", g.n_edges)\n",
    "# You can iterate through the edges, which are stored as a 2-tuple with the start and end node:\n",
    "print(\"g.edges:\", g.edges())\n",
    "\n",
    "# Define the Hilbert space based on this graph\n",
    "# We impose to have a fixed total magnetization of zero \n",
    "hi = nk.hilbert.Spin(s=1/2, N=g.n_nodes)\n",
    "\n",
    "# This creates an empty operator (or zero) to which you can add others.\n",
    "h = 1.\n",
    "J = 1.\n",
    "\n",
    "hamiltonian = nk.operator.LocalOperator(hi)\n",
    "\n",
    "# now add all terms acting on single sites\n",
    "for site in g.nodes():\n",
    "    hamiltonian = hamiltonian - h* nk.operator.spin.sigmax(hi, site)\n",
    "\n",
    "    # now add all terms acting on multiple sites\n",
    "for (i,j) in g.edges():\n",
    "    hamiltonian = hamiltonian + J * nk.operator.spin.sigmaz(hi, i) @ nk.operator.spin.sigmaz(hi, j)\n",
    "\n",
    "\n",
    "hamiltonian_jax = hamiltonian.to_pauli_strings().to_jax_operator()"
   ]
  },
  {
   "cell_type": "code",
   "execution_count": 5,
   "metadata": {},
   "outputs": [],
   "source": [
    "all_states = jnp.array([s for s in hi.states()])"
   ]
  },
  {
   "cell_type": "code",
   "execution_count": 6,
   "metadata": {},
   "outputs": [],
   "source": [
    "ha = hamiltonian.to_sparse()\n",
    "e_gs, psi_gs = eigsh(ha, k=1, which = \"SA\")\n",
    "E_f = e_gs[0]\n",
    "psi_gs = psi_gs.reshape(-1)"
   ]
  },
  {
   "cell_type": "code",
   "execution_count": 7,
   "metadata": {},
   "outputs": [],
   "source": [
    "def calc_H_loc(orbital, parameters, samples):\n",
    "    eta, H_sigmaeta = hamiltonian_jax.get_conn_padded(samples)\n",
    "    \n",
    "    logpsi_sigma = orbital.calc_logpsi(parameters, samples)\n",
    "    logpsi_eta = orbital.calc_logpsi(parameters, eta)\n",
    "    logpsi_sigma = jnp.expand_dims(logpsi_sigma, -1) \n",
    "    \n",
    "    res = jnp.sum(H_sigmaeta * jnp.exp(logpsi_eta - logpsi_sigma), axis=-1)\n",
    "    \n",
    "    return res"
   ]
  },
  {
   "cell_type": "markdown",
   "metadata": {},
   "source": [
    "## Construct Neural Network"
   ]
  },
  {
   "cell_type": "code",
   "execution_count": 8,
   "metadata": {},
   "outputs": [],
   "source": [
    "def act(x):\n",
    "    return netket.nn.activation.log_cosh(x)"
   ]
  },
  {
   "cell_type": "code",
   "execution_count": 9,
   "metadata": {},
   "outputs": [],
   "source": [
    "class NN(nn.Module):\n",
    "    \"\"\"\n",
    "    Constructs a neural network.\n",
    "\n",
    "    possible activation functions:\n",
    "    netket.nn.activation.log_cosh(x)\n",
    "    nn.softplus()\n",
    "    \"\"\"\n",
    "    @nn.compact\n",
    "    def __call__(self, x):\n",
    "        x = nn.Dense(16, name=\"dense1\", param_dtype=\"float64\", bias_init=jax.random.normal)(x)\n",
    "        x = act(x)\n",
    "        x = jnp.sum(x, axis = -1)\n",
    "\n",
    "        return jnp.squeeze(x)"
   ]
  },
  {
   "cell_type": "markdown",
   "metadata": {},
   "source": [
    "## Construct Ansatz"
   ]
  },
  {
   "cell_type": "code",
   "execution_count": 10,
   "metadata": {},
   "outputs": [],
   "source": [
    "class Ansatz(module.wavefunctions.Wavefunction):\n",
    "    def __init__(self):\n",
    "        super().__init__(input_shape = (g.n_nodes,))\n",
    "\n",
    "        self.nn = NN()\n",
    "\n",
    "\n",
    "    def init_param(self, key):\n",
    "        nn_param = self.nn.init(key, jnp.empty((g.n_nodes,)))\n",
    "\n",
    "        return {\"nn\": nn_param}\n",
    "    \n",
    "    \n",
    "    def calc_logpsi(self, parameters, x):\n",
    "        logpsi = self.nn.apply(parameters[\"nn\"], x)\n",
    "\n",
    "        return logpsi"
   ]
  },
  {
   "cell_type": "code",
   "execution_count": 11,
   "metadata": {},
   "outputs": [],
   "source": [
    "ansatz = Ansatz()"
   ]
  },
  {
   "cell_type": "markdown",
   "metadata": {},
   "source": [
    "## Sampler"
   ]
  },
  {
   "cell_type": "code",
   "execution_count": 48,
   "metadata": {},
   "outputs": [],
   "source": [
    "class FlipSampler(module.samplers.MCMC):\n",
    "    def propose(self, key, element):\n",
    "        subkey, _ = jax.random.split(key)\n",
    "\n",
    "        mask = jnp.ones((g.n_nodes))\n",
    "        for i in range(self.variance):\n",
    "            index = jax.random.randint(key, (), 0, g.n_nodes)\n",
    "            key, _ = jax.random.split(key)\n",
    "            mask = mask.at[index].multiply(-1)\n",
    "\n",
    "        proposal = element * mask\n",
    "\n",
    "        return subkey, proposal\n",
    "sampler = FlipSampler(ansatz, 1)\n",
    "subsampling = g.n_nodes\n",
    "def get_samples(N, param):\n",
    "    \"\"\"\n",
    "    Returns decorrelated samples.\n",
    "    \"\"\"\n",
    "    samples, ratio = sampler.sample(key, param, 2*jax.random.randint(key, (g.n_nodes,), 0, 2)-1 + 0., N*subsampling)\n",
    "    return samples[0:-1:subsampling], ratio"
   ]
  },
  {
   "cell_type": "markdown",
   "metadata": {},
   "source": [
    "## Optimisation\n",
    "\n",
    "### Gradient of Energy and Metric Tensor"
   ]
  },
  {
   "cell_type": "code",
   "execution_count": 13,
   "metadata": {},
   "outputs": [],
   "source": [
    "@partial(jax.jit, static_argnames=['orbital'])\n",
    "def calc_grad_E(orbital, parameters, samples):\n",
    "    \"\"\"\n",
    "    Calculates the gradient of the energy and the energy itself on a batch of samples.\n",
    "    \"\"\"\n",
    "\n",
    "    E_loc = calc_H_loc(orbital, parameters, samples)\n",
    "    E = jnp.mean(E_loc.real)\n",
    "    dE = jnp.std(E_loc.real)\n",
    "\n",
    "    logpsi_red = lambda parameters: jnp.conjugate(orbital.calc_logpsi(parameters, samples))\n",
    "    y, v = netket.jax.vjp(logpsi_red, parameters)\n",
    "    N = samples.shape[0]\n",
    "\n",
    "    m = lambda tree: 2*jnp.real(tree/N)\n",
    "\n",
    "    return jax.tree_util.tree_map(m, v(E_loc - E))[0], E, dE\n",
    "\n",
    "def eval_S1(orbital, parameters, samples, v):\n",
    "    f = lambda param: orbital.calc_logpsi(param, samples)\n",
    "    N = samples.shape[0]\n",
    "\n",
    "    a = jax.jvp(f, (parameters,), (v,))[1]\n",
    "    b = netket.jax.vjp(f, parameters)[1](a)[0]\n",
    "    return jax.tree_util.tree_map(lambda x: 1/N*x, b)\n",
    "\n",
    "def eval_S2(orbital, parameters, samples, v):\n",
    "    f = lambda param: orbital.calc_logpsi(param, samples)\n",
    "    N = samples.shape[0]\n",
    "    e = jnp.ones(N)\n",
    "\n",
    "    a = jnp.sum(jax.jvp(f, (parameters,), (v,))[1])\n",
    "    b = netket.jax.vjp(f, parameters)[1](e)[0]\n",
    "    return  jax.tree_util.tree_map(lambda v: 1/N**2 * a * v, b)\n",
    "\n",
    "def eval_S(orbital, parameters, samples, v):\n",
    "    s1 = eval_S1(orbital, parameters, samples, v)\n",
    "    s2 = eval_S2(orbital, parameters, samples, v)\n",
    "    return jax.tree_util.tree_map(lambda a,b: jnp.real(a-b), s1, s2)\n",
    "\n",
    "eps = 1e-4\n",
    "@partial(jax.jit, static_argnames=['ansatz'])\n",
    "def apply_g(ansatz, samples, primals, tangent):\n",
    "    u = eval_S(ansatz, primals, samples, tangent)\n",
    "    return jax.tree_util.tree_map(lambda a, b: a + eps * b, u, tangent)\n",
    "\n",
    "@partial(jax.jit, static_argnames=['ansatz'])\n",
    "def inverse_g(ansatz, samples, primals, cotangent):\n",
    "    A = lambda tangents : apply_g(ansatz, samples, primals, tangents)\n",
    "    return jax.scipy.sparse.linalg.cg(A, cotangent)[0]\n",
    "\n",
    "\n",
    "#---------------------------------------------------\n",
    "# in full summation\n",
    "#---------------------------------------------------\n",
    "\n",
    "def full_psi(ansatz, param):\n",
    "    return ansatz.calc_psi(param, all_states)\n",
    "\n",
    "def full_lnK(ansatz, param):\n",
    "    psi = ansatz.calc_psi(param, all_states)\n",
    "    return 0.5*jnp.log(jnp.sum(jnp.conj(psi) * psi))\n",
    "\n",
    "def full_eval_S1(ansatz, parameters, v):\n",
    "    f = lambda theta: full_psi(ansatz, theta)\n",
    "    K = jnp.exp(full_lnK(ansatz, parameters))\n",
    "\n",
    "    a = jax.jvp(f, (parameters,), (v,))[1]\n",
    "    b = netket.jax.vjp(f, parameters)[1](a)[0]\n",
    "    return jax.tree_util.tree_map(lambda x: 1 * x.real / K**2, b)\n",
    "\n",
    "def full_eval_S2(ansatz, parameters, v):\n",
    "    f = lambda theta: full_lnK(ansatz, theta)\n",
    "\n",
    "    a = jax.jvp(f, (parameters,), (v,))[1]\n",
    "    b = netket.jax.vjp(f, parameters)[1](jnp.array(1.))[0]\n",
    "    return  jax.tree_util.tree_map(lambda v: a * v, b)\n",
    "\n",
    "def full_eval_S(orbital, parameters, v):\n",
    "    s1 = full_eval_S1(orbital, parameters, v)\n",
    "    s2 = full_eval_S2(orbital, parameters, v)\n",
    "    return jax.tree_util.tree_map(lambda a,b: jnp.real(a-b), s1, s2)\n",
    "\n",
    "@partial(jax.jit, static_argnames=['ansatz'])\n",
    "def full_apply_g(ansatz, primals, tangent):\n",
    "    u = full_eval_S(ansatz, primals, tangent)\n",
    "    return jax.tree_util.tree_map(lambda a, b: a + eps * b, u, tangent)\n",
    "\n",
    "@partial(jax.jit, static_argnames=['ansatz'])\n",
    "def full_inverse_g(ansatz, primals, cotangent):\n",
    "    A = lambda tangents : full_apply_g(ansatz, primals, tangents)\n",
    "    return jax.scipy.sparse.linalg.cg(A, cotangent)[0]"
   ]
  },
  {
   "cell_type": "markdown",
   "metadata": {},
   "source": [
    "### Christoffel Symbols"
   ]
  },
  {
   "cell_type": "code",
   "execution_count": 45,
   "metadata": {},
   "outputs": [],
   "source": [
    "def a(ansatz, samples, primals, gamma_dot):\n",
    "    f = lambda primals : apply_g(ansatz, samples, primals, gamma_dot)\n",
    "    res = jax.jvp(f, (primals,), (gamma_dot,))\n",
    "    return res[1]\n",
    "\n",
    "def a_approx(ansatz, samples, old_samples, gamma, old_gamma, gamma_dot, epsilon):\n",
    "    x = s_mul(1/epsilon, t_sub(apply_g(ansatz, samples, gamma, gamma_dot), apply_g(ansatz, old_samples, old_gamma, gamma_dot)))\n",
    "    return x\n",
    "\n",
    "\n",
    "def b(ansatz, samples, primals, gamma_dot):\n",
    "\n",
    "    ## this sums all elements of a tree\n",
    "    g = lambda v: jax.tree_util.tree_reduce(lambda c,d : c + d, jax.tree_util.tree_map(lambda a: jnp.sum(a), v))\n",
    "\n",
    "    ## this computes the norm square of gamma dot\n",
    "    f = lambda primals : g(jax.tree_util.tree_map(lambda c, d : c * d, gamma_dot, apply_g(ansatz, samples, primals, gamma_dot)))\n",
    "    \n",
    "    res = jax.vjp(f, primals)[1](jnp.array(1.))[0]\n",
    "    return res\n",
    "\n",
    "@partial(jax.jit, static_argnames=['ansatz'])\n",
    "def geodesic_correction(ansatz, samples, primals, gamma_dot):\n",
    "    lower = jax.tree_util.tree_map(lambda c,d: 2*c - d, a(ansatz, samples, primals, gamma_dot), b(ansatz, samples, primals, gamma_dot))\n",
    "    return jax.tree_util.tree_map(lambda k:0.5*k, lower)\n",
    "\n",
    "@partial(jax.jit, static_argnames=['ansatz'])\n",
    "def geodesic_correction_approx(ansatz, samples, old_samples, primals, old_primals, gamma_dot, epsilon):\n",
    "    lower = jax.tree_util.tree_map(lambda c,d: 2*c - d, a_approx(ansatz, samples, old_samples, primals, old_primals, gamma_dot, epsilon), b(ansatz, samples, primals, gamma_dot))\n",
    "    return jax.tree_util.tree_map(lambda k:0.5*k, lower)\n",
    "\n",
    "#------------------------------------------------------\n",
    "#  in ful summation\n",
    "#------------------------------------------------------\n",
    "\n",
    "def full_a(ansatz, primals, gamma_dot):\n",
    "    f = lambda primals : full_apply_g(ansatz, primals, gamma_dot)\n",
    "    res = jax.jvp(f, (primals,), (gamma_dot,))\n",
    "    return res[1]\n",
    "\n",
    "def full_b(ansatz, primals, gamma_dot):\n",
    "\n",
    "    ## this sums all elements of a tree\n",
    "    g = lambda v: jax.tree_util.tree_reduce(lambda c,d : c + d, jax.tree_util.tree_map(lambda a: jnp.sum(a), v))\n",
    "\n",
    "    ## this computes the norm square of gamma dot\n",
    "    f = lambda primals : g(jax.tree_util.tree_map(lambda c, d : c * d, gamma_dot, full_apply_g(ansatz, primals, gamma_dot)))\n",
    "    \n",
    "    res = jax.vjp(f, primals)[1](jnp.array(1.))[0]\n",
    "    return res\n",
    "\n",
    "@partial(jax.jit, static_argnames=['ansatz'])\n",
    "def full_geodesic_correction(ansatz, primals, gamma_dot):\n",
    "    lower = jax.tree_util.tree_map(lambda c,d: 2*c - d, full_a(ansatz, primals, gamma_dot), full_b(ansatz, primals, gamma_dot))\n",
    "    return jax.tree_util.tree_map(lambda k:0.5*k, lower)"
   ]
  },
  {
   "cell_type": "markdown",
   "metadata": {},
   "source": [
    "### Covariant Norm"
   ]
  },
  {
   "cell_type": "code",
   "execution_count": 15,
   "metadata": {},
   "outputs": [],
   "source": [
    "def calc_norm_square(ansatz, samples, primals, tangent):\n",
    "    g = lambda v: jax.tree_util.tree_reduce(lambda c,d : c + d, jax.tree_util.tree_map(lambda a: jnp.sum(a), v))\n",
    "    return  g(jax.tree_util.tree_map(lambda c, d : c * d, tangent, apply_g(ansatz, samples, primals, tangent)))\n",
    "\n",
    "def full_calc_norm_square(ansatz, primals, tangent):\n",
    "    g = lambda v: jax.tree_util.tree_reduce(lambda c,d : c + d, jax.tree_util.tree_map(lambda a: jnp.sum(a), v))\n",
    "    return  g(jax.tree_util.tree_map(lambda c, d : c * d, tangent, full_apply_g(ansatz, primals, tangent)))"
   ]
  },
  {
   "cell_type": "markdown",
   "metadata": {},
   "source": [
    "## Geodesics\n",
    "We try to first accurately simulate geodesic motion on the variational manifold. Therefore, we discretise the geodesic equation and obtain:\n",
    "$$\n",
    "\\gamma^i(t + \\epsilon) = 2\\gamma(t)^i  - \\gamma^i(t-\\epsilon) - \\Gamma^i_{jk}(\\gamma^j(t)-\\gamma^j(t-\\epsilon))(\\gamma^k(t)-\\gamma^k(t-\\epsilon))\n",
    "$$"
   ]
  },
  {
   "cell_type": "code",
   "execution_count": 98,
   "metadata": {},
   "outputs": [],
   "source": [
    "def full_geodesic(param, param_dot, N = 10, epsilon = 0.01):\n",
    "    stats = {\"momentum\":[], \"test\": []}\n",
    "\n",
    "    old_param = jax.tree_util.tree_map(lambda a, b: a - epsilon*b, param, param_dot)\n",
    "\n",
    "    for i in tqdm(range(N)):\n",
    "        delta_param = t_sub(param, old_param)\n",
    "        param_dot = s_mul(1/epsilon, delta_param)\n",
    "        ## 2-norm of a pytree\n",
    "        stats[\"momentum\"].append(full_calc_norm_square(ansatz, param, param_dot))\n",
    "\n",
    "        cor = full_inverse_g(ansatz, param, full_geodesic_correction(ansatz, param, delta_param))\n",
    "\n",
    "        # update\n",
    "        new_param = jax.tree_util.tree_map(lambda par, oldpar, cor: 2*par - oldpar - cor, param, old_param, cor)\n",
    "        old_param = param\n",
    "        param = new_param\n",
    "\n",
    "    numpy_stats = {}\n",
    "    for key_ in stats.keys():\n",
    "        numpy_stats[key_] = np.array(stats[key_])\n",
    "\n",
    "    return numpy_stats\n",
    "\n",
    "\n",
    "def geodesic(param, param_dot, N = 10, epsilon = 0.01, N_samples = 5000):\n",
    "    stats = {\"momentum\":[]}\n",
    "\n",
    "    old_param = jax.tree_util.tree_map(lambda a, b: a - epsilon*b, param, param_dot)\n",
    "\n",
    "    for i in tqdm(range(N)):\n",
    "\n",
    "        samples, _ = get_samples(N_samples, param)\n",
    "        delta_param = t_sub(param, old_param)\n",
    "        param_dot = s_mul(1/epsilon, delta_param)\n",
    "        ## 2-norm of a pytree\n",
    "        stats[\"momentum\"].append(full_calc_norm_square(ansatz, param, param_dot))\n",
    "\n",
    "        cor = inverse_g(ansatz, param, samples, geodesic_correction(ansatz, samples, param, delta_param))\n",
    "\n",
    "        # update\n",
    "        new_param = jax.tree_util.tree_map(lambda par, oldpar, cor: 2*par - oldpar - cor, param, old_param, cor)\n",
    "        old_param = param\n",
    "        param = new_param\n",
    "\n",
    "\n",
    "\n",
    "    numpy_stats = {}\n",
    "    for key_ in stats.keys():\n",
    "        numpy_stats[key_] = np.array(stats[key_])\n",
    "\n",
    "    return numpy_stats\n",
    "\n",
    "\n",
    "def geodesic_approx(param, param_dot, N = 10, epsilon = 0.01, N_samples = 5000):\n",
    "    stats = {\"momentum\":[]}\n",
    "\n",
    "    old_param = jax.tree_util.tree_map(lambda a, b: a - epsilon*b, param, param_dot)\n",
    "    old_samples, _ = get_samples(N_samples, old_param)\n",
    "\n",
    "    for i in tqdm(range(N)):\n",
    "\n",
    "        samples, _ = get_samples(N_samples, param)\n",
    "        delta_param = t_sub(param, old_param)\n",
    "        param_dot = s_mul(1/epsilon, delta_param)\n",
    "        ## 2-norm of a pytree\n",
    "        stats[\"momentum\"].append(full_calc_norm_square(ansatz, param, param_dot))\n",
    "\n",
    "        cor = inverse_g(ansatz, param, samples, geodesic_correction_approx(ansatz, samples, old_samples, param, old_param, param_dot, epsilon))\n",
    "\n",
    "        # update\n",
    "        new_param = jax.tree_util.tree_map(lambda par, oldpar, cor: 2*par - oldpar - epsilon**2*cor, param, old_param, cor)\n",
    "        old_param = param\n",
    "        param = new_param\n",
    "\n",
    "        old_samples = samples\n",
    "\n",
    "    numpy_stats = {}\n",
    "    for key_ in stats.keys():\n",
    "        numpy_stats[key_] = np.array(stats[key_])\n",
    "\n",
    "    return numpy_stats\n"
   ]
  },
  {
   "cell_type": "code",
   "execution_count": null,
   "metadata": {},
   "outputs": [],
   "source": [
    "def full_geodesic(param, param_dot, N = 10, epsilon = 0.01):\n",
    "    stats = {\"momentum\":[], \"test\": []}\n",
    "\n",
    "    old_param = jax.tree_util.tree_map(lambda a, b: a - epsilon*b, param, param_dot)\n",
    "\n",
    "    for i in tqdm(range(N)):\n",
    "        delta_param = t_sub(param, old_param)\n",
    "        param_dot = s_mul(1/epsilon, delta_param)\n",
    "        ## 2-norm of a pytree\n",
    "        stats[\"momentum\"].append(full_calc_norm_square(ansatz, param, param_dot))\n",
    "\n",
    "        cor = full_inverse_g(ansatz, param, full_geodesic_correction(ansatz, param, delta_param))\n",
    "\n",
    "        # update\n",
    "        new_param = jax.tree_util.tree_map(lambda par, oldpar, cor: 2*par - oldpar - cor, param, old_param, cor)\n",
    "        old_param = param\n",
    "        param = new_param\n",
    "\n",
    "    numpy_stats = {}\n",
    "    for key_ in stats.keys():\n",
    "        numpy_stats[key_] = np.array(stats[key_])\n",
    "\n",
    "    return numpy_stats\n",
    "\n",
    "\n",
    "def geodesic(param, param_dot, N = 10, epsilon = 0.01, N_samples = 5000):\n",
    "    stats = {\"momentum\":[]}\n",
    "\n",
    "    old_param = jax.tree_util.tree_map(lambda a, b: a - epsilon*b, param, param_dot)\n",
    "\n",
    "    for i in tqdm(range(N)):\n",
    "\n",
    "        samples, _ = get_samples(N_samples, param)\n",
    "        delta_param = t_sub(param, old_param)\n",
    "        param_dot = s_mul(1/epsilon, delta_param)\n",
    "        ## 2-norm of a pytree\n",
    "        stats[\"momentum\"].append(full_calc_norm_square(ansatz, param, param_dot))\n",
    "\n",
    "        cor = inverse_g(ansatz, param, samples, geodesic_correction(ansatz, samples, param, delta_param))\n",
    "\n",
    "        # update\n",
    "        new_param = jax.tree_util.tree_map(lambda par, oldpar, cor: 2*par - oldpar - cor, param, old_param, cor)\n",
    "        old_param = param\n",
    "        param = new_param\n",
    "\n",
    "\n",
    "\n",
    "    numpy_stats = {}\n",
    "    for key_ in stats.keys():\n",
    "        numpy_stats[key_] = np.array(stats[key_])\n",
    "\n",
    "    return numpy_stats\n",
    "\n",
    "\n",
    "def geodesic_approx(param, param_dot, N = 10, epsilon = 0.01, N_samples = 5000):\n",
    "    stats = {\"momentum\":[]}\n",
    "\n",
    "    old_param = jax.tree_util.tree_map(lambda a, b: a - epsilon*b, param, param_dot)\n",
    "    old_samples, _ = get_samples(N_samples, old_param)\n",
    "\n",
    "    for i in tqdm(range(N)):\n",
    "\n",
    "        samples, _ = get_samples(N_samples, param)\n",
    "        delta_param = t_sub(param, old_param)\n",
    "        param_dot = s_mul(1/epsilon, delta_param)\n",
    "        ## 2-norm of a pytree\n",
    "        stats[\"momentum\"].append(full_calc_norm_square(ansatz, param, param_dot))\n",
    "\n",
    "        cor = inverse_g(ansatz, param, samples, geodesic_correction_approx(ansatz, samples, old_samples, param, old_param, param_dot, epsilon))\n",
    "\n",
    "        # update\n",
    "        new_param = jax.tree_util.tree_map(lambda par, oldpar, cor: 2*par - oldpar - epsilon**2*cor, param, old_param, cor)\n",
    "        old_param = param\n",
    "        param = new_param\n",
    "\n",
    "        old_samples = samples\n",
    "\n",
    "    numpy_stats = {}\n",
    "    for key_ in stats.keys():\n",
    "        numpy_stats[key_] = np.array(stats[key_])\n",
    "\n",
    "    return numpy_stats\n"
   ]
  },
  {
   "cell_type": "code",
   "execution_count": 224,
   "metadata": {},
   "outputs": [
    {
     "name": "stderr",
     "output_type": "stream",
     "text": [
      "100%|██████████| 100/100 [03:49<00:00,  2.29s/it]\n",
      "100%|██████████| 100/100 [04:13<00:00,  2.53s/it]\n",
      "100%|██████████| 100/100 [01:34<00:00,  1.06it/s]\n"
     ]
    }
   ],
   "source": [
    "key, _ = jax.random.split(key)\n",
    "param = ansatz.init_param(key)\n",
    "N = 100\n",
    "epsilon = 0.01\n",
    "\n",
    "param_dot = s_mul(0.01, t_ones_like(param))\n",
    "init_norm = full_calc_norm_square(ansatz, param, param_dot)\n",
    "\n",
    "full_stats = full_geodesic(param, param_dot , N, epsilon)\n",
    "stats = geodesic(param, param_dot, N, epsilon, N_samples=5000)\n",
    "stats_approx = geodesic_approx(param, param_dot, N, epsilon, N_samples=5000)"
   ]
  },
  {
   "cell_type": "code",
   "execution_count": 226,
   "metadata": {},
   "outputs": [],
   "source": [
    "# np.savetxt(\"full_stats_eps=1e-2\", full_stats[\"momentum\"])\n",
    "# np.savetxt(\"stats_eps=1e-2\", stats[\"momentum\"])\n",
    "# np.savetxt(\"stats_approx_eps=1e-2\", stats_approx[\"momentum\"])"
   ]
  },
  {
   "cell_type": "markdown",
   "metadata": {},
   "source": [
    "## Evaluate accuracy"
   ]
  },
  {
   "cell_type": "code",
   "execution_count": 235,
   "metadata": {},
   "outputs": [
    {
     "data": {
      "text/plain": [
       "(0.0, 0.01)"
      ]
     },
     "execution_count": 235,
     "metadata": {},
     "output_type": "execute_result"
    },
    {
     "data": {
      "image/png": "[encoded data removed]",
      "text/plain": [
       "<Figure size 640x480 with 1 Axes>"
      ]
     },
     "metadata": {},
     "output_type": "display_data"
    }
   ],
   "source": [
    "i = jnp.arange(N)\n",
    "\n",
    "plt.scatter(i, jnp.abs(full_stats[\"momentum\"] - init_norm), label = \"full\", marker = \".\")\n",
    "plt.scatter(i, jnp.abs(stats[\"momentum\"] - init_norm), label = \"sampling\", marker =\".\")\n",
    "plt.scatter(i, jnp.abs(stats_approx[\"momentum\"] - init_norm), label = \"gamma approx\", marker =\".\")\n",
    "\n",
    "# plt.yscale(\"log\")\n",
    "plt.xlabel(\"iteration\")\n",
    "plt.ylabel(\"error in norm of gamma_dot\")\n",
    "plt.legend()\n",
    "plt.title(\"deviation from geodesic in full summation and sampling epsilon=\"+str(epsilon))\n",
    "plt.ylim(0, 0.01)\n"
   ]
  },
  {
   "cell_type": "code",
   "execution_count": 215,
   "metadata": {},
   "outputs": [],
   "source": [
    "key, _ = jax.random.split(key)\n",
    "N_samples = 5000\n",
    "param = ansatz.init_param(key)\n",
    "param_dot = s_mul(0.01, t_ones_like(param))\n",
    "samples, _ = get_samples(N_samples, param)\n",
    "x2 = geodesic_correction(ansatz, samples, param, param_dot)\n",
    "\n",
    "errs = []\n",
    "eps = 10**(-jnp.arange(20,50)*0.1 + 0.)\n",
    "for epsilon in eps:\n",
    "    old_param = t_sub(param, s_mul(epsilon, param_dot))\n",
    "    old_samples, _ = get_samples(N_samples, old_param)\n",
    "    x1 = geodesic_correction_approx(ansatz, samples, old_samples, param, old_param, param_dot, epsilon)\n",
    "    err = euclid_norm_sq(t_sub(x1, x2))\n",
    "    # err = full_calc_norm_square(ansatz, param, t_sub(x1,x2))\n",
    "    errs.append(jnp.sqrt(err))"
   ]
  },
  {
   "cell_type": "code",
   "execution_count": 216,
   "metadata": {},
   "outputs": [
    {
     "data": {
      "text/plain": [
       "Text(0.5, 1.0, 'geodesic correction error between Gamma and approximated Gamma (both sampled)')"
      ]
     },
     "execution_count": 216,
     "metadata": {},
     "output_type": "execute_result"
    },
    {
     "data": {
      "image/png": "[encoded data removed]",
      "text/plain": [
       "<Figure size 640x480 with 1 Axes>"
      ]
     },
     "metadata": {},
     "output_type": "display_data"
    }
   ],
   "source": [
    "plt.scatter(eps, errs)\n",
    "plt.yscale(\"log\")\n",
    "plt.xscale(\"log\")\n",
    "plt.xlabel(\"epsilon\")\n",
    "plt.ylabel(\"euclidian distance\")\n",
    "plt.title(\"geodesic correction error between Gamma and approximated Gamma (both sampled)\")"
   ]
  },
  {
   "cell_type": "markdown",
   "metadata": {},
   "source": [
    "---"
   ]
  }
 ],
 "metadata": {
  "kernelspec": {
   "display_name": "base",
   "language": "python",
   "name": "python3"
  },
  "language_info": {
   "codemirror_mode": {
    "name": "ipython",
    "version": 3
   },
   "file_extension": ".py",
   "mimetype": "text/x-python",
   "name": "python",
   "nbconvert_exporter": "python",
   "pygments_lexer": "ipython3",
   "version": "3.10.12"
  }
 },
 "nbformat": 4,
 "nbformat_minor": 2
}
