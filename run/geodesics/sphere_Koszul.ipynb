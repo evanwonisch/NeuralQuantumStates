{
 "cells": [
  {
   "cell_type": "code",
   "execution_count": 1,
   "metadata": {},
   "outputs": [],
   "source": [
    "import jax\n",
    "import jax.numpy as jnp\n",
    "from matplotlib import pyplot as plt\n",
    "from tqdm import tqdm"
   ]
  },
  {
   "cell_type": "markdown",
   "metadata": {},
   "source": [
    "### 0. The Geodesics of the Sphere $S^2$\n",
    "\n",
    "The 2-sphere can be parametrised by two Euler angles $\\theta, \\phi$. One inherits the metric of the ambient space $\\mathbb{R}^3$ and obtains a Riemannian manifold with metric:\n",
    "\n",
    "$$\n",
    "ds^2 =  d\\theta^2 + \\sin^2 \\theta \\, d\\phi^2\n",
    "$$\n",
    "\n",
    "One can employ the Levi-Civita connection and calculate geodesics. We aim to do this numerically and later generalise to high-dimensional settings where only lowering indices via the metric tensor g is numerically available. Also raising indices is available, though it involves inverting the above metric or using approximate solvers for linear systems of equations. The lowering of indices is written as:\n",
    "\n",
    "$$\n",
    "w_i = g_{ij} v^j\n",
    "$$\n",
    "\n",
    "We implement it in the folowing snippet:"
   ]
  },
  {
   "cell_type": "code",
   "execution_count": 2,
   "metadata": {},
   "outputs": [],
   "source": [
    "def apply_g(primals, tangent):\n",
    "\n",
    "    theta = primals[0]\n",
    "    orig_shape = tangent.shape\n",
    "    tangent = tangent.reshape(-1, 2, 1)\n",
    "\n",
    "    g = jnp.array([[1., 0],[0, jnp.sin(theta)**2]])\n",
    "    res = jnp.matmul(g, tangent)\n",
    "    return res.reshape(orig_shape)"
   ]
  },
  {
   "cell_type": "code",
   "execution_count": 3,
   "metadata": {},
   "outputs": [
    {
     "name": "stderr",
     "output_type": "stream",
     "text": [
      "An NVIDIA GPU may be present on this machine, but a CUDA-enabled jaxlib is not installed. Falling back to cpu.\n"
     ]
    },
    {
     "data": {
      "text/plain": [
       "(20, 2)"
      ]
     },
     "execution_count": 3,
     "metadata": {},
     "output_type": "execute_result"
    }
   ],
   "source": [
    "param = jnp.array([0., 1.])\n",
    "tangents = jnp.ones(shape = (20, 2))\n",
    "\n",
    "cotangents = apply_g(param, tangents)\n",
    "cotangents.shape"
   ]
  },
  {
   "cell_type": "markdown",
   "metadata": {},
   "source": [
    "Using a numerical linear eqation solver (conjugate gradient), we can also raise indices:"
   ]
  },
  {
   "cell_type": "code",
   "execution_count": 4,
   "metadata": {},
   "outputs": [],
   "source": [
    "def inverse_g(primals, cotangent):\n",
    "    A = lambda tangents : apply_g(primals, tangents)\n",
    "    return jax.scipy.sparse.linalg.cg(A, cotangent)[0]"
   ]
  },
  {
   "cell_type": "code",
   "execution_count": 5,
   "metadata": {},
   "outputs": [
    {
     "data": {
      "text/plain": [
       "(20, 2)"
      ]
     },
     "execution_count": 5,
     "metadata": {},
     "output_type": "execute_result"
    }
   ],
   "source": [
    "tangents = inverse_g(param, cotangents)\n",
    "tangents.shape"
   ]
  },
  {
   "cell_type": "markdown",
   "metadata": {},
   "source": [
    "We now aim to solve the geodesic equation on this Riemannian manifold. It describes the trajectory of a curve $\\gamma : \\mathbb{R} \\to M$, given by:\n",
    "\n",
    "$$\n",
    "\\\"{\\gamma}^i + \\Gamma^i_{jk} \\dot{\\gamma}^j \\dot{\\gamma}^k = 0\n",
    "$$\n",
    "\n",
    "This involves the Christoffel-symbols $\\Gamma$ of the Levi-Civita connection, given by:\n",
    "$$\n",
    "\\Gamma^i_{jk} = \\frac{1}{2}g^{il} b_{ljk}\n",
    "$$\n",
    "\n",
    "with $b_{ljk} = \\partial_j g_{lk} + \\partial_k g_{lj} - \\partial_l g_{jk}$. We first calculate the expression $b_{ljk}\\dot{\\gamma}^j\\dot{\\gamma}^k$ and then raise its index via the conjugate gradient method described above. The first two terms of $b_{ljk}$ give the same result when contracted with $\\dot{\\gamma}^j\\dot{\\gamma}^k$. The result of the first, we will calculate with function $a$ and the second one with function $b$."
   ]
  },
  {
   "cell_type": "code",
   "execution_count": 7,
   "metadata": {},
   "outputs": [],
   "source": [
    "def a(primals, gamma_dot):\n",
    "    f = lambda primals : apply_g(primals, gamma_dot)\n",
    "    res = jax.jvp(f, (primals,), (gamma_dot,))\n",
    "    return res[1]\n",
    "\n",
    "def b(primals, gamma_dot):\n",
    "    f = lambda primals : jnp.sum(gamma_dot * apply_g(primals, gamma_dot))\n",
    "    res = jax.vjp(f, primals)[1](jnp.array(1.))[0]\n",
    "    return res\n",
    "\n",
    "@jax.jit\n",
    "def geodesic_correction(primals, gamma_dot):\n",
    "    lower = a(primals, gamma_dot) - 0*b(primals, gamma_dot)\n",
    "    raised = inverse_g(primals, lower)\n",
    "    return 0.5*raised"
   ]
  },
  {
   "cell_type": "markdown",
   "metadata": {},
   "source": [
    "The implemented geodesic correction function calculates directly all components of $\\Gamma^i_{jk}\\dot{\\gamma}^j\\dot{\\gamma}^k$. We will also call the collection of these components $\\Gamma(\\dot{\\gamma},\\dot{\\gamma})$."
   ]
  },
  {
   "cell_type": "markdown",
   "metadata": {},
   "source": [
    "### 1. Iterative Integration Scheme\n",
    "One can discretise the second order geodesic equation. Here we employ\n",
    "\n",
    "$$\n",
    "\\ddot{\\gamma}(t) \\approx \\frac{1}{\\epsilon^2}\\left[\\gamma(t + \\epsilon) - 2 \\gamma(t) + \\gamma(t - \\epsilon)\\right]\n",
    "$$\n",
    "\n",
    "for the second derivative and\n",
    "$$\n",
    "\\dot{\\gamma}(t) \\approx \\frac{1}{\\epsilon}\\left[\\gamma(t) - \\gamma(t - \\epsilon)\\right]\n",
    "$$\n",
    "with $\\epsilon$ being a small time step. The geodesic equation then becomes:\n",
    "\n",
    "$$\n",
    "\\gamma(t + \\epsilon) = 2\\gamma(t) - \\gamma(t - \\epsilon) - \\Gamma(\\gamma(t)-\\gamma(t-\\epsilon), \\gamma(t)-\\gamma(t-\\epsilon))\n",
    "$$"
   ]
  },
  {
   "cell_type": "code",
   "execution_count": 8,
   "metadata": {},
   "outputs": [
    {
     "name": "stderr",
     "output_type": "stream",
     "text": [
      "100%|██████████| 296/296 [00:00<00:00, 1782.88it/s]\n"
     ]
    }
   ],
   "source": [
    "dt = 0.05\n",
    "T = 15\n",
    "N_iter = int(T/dt) - 2\n",
    "\n",
    "t = 0\n",
    "gamma = jnp.array([jnp.pi/2+1., 0])\n",
    "gamma_dot = jnp.array([0.,1.])\n",
    "\n",
    "\n",
    "ts = [t, t + dt]\n",
    "gammas = [gamma - dt * gamma_dot, gamma]\n",
    "for i in tqdm(range(2, N_iter)):\n",
    "\n",
    "    delta_gam = gammas[i - 1] - gammas[i - 2]\n",
    "    cor = geodesic_correction(gammas[i - 1], delta_gam)\n",
    "    gamma = 2*gammas[i-1] - gammas[i - 2] - cor\n",
    "    t = ts[i - 1] + dt\n",
    "\n",
    "    ts.append(t)\n",
    "    gammas.append(gamma)\n",
    "\n",
    "gammas = jnp.array(gammas)\n",
    "ts = jnp.array(ts)"
   ]
  },
  {
   "cell_type": "code",
   "execution_count": 9,
   "metadata": {},
   "outputs": [
    {
     "data": {
      "text/plain": [
       "Text(0.5, 1.0, 'Geodesics of the sphere')"
      ]
     },
     "execution_count": 9,
     "metadata": {},
     "output_type": "execute_result"
    },
    {
     "data": {
      "image/png": "[encoded data removed]",
      "text/plain": [
       "<Figure size 640x480 with 1 Axes>"
      ]
     },
     "metadata": {},
     "output_type": "display_data"
    }
   ],
   "source": [
    "phis = jnp.linspace(jnp.pi/2, jnp.pi*3/2-1e-3)\n",
    "phis2 = jnp.linspace(0, jnp.pi/2-1e-3)\n",
    "phis3 = jnp.linspace(jnp.pi*3/2, jnp.pi*2)\n",
    "coef = 1 / jnp.tan(gammas[0][0])\n",
    "\n",
    "plt.plot(gammas[:,1], gammas[:, 0], color = \"C1\", marker = \".\", label = \"finite difference\")\n",
    "plt.plot(phis, jnp.arctan(1/coef/jnp.cos(phis)), color = \"C0\")\n",
    "plt.plot(phis2, jnp.arctan(1/coef/jnp.cos(phis2))+jnp.pi, color = \"C0\")\n",
    "plt.plot(phis3, jnp.arctan(1/coef/jnp.cos(phis3))+jnp.pi, color = \"C0\", label = \"exact\")\n",
    "plt.xlim(0, jnp.pi*2)\n",
    "plt.ylim(0, jnp.pi)\n",
    "plt.ylabel(\"$\\\\theta$\")\n",
    "plt.xlabel(\"$\\\\phi$\")\n",
    "plt.legend()\n",
    "plt.title(\"Geodesics of the sphere\")"
   ]
  }
 ],
 "metadata": {
  "kernelspec": {
   "display_name": ".venv",
   "language": "python",
   "name": "python3"
  },
  "language_info": {
   "codemirror_mode": {
    "name": "ipython",
    "version": 3
   },
   "file_extension": ".py",
   "mimetype": "text/x-python",
   "name": "python",
   "nbconvert_exporter": "python",
   "pygments_lexer": "ipython3",
   "version": "3.10.12"
  }
 },
 "nbformat": 4,
 "nbformat_minor": 2
}
