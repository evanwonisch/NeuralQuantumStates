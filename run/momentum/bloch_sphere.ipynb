{
 "cells": [
  {
   "cell_type": "code",
   "execution_count": 1,
   "metadata": {},
   "outputs": [],
   "source": [
    "import jax\n",
    "import jax.numpy as jnp\n",
    "from matplotlib import pyplot as plt\n",
    "from tqdm import tqdm"
   ]
  },
  {
   "cell_type": "markdown",
   "metadata": {},
   "source": [
    "### 0. The Bloch Sphere\n",
    "\n",
    "Given one $\\frac{1}{2}$-spin, its Hilbert space is $\\mathbb{C}^2$ and we chose the basis $B = \\{\\uparrow, \\downarrow\\}$. Any wavefunction $\\Psi$ can be parametrised by two angles $\\theta, \\phi$:\n",
    "\n",
    "$$\n",
    "\\Psi = \\cos \\frac{\\theta}{2} \\uparrow + e^{i\\phi} \\sin \\frac{\\theta}{2} \\downarrow\n",
    "$$\n",
    "\n",
    "The resulting wavefunctions form the manifold $M$. We inheret the metric structure of the ambient Hilbert space via the quantum information tensor. This results in a real Riemannian metric:\n",
    "\n",
    "$$\n",
    "g_{ij} = 2 \\Re\\, \\langle \\partial_i \\Psi | \\partial_j \\Psi \\rangle\n",
    "$$\n",
    "\n",
    "Here this leads to:\n",
    "\n",
    "$$\n",
    "ds^2 =  \\frac{1}{2}d\\theta^2 + 2 \\sin \\frac{\\theta}{2} d\\phi^2\n",
    "$$\n",
    "\n",
    "In a variational monte carlo simulation, we can raise and lower indices. The lowering part is more immediate, as the raising involves inverting the above metric. The lowering is written as:\n",
    "\n",
    "$$\n",
    "w_i = g_{ij} v^i\n",
    "$$\n",
    "\n",
    "We implement it in the folowing snippet:"
   ]
  },
  {
   "cell_type": "code",
   "execution_count": 79,
   "metadata": {},
   "outputs": [],
   "source": [
    "def apply_g(primals, tangent):\n",
    "\n",
    "    theta = primals[0]\n",
    "    orig_shape = tangent.shape\n",
    "    tangent = tangent.reshape(-1, 2, 1)\n",
    "\n",
    "    g = jnp.array([[0.5, 0],[0, 2*jnp.sin(theta/2)**2]])\n",
    "    res = jnp.matmul(g, tangent)\n",
    "    return res.reshape(orig_shape)"
   ]
  },
  {
   "cell_type": "code",
   "execution_count": 80,
   "metadata": {},
   "outputs": [
    {
     "data": {
      "text/plain": [
       "(20, 2)"
      ]
     },
     "execution_count": 80,
     "metadata": {},
     "output_type": "execute_result"
    }
   ],
   "source": [
    "param = jnp.array([0., 1.])\n",
    "tangents = jnp.ones(shape = (20, 2))\n",
    "\n",
    "cotangents = apply_g(param, tangents)\n",
    "cotangents.shape"
   ]
  },
  {
   "cell_type": "markdown",
   "metadata": {},
   "source": [
    "Using a numerical linear eqation solver (conjugate gradient), we can also raise indices:"
   ]
  },
  {
   "cell_type": "code",
   "execution_count": 81,
   "metadata": {},
   "outputs": [],
   "source": [
    "def inverse_g(primals, cotangent):\n",
    "    A = lambda tangents : apply_g(primals, tangents)\n",
    "    return jax.scipy.sparse.linalg.cg(A, cotangent)[0]"
   ]
  },
  {
   "cell_type": "code",
   "execution_count": 82,
   "metadata": {},
   "outputs": [
    {
     "data": {
      "text/plain": [
       "(20, 2)"
      ]
     },
     "execution_count": 82,
     "metadata": {},
     "output_type": "execute_result"
    }
   ],
   "source": [
    "tangents = inverse_g(param, cotangents)\n",
    "tangents.shape"
   ]
  },
  {
   "cell_type": "markdown",
   "metadata": {},
   "source": [
    "### 1. Natural Gradient descent with Momentum\n",
    "\n",
    "We aim to find the ground state of the system described by the Hamiltonian:\n",
    "\n",
    "$$\n",
    "H = -B \\, S^{(x)}\n",
    "$$\n",
    "\n",
    "we can calculate the expected energy in our Bloch state $\\Psi$ as a function of the parameters:\n",
    "\n",
    "$$\n",
    "E = \\langle \\Psi | H | \\Psi \\rangle = -\\frac{B\\hbar}{2}\\sin\\theta\\cos\\phi\n",
    "$$\n",
    "\n",
    "Instead of the regular natural gradient descent, which in continuous time is described as a curve $\\gamma : \\mathbb{R} \\to M$ by the first-order differential equation\n",
    "$$\n",
    "\\dot{\\gamma}^i = -g^{ij}\\partial_j E\n",
    "$$\n",
    "we employ a second order differential equation, which accounts for the momentum commonly found in many optimisers:\n",
    "$$\n",
    "\\ddot{\\gamma}^i + \\Gamma^i_{jk} \\dot{\\gamma}^j \\dot{\\gamma}^k = -g^{ij}\\partial_j E - \\kappa \\dot{\\gamma}^i\n",
    "$$\n",
    "The parameter $\\kappa$ controls the damping of the system, i.e. how much momentum lies in the optimisation. The left hand side of the equation is recognisable, as it is just the covariant acceleration of the curve $\\gamma$ and thus the generalised second-oder time derivative which is informed by the geometry structure of the manifold. The Christoffel symbols $\\Gamma$ appear only contracted in the form $\\Gamma^i_{jk} \\dot{\\gamma}^j \\dot{\\gamma}^k$. We call this term the geodesic correction (also we write $\\Gamma(\\dot{\\gamma},\\dot{\\gamma})$) and calculate it with the functions below:"
   ]
  },
  {
   "cell_type": "code",
   "execution_count": 83,
   "metadata": {},
   "outputs": [],
   "source": [
    "def a(primals, gamma_dot):\n",
    "    f = lambda primals : apply_g(primals, gamma_dot)\n",
    "    res = jax.jvp(f, (primals,), (gamma_dot,))\n",
    "    return res[1]\n",
    "\n",
    "def b(primals, gamma_dot):\n",
    "    f = lambda primals : jnp.sum(gamma_dot * apply_g(primals, gamma_dot))\n",
    "    res = jax.vjp(f, primals)[1](jnp.array(1.))[0]\n",
    "    return res\n",
    "\n",
    "@jax.jit\n",
    "def geodesic_correction(primals, gamma_dot):\n",
    "    lower = 2 * a(primals, gamma_dot) - b(primals, gamma_dot)\n",
    "    raised = inverse_g(primals, lower)\n",
    "    return 0.5*raised"
   ]
  },
  {
   "cell_type": "markdown",
   "metadata": {},
   "source": [
    "To calculate the energy and its natrural gradient, we use the following:"
   ]
  },
  {
   "cell_type": "code",
   "execution_count": 84,
   "metadata": {},
   "outputs": [],
   "source": [
    "def calc_E(primals):\n",
    "    theta = primals[0]\n",
    "    phi = primals[1]\n",
    "\n",
    "    return -jnp.sin(theta)*jnp.cos(phi)\n",
    "\n",
    "@jax.jit\n",
    "def calc_natural_gradient(primals):\n",
    "    covect = jax.vjp(calc_E, primals)[1](jnp.array(1.))[0]\n",
    "    return inverse_g(primals, covect)"
   ]
  },
  {
   "cell_type": "markdown",
   "metadata": {},
   "source": [
    "### 1. Iterative Integration Scheme\n",
    "The continuous time momentum equation will be discretised to obtain a recursive series, as one is familiar with for other optimisation algorithms.\n",
    "\n",
    "\n",
    "The time derivatives can be discretised with finite differences. We take:\n",
    "\n",
    "$$\n",
    "\\ddot{\\gamma}(t) \\approx \\frac{1}{\\epsilon^2}\\left[\\gamma(t + \\epsilon) - 2 \\gamma(t) + \\gamma(t - \\epsilon)\\right]\n",
    "$$\n",
    "\n",
    "for the second derivative and\n",
    "$$\n",
    "\\dot{\\gamma}(t) \\approx \\frac{1}{\\epsilon}\\left[\\gamma(t) - \\gamma(t - \\epsilon)\\right]\n",
    "$$\n",
    "with $\\epsilon$ being a small time step. The momentum equation becomes then:\n",
    "\n",
    "$$\n",
    "\\gamma^i(t + \\epsilon) = \\gamma(t)^i - \\epsilon^2g^{ij}\\partial_j E + (1 - \\kappa\\epsilon)(\\gamma^i(t) - \\gamma^i(t-\\epsilon)) - \\Gamma^i_{jk}(\\gamma^j(t)-\\gamma^j(t-\\epsilon))(\\gamma^k(t)-\\gamma^k(t-\\epsilon))\n",
    "$$"
   ]
  },
  {
   "cell_type": "code",
   "execution_count": 93,
   "metadata": {},
   "outputs": [
    {
     "name": "stderr",
     "output_type": "stream",
     "text": [
      "100%|██████████| 146/146 [00:00<00:00, 27761.74it/s]\n"
     ]
    }
   ],
   "source": [
    "dt = 0.1\n",
    "T = 15\n",
    "N_iter = int(T/dt) - 2\n",
    "\n",
    "t = 0\n",
    "kappa = 0.4\n",
    "gamma = jnp.array([jnp.pi/2 - 0.5, 1.6])\n",
    "gamma_dot = jnp.array([0.,0.])\n",
    "\n",
    "\n",
    "ts = [t, t + dt]\n",
    "gammas = [gamma - dt * gamma_dot, gamma]\n",
    "for i in tqdm(range(2, N_iter)):\n",
    "\n",
    "    delta_gam = gammas[i - 1] - gammas[i - 2]\n",
    "    cor = geodesic_correction(gammas[i - 1], delta_gam)\n",
    "\n",
    "    natural_grad = calc_natural_gradient(gammas[i - 1])\n",
    "\n",
    "\n",
    "    gamma = gammas[i-1] - dt**2 * natural_grad +  (1 - kappa * dt) * delta_gam - cor\n",
    "    t = ts[i - 1] + dt\n",
    "\n",
    "    ts.append(t)\n",
    "    gammas.append(gamma)\n",
    "\n",
    "gammas = jnp.array(gammas)\n",
    "ts = jnp.array(ts)"
   ]
  },
  {
   "cell_type": "code",
   "execution_count": 94,
   "metadata": {},
   "outputs": [
    {
     "data": {
      "text/plain": [
       "Text(0.5, 1.0, 'Optimisation on the Bloch sphere: $H = -B\\\\,S^{(x)}$')"
      ]
     },
     "execution_count": 94,
     "metadata": {},
     "output_type": "execute_result"
    },
    {
     "data": {
      "image/png": "[encoded data removed]",
      "text/plain": [
       "<Figure size 640x480 with 1 Axes>"
      ]
     },
     "metadata": {},
     "output_type": "display_data"
    }
   ],
   "source": [
    "phis = jnp.linspace(jnp.pi/2, jnp.pi*3/2-1e-3)\n",
    "phis2 = jnp.linspace(0, jnp.pi/2-1e-3)\n",
    "phis3 = jnp.linspace(jnp.pi*3/2, jnp.pi*2)\n",
    "coef = 1 / jnp.tan(gammas[0][0])\n",
    "\n",
    "plt.plot(gammas[:,1], gammas[:, 0], color = \"C1\", marker = \".\", label = \"natural gradient with momentum\")\n",
    "plt.scatter(0, jnp.pi/2, label = \"ground state\")\n",
    "# plt.xlim(0, jnp.pi*2)\n",
    "plt.ylim(0, jnp.pi)\n",
    "plt.ylabel(\"$\\\\theta$\")\n",
    "plt.xlabel(\"$\\\\phi$\")\n",
    "plt.legend()\n",
    "plt.title(\"Optimisation on the Bloch sphere: $H = -B\\\\,S^{(x)}$\")"
   ]
  },
  {
   "cell_type": "markdown",
   "metadata": {},
   "source": [
    "---"
   ]
  }
 ],
 "metadata": {
  "kernelspec": {
   "display_name": ".venv",
   "language": "python",
   "name": "python3"
  },
  "language_info": {
   "codemirror_mode": {
    "name": "ipython",
    "version": 3
   },
   "file_extension": ".py",
   "mimetype": "text/x-python",
   "name": "python",
   "nbconvert_exporter": "python",
   "pygments_lexer": "ipython3",
   "version": "3.10.12"
  }
 },
 "nbformat": 4,
 "nbformat_minor": 2
}
