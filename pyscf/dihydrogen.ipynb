{
 "cells": [
  {
   "cell_type": "code",
   "execution_count": 90,
   "metadata": {},
   "outputs": [],
   "source": [
    "import pyscf\n",
    "from pyscf import gto, dft\n",
    "\n",
    "import numpy as np\n",
    "\n",
    "from matplotlib import pyplot as plt"
   ]
  },
  {
   "cell_type": "code",
   "execution_count": 112,
   "metadata": {},
   "outputs": [
    {
     "name": "stdout",
     "output_type": "stream",
     "text": [
      "converged SCF energy = -0.546516588395267\n",
      "converged SCF energy = -0.547402580346412\n",
      "converged SCF energy = -0.548265719564509\n",
      "converged SCF energy = -0.549106454515896\n",
      "converged SCF energy = -0.549925223691535\n",
      "converged SCF energy = -0.550722455867811\n",
      "converged SCF energy = -0.55149857036099\n",
      "converged SCF energy = -0.552253977275379\n",
      "converged SCF energy = -0.552989077745226\n",
      "converged SCF energy = -0.5537042641704\n",
      "converged SCF energy = -0.554399920445873\n",
      "converged SCF energy = -0.555076422185095\n",
      "converged SCF energy = -0.555734136937311\n",
      "converged SCF energy = -0.556373424398931\n",
      "converged SCF energy = -0.556994636619052\n",
      "converged SCF energy = -0.557598118199315\n",
      "converged SCF energy = -0.55818420648822\n",
      "converged SCF energy = -0.558753231770125\n",
      "converged SCF energy = -0.559305517449138\n",
      "converged SCF energy = -0.559841380228075\n",
      "converged SCF energy = -0.560361130282696\n",
      "converged SCF energy = -0.560865071431403\n",
      "converged SCF energy = -0.561353501300541\n",
      "converged SCF energy = -0.56182671148546\n",
      "converged SCF energy = -0.562284987707438\n",
      "converged SCF energy = -0.562728609966549\n",
      "converged SCF energy = -0.563157852690559\n",
      "converged SCF energy = -0.56357298487991\n",
      "converged SCF energy = -0.563974270248793\n",
      "converged SCF energy = -0.564361967362364\n",
      "converged SCF energy = -0.564736329770113\n",
      "converged SCF energy = -0.565097606135392\n",
      "converged SCF energy = -0.565446040361147\n",
      "converged SCF energy = -0.565781871711856\n",
      "converged SCF energy = -0.566105334931713\n",
      "converged SCF energy = -0.566416660359123\n",
      "converged SCF energy = -0.566716074037543\n",
      "converged SCF energy = -0.567003797822755\n",
      "converged SCF energy = -0.56728004948666\n",
      "converged SCF energy = -0.567545042817692\n",
      "converged SCF energy = -0.567798987717973\n",
      "converged SCF energy = -0.568042090297364\n",
      "converged SCF energy = -0.568274552964496\n",
      "converged SCF energy = -0.568496574515023\n",
      "converged SCF energy = -0.5687083502171\n",
      "converged SCF energy = -0.568910071894281\n",
      "converged SCF energy = -0.569101928005987\n",
      "converged SCF energy = -0.569284103725584\n",
      "converged SCF energy = -0.569456781016178\n",
      "converged SCF energy = -0.569620138704215\n",
      "converged SCF energy = -0.569774352550948\n",
      "converged SCF energy = -0.569919595321806\n",
      "converged SCF energy = -0.570056036853723\n",
      "converged SCF energy = -0.570183844120421\n",
      "converged SCF energy = -0.570303181295734\n",
      "converged SCF energy = -0.570414209814932\n",
      "converged SCF energy = -0.570517088434115\n",
      "converged SCF energy = -0.570611973287657\n",
      "converged SCF energy = -0.570699017943763\n",
      "converged SCF energy = -0.57077837345813\n",
      "converged SCF energy = -0.570850188425785\n",
      "converged SCF energy = -0.570914609031111\n",
      "converged SCF energy = -0.570971779096127\n",
      "converged SCF energy = -0.57102184012708\n",
      "converged SCF energy = -0.571064931359395\n",
      "converged SCF energy = -0.571101189801091\n",
      "converged SCF energy = -0.571130750274699\n",
      "converged SCF energy = -0.571153745457832\n",
      "converged SCF energy = -0.571170305922433\n",
      "converged SCF energy = -0.571180560172828\n",
      "converged SCF energy = -0.571184634682664\n",
      "converged SCF energy = -0.571182653930793\n",
      "converged SCF energy = -0.571174740436195\n",
      "converged SCF energy = -0.571161014791982\n",
      "converged SCF energy = -0.571141595698554\n",
      "converged SCF energy = -0.571116599995953\n",
      "converged SCF energy = -0.571086142695419\n",
      "converged SCF energy = -0.571050337010225\n",
      "converged SCF energy = -0.571009294385766\n",
      "converged SCF energy = -0.570963124528942\n",
      "converged SCF energy = -0.570911935436829\n",
      "converged SCF energy = -0.570855833424652\n",
      "converged SCF energy = -0.570794923153054\n",
      "converged SCF energy = -0.570729307654669\n",
      "converged SCF energy = -0.570659088359995\n",
      "converged SCF energy = -0.570584365122572\n",
      "converged SCF energy = -0.570505236243477\n",
      "converged SCF energy = -0.57042179849514\n",
      "converged SCF energy = -0.570334147144489\n",
      "converged SCF energy = -0.570242375975458\n",
      "converged SCF energy = -0.570146577310861\n",
      "converged SCF energy = -0.570046842033676\n",
      "converged SCF energy = -0.569943259607759\n",
      "converged SCF energy = -0.569835918098033\n",
      "converged SCF energy = -0.569724904190183\n",
      "converged SCF energy = -0.569610303209928\n",
      "converged SCF energy = -0.569492199141876\n",
      "converged SCF energy = -0.569370674648039\n",
      "converged SCF energy = -0.569245811086038\n",
      "converged SCF energy = -0.569117688527021\n"
     ]
    }
   ],
   "source": [
    "d = np.linspace(1.6, 2.4, num = 100)\n",
    "E = []\n",
    "\n",
    "for d_ in d:\n",
    "    mol = gto.M()\n",
    "    mol.nelectron = 1\n",
    "    mol.build(atom = \"H \"+ str(-d_/2) +\" 0 0; H \" + str(d_/2) + \" 0 0\", basis = 'sto-3g', unit = \"B\", spin = 1, symmetry=True)\n",
    "\n",
    "    mf = dft.RKS(mol)\n",
    "    mf.xc = \"lda,vwn\"\n",
    "    mf = mf.newton()\n",
    "    E.append(mf.kernel())"
   ]
  },
  {
   "cell_type": "code",
   "execution_count": 113,
   "metadata": {},
   "outputs": [
    {
     "data": {
      "text/plain": [
       "(-1.0, 0.0)"
      ]
     },
     "execution_count": 113,
     "metadata": {},
     "output_type": "execute_result"
    },
    {
     "data": {
      "image/png": "[encoded data removed]",
      "text/plain": [
       "<Figure size 640x480 with 1 Axes>"
      ]
     },
     "metadata": {},
     "output_type": "display_data"
    }
   ],
   "source": [
    "plt.plot(d, E)\n",
    "\n",
    "plt.ylim(-1, 0)"
   ]
  },
  {
   "cell_type": "code",
   "execution_count": 117,
   "metadata": {},
   "outputs": [
    {
     "data": {
      "text/plain": [
       "-0.5711846346826639"
      ]
     },
     "execution_count": 117,
     "metadata": {},
     "output_type": "execute_result"
    }
   ],
   "source": [
    "np.min(E)"
   ]
  },
  {
   "cell_type": "code",
   "execution_count": 116,
   "metadata": {},
   "outputs": [
    {
     "data": {
      "text/plain": [
       "2.1656565656565654"
      ]
     },
     "execution_count": 116,
     "metadata": {},
     "output_type": "execute_result"
    }
   ],
   "source": [
    "d[np.argmin(E)]"
   ]
  }
 ],
 "metadata": {
  "kernelspec": {
   "display_name": ".venv",
   "language": "python",
   "name": "python3"
  },
  "language_info": {
   "codemirror_mode": {
    "name": "ipython",
    "version": 3
   },
   "file_extension": ".py",
   "mimetype": "text/x-python",
   "name": "python",
   "nbconvert_exporter": "python",
   "pygments_lexer": "ipython3",
   "version": "3.8.10"
  }
 },
 "nbformat": 4,
 "nbformat_minor": 2
}
